{
 "cells": [
  {
   "cell_type": "markdown",
   "metadata": {},
   "source": [
    "# dev2 pde-sim\n",
    "Tim Tyree"
   ]
  },
  {
   "cell_type": "code",
   "execution_count": 1,
   "metadata": {
    "ExecuteTime": {
     "end_time": "2020-07-12T20:39:19.203568Z",
     "start_time": "2020-07-12T20:39:17.393771Z"
    }
   },
   "outputs": [],
   "source": [
    "import sys, os, time, numpy as np, pandas as pd\n",
    "import matplotlib.pyplot as plt\n",
    "from scipy.special import kn\n",
    "sys.path.append(os.path.abspath('../pde-sim-transfer/'))\n",
    "from pde_sim_worker import *\n",
    "import pde_sim_worker_hill as hill\n",
    "\n",
    "from pde_sim_grid_scan import *\n",
    "# import test_cases\n",
    "\n",
    "# load the autoreload extension\n",
    "%load_ext autoreload\n",
    "# Set extension to reload modules every time before executing code\n",
    "%autoreload 2"
   ]
  },
  {
   "cell_type": "code",
   "execution_count": 2,
   "metadata": {
    "ExecuteTime": {
     "end_time": "2020-07-12T20:39:20.495411Z",
     "start_time": "2020-07-12T20:39:20.463437Z"
    }
   },
   "outputs": [
    {
     "name": "stdout",
     "output_type": "stream",
     "text": [
      "notebook is at: /Users/timothytyree/Documents/GitHub/radial_cell_motion/pde-sim/nb\n"
     ]
    }
   ],
   "source": [
    "beep = lambda x: os.system(\"echo -n '\\a';sleep 0.2;\" * x)\n",
    "if not 'nb_dir' in globals():\n",
    "    nb_dir = os.getcwd()\n",
    "print('notebook is at: ' + nb_dir)\n",
    "\n",
    "transfer_dir = f\"{nb_dir}/../pde-sim-transfer\"\n",
    "os.chdir(transfer_dir)"
   ]
  },
  {
   "cell_type": "markdown",
   "metadata": {
    "heading_collapsed": true
   },
   "source": [
    "# unhelpful RK4 implementation\n",
    "runge-kutte-4.  numerical time steps for sharp changes are not handled at time scales of dt=0.01 --> not worth it for pde-sim"
   ]
  },
  {
   "cell_type": "code",
   "execution_count": 3,
   "metadata": {
    "hidden": true
   },
   "outputs": [],
   "source": [
    "import numpy as np\n",
    "k = 1\n",
    "def f(t,y):\n",
    "    '''time_step for decay of x at a rate k modulated with sinusoidal source.'''\n",
    "    return -k*(y+np.sin(t/(2*np.pi)))"
   ]
  },
  {
   "cell_type": "code",
   "execution_count": 6,
   "metadata": {
    "hidden": true
   },
   "outputs": [],
   "source": [
    "def time_step_rk4(t,y,h,f):\n",
    "    '''runge-kutta-4 explicit time step.'''\n",
    "    k1 = f(t,y)\n",
    "    k2 = f(t+h/2, y+h*k1/2)\n",
    "    k3 = f(t+h/2, y+h*k2/2)\n",
    "    k4 = f(t+h,y+h*k3)\n",
    "    dcdt = (k1+2*k2+2*k3+k4)/6\n",
    "    return dcdt"
   ]
  },
  {
   "cell_type": "code",
   "execution_count": 36,
   "metadata": {
    "hidden": true
   },
   "outputs": [],
   "source": [
    "assert(f(2,3).all())\n",
    "# assert()\n",
    "retval = time_step_rk4(2,3,.01,f)\n"
   ]
  },
  {
   "cell_type": "code",
   "execution_count": 37,
   "metadata": {
    "hidden": true
   },
   "outputs": [
    {
     "data": {
      "text/plain": [
       "-2.462787961200638"
      ]
     },
     "execution_count": 37,
     "metadata": {},
     "output_type": "execute_result"
    }
   ],
   "source": [
    "retval"
   ]
  },
  {
   "cell_type": "markdown",
   "metadata": {
    "hidden": true
   },
   "source": []
  },
  {
   "cell_type": "code",
   "execution_count": 33,
   "metadata": {
    "hidden": true
   },
   "outputs": [
    {
     "data": {
      "text/plain": [
       "0.006666666666666667"
      ]
     },
     "execution_count": 33,
     "metadata": {},
     "output_type": "execute_result"
    }
   ],
   "source": [
    ".1/15"
   ]
  },
  {
   "cell_type": "code",
   "execution_count": 3,
   "metadata": {
    "hidden": true
   },
   "outputs": [
    {
     "ename": "NameError",
     "evalue": "name 'time_step_rk4' is not defined",
     "output_type": "error",
     "traceback": [
      "\u001b[0;31m---------------------------------------------------------------------------\u001b[0m",
      "\u001b[0;31mNameError\u001b[0m                                 Traceback (most recent call last)",
      "\u001b[0;32m<ipython-input-3-9b871c9ca020>\u001b[0m in \u001b[0;36m<module>\u001b[0;34m\u001b[0m\n\u001b[1;32m      1\u001b[0m \u001b[0;31m# retval =\u001b[0m\u001b[0;34m\u001b[0m\u001b[0;34m\u001b[0m\u001b[0;34m\u001b[0m\u001b[0m\n\u001b[0;32m----> 2\u001b[0;31m \u001b[0mprint\u001b[0m\u001b[0;34m(\u001b[0m\u001b[0mtime_step_rk4\u001b[0m\u001b[0;34m(\u001b[0m\u001b[0;36m2\u001b[0m\u001b[0;34m,\u001b[0m\u001b[0;36m3\u001b[0m\u001b[0;34m,\u001b[0m\u001b[0;36m.05\u001b[0m\u001b[0;34m,\u001b[0m\u001b[0mf\u001b[0m\u001b[0;34m)\u001b[0m\u001b[0;34m-\u001b[0m\u001b[0mf\u001b[0m\u001b[0;34m(\u001b[0m\u001b[0;36m2\u001b[0m\u001b[0;34m,\u001b[0m\u001b[0;36m3\u001b[0m\u001b[0;34m)\u001b[0m\u001b[0;34m)\u001b[0m\u001b[0;34m\u001b[0m\u001b[0;34m\u001b[0m\u001b[0m\n\u001b[0m",
      "\u001b[0;31mNameError\u001b[0m: name 'time_step_rk4' is not defined"
     ]
    }
   ],
   "source": [
    "# retval = \n",
    "print(time_step_rk4(2,3,.05,f)-f(2,3))"
   ]
  },
  {
   "cell_type": "code",
   "execution_count": null,
   "metadata": {
    "hidden": true
   },
   "outputs": [],
   "source": [
    "#DONE: copy to the cloud!\n",
    "#DONE: run on the cloud!!\n",
    "#DONE: test mg source\n",
    "#DONE: make df from output"
   ]
  },
  {
   "cell_type": "markdown",
   "metadata": {
    "heading_collapsed": true
   },
   "source": [
    "# grid_search record"
   ]
  },
  {
   "cell_type": "code",
   "execution_count": 5,
   "metadata": {
    "hidden": true
   },
   "outputs": [],
   "source": [
    "#test case\n",
    "save_fn = 'test.csv'\n",
    "df = grid_to_df(\n",
    "    kgrid=[0.02],\n",
    "    Lgrid=[100.0],\n",
    "    c0grid=[4],\n",
    "    Tgrid=[21,10],\n",
    "    itnogrid=[2],\n",
    "    dtgrid=[0.005],\n",
    "    trgrid=[10],\n",
    ")\n",
    "df.to_csv(save_fn, header=False,sep=' ', index=False)\n",
    "shutil.copy(save_fn, save_fn.split('.')[0]+'.dat')\n",
    "os.remove(save_fn)"
   ]
  },
  {
   "cell_type": "code",
   "execution_count": 6,
   "metadata": {
    "hidden": true
   },
   "outputs": [
    {
     "name": "stdout",
     "output_type": "stream",
     "text": [
      "making a (Nk,NL,Nc0) = 20x20x10 grid search.\n",
      "estimated run time would be 6000.00 minutes with 1cpu,\n",
      "600.00 minutes with 10cpu,\n",
      "60.00 minutes with 100cpu,\n",
      "6.00 minutes with 1000cpu\n"
     ]
    }
   ],
   "source": [
    "kgrid = np.geomspace(10**-4,10**0,5*4)\n",
    "Lgrid = np.geomspace(10**0,10**3,5*4)\n",
    "c0grid= list(np.arange(0,7))\n",
    "c0grid.append(12)\n",
    "c0grid.append(20)\n",
    "c0grid.append(30)\n",
    "c0grid= np.array(c0grid)\n",
    "print(f\"making a (Nk,NL,Nc0) = {kgrid.size}x{Lgrid.size}x{c0grid.size} grid search.\")\n",
    "sample_size = kgrid.size*Lgrid.size*c0grid.size\n",
    "ert = sample_size*1.5 #minutes\n",
    "print(f\"\"\"estimated run time would be {ert:2.2f} minutes with 1cpu,\n",
    "{ert/10:2.2f} minutes with 10cpu,\n",
    "{ert/100:2.2f} minutes with 100cpu,\n",
    "{ert/1000:2.2f} minutes with 1000cpu\"\"\")"
   ]
  },
  {
   "cell_type": "code",
   "execution_count": 8,
   "metadata": {
    "hidden": true
   },
   "outputs": [],
   "source": [
    "#run 1 ert 6 minutes with 1000 cpus.  20x20x10 grid search\n",
    "df = grid_to_df(\n",
    "    kgrid=kgrid,\n",
    "    Lgrid=Lgrid,\n",
    "    c0grid=c0grid,\n",
    "    Tgrid=[21,10],\n",
    "    itnogrid=[8],\n",
    "    dtgrid=[0.0005],\n",
    "    trgrid=[10],\n",
    ")\n",
    "save_fn = 'run_4.csv'\n",
    "df.to_csv(save_fn, header=False,sep=' ', index=False)\n",
    "shutil.copy(save_fn, save_fn.split('.')[0]+'.dat')\n",
    "os.remove(save_fn)"
   ]
  },
  {
   "cell_type": "code",
   "execution_count": 32,
   "metadata": {
    "hidden": true
   },
   "outputs": [],
   "source": [
    "#start another run to probe period/background dependence\n",
    "# same kgrid and Lgrid\n",
    "kgrid = np.geomspace(10**-4,10**0,5*4)\n",
    "Lgrid = np.geomspace(10**0,10**3,5*4)\n",
    "c0grid = [0,2,3,3.5,4,5]\n",
    "Tgrid = [12, 16, 19, 24]\n",
    "df = grid_to_df(\n",
    "    kgrid=kgrid,\n",
    "    Lgrid=Lgrid,\n",
    "    c0grid=c0grid,\n",
    "    Tgrid=Tgrid,\n",
    "    itnogrid=[4],\n",
    "    dtgrid=[0.005],\n",
    "    trgrid=[10],\n",
    ")\n",
    "save_fn = 'run_5.csv'\n",
    "df.to_csv(save_fn, header=False,sep=' ', index=False)\n",
    "shutil.copy(save_fn, save_fn.split('.')[0]+'.dat')\n",
    "os.remove(save_fn)"
   ]
  },
  {
   "cell_type": "code",
   "execution_count": 34,
   "metadata": {
    "hidden": true
   },
   "outputs": [],
   "source": [
    "#start another run to probe period/background dependence\n",
    "# same kgrid and Lgrid\n",
    "kgrid = np.geomspace(10**-4,10**0,5*4)\n",
    "Lgrid = np.geomspace(10**0,10**3,5*4)\n",
    "[0,2,3,3.5,4,5]\n",
    "c0grid = [6,8,10,12, 20, 30]\n",
    "Tgrid = [12, 16, 19, 24]\n",
    "df = grid_to_df(\n",
    "    kgrid=kgrid,\n",
    "    Lgrid=Lgrid,\n",
    "    c0grid=c0grid,\n",
    "    Tgrid=Tgrid,\n",
    "    itnogrid=[4],\n",
    "    dtgrid=[0.005],\n",
    "    trgrid=[10],\n",
    ")\n",
    "save_fn = 'run_6_prime.csv'\n",
    "df.to_csv(save_fn, header=False,sep=' ', index=False)\n",
    "shutil.copy(save_fn, save_fn.split('.')[0]+'.dat')\n",
    "os.remove(save_fn)"
   ]
  },
  {
   "cell_type": "code",
   "execution_count": 22,
   "metadata": {
    "hidden": true
   },
   "outputs": [
    {
     "name": "stdout",
     "output_type": "stream",
     "text": [
      "current length of Tc0grid\n",
      "72\n",
      "target length of Tc0grid\n",
      "25.0\n"
     ]
    }
   ],
   "source": [
    "print(\"current length of Tc0grid\")\n",
    "print(len([0,2,3,3.5,4,5,6,7,8,9,10,11,12, 20, 30, 40, 70, 100])*4)\n",
    "print(\"target length of Tc0grid\")\n",
    "print(len([0,2,3,3.5,4,5,6,7,8,9,10,11,12, 20, 30, 40, 70, 100])*4/2.88)"
   ]
  },
  {
   "cell_type": "code",
   "execution_count": 30,
   "metadata": {
    "hidden": true
   },
   "outputs": [
    {
     "name": "stdout",
     "output_type": "stream",
     "text": [
      "potential length of Tc0grid\n"
     ]
    },
    {
     "data": {
      "text/plain": [
       "24"
      ]
     },
     "execution_count": 30,
     "metadata": {},
     "output_type": "execute_result"
    }
   ],
   "source": [
    "print(\"potential length of Tc0grid\")\n",
    "len([0,2,3,3.5,4,5])*4"
   ]
  },
  {
   "cell_type": "markdown",
   "metadata": {
    "heading_collapsed": true
   },
   "source": [
    "# make grid search .dat files that use Hill degradation models from Bader (2007)"
   ]
  },
  {
   "cell_type": "code",
   "execution_count": 4,
   "metadata": {
    "hidden": true
   },
   "outputs": [
    {
     "name": "stdout",
     "output_type": "stream",
     "text": [
      "20\n",
      "20\n"
     ]
    },
    {
     "data": {
      "text/plain": [
       "400"
      ]
     },
     "execution_count": 4,
     "metadata": {},
     "output_type": "execute_result"
    }
   ],
   "source": [
    "kgrid = np.geomspace(10**-4,10**0,5*4)\n",
    "Lgrid = np.geomspace(10**0,10**3,5*4)\n",
    "print(kgrid.size)\n",
    "print(Lgrid.size)\n",
    "20*20"
   ]
  },
  {
   "cell_type": "code",
   "execution_count": 4,
   "metadata": {
    "hidden": true
   },
   "outputs": [
    {
     "name": "stdout",
     "output_type": "stream",
     "text": [
      "CPU times: user 214 ms, sys: 7.74 ms, total: 221 ms\n",
      "Wall time: 224 ms\n"
     ]
    }
   ],
   "source": [
    "%%time\n",
    "#start another run to probe period/background dependence\n",
    "# same kgrid and Lgrid\n",
    "kgrid = np.geomspace(10**-4,10**0,5*4)\n",
    "Lgrid = np.geomspace(10**0,10**3,5*4)\n",
    "c0grid = [0,1,2,3,4,5,6, 12, 20, 70]\n",
    "Tgrid = [21]\n",
    "df = grid_to_df(\n",
    "    kgrid=kgrid,\n",
    "    Lgrid=Lgrid,\n",
    "    c0grid=c0grid,\n",
    "    Tgrid=Tgrid,\n",
    "    itnogrid=[4],\n",
    "    dtgrid=[0.005],\n",
    "    trgrid=[10],\n",
    "    modegrid = [1,7,4],\n",
    ")\n",
    "save_fn = 'run_Hill_1a.csv'\n",
    "df.to_csv(save_fn, header=False,sep=' ', index=False)\n",
    "shutil.copy(save_fn, save_fn.split('.')[0]+'.dat')\n",
    "os.remove(save_fn)\n",
    "\n",
    "#start another run to probe period/background dependence\n",
    "# same kgrid and Lgrid\n",
    "kgrid = np.geomspace(10**-4,10**0,5*4)\n",
    "Lgrid = np.geomspace(10**0,10**3,5*4)\n",
    "c0grid = [0,1,2,3,4,5,6, 12, 20, 70]\n",
    "Tgrid = [10]\n",
    "df = grid_to_df(\n",
    "    kgrid=kgrid,\n",
    "    Lgrid=Lgrid,\n",
    "    c0grid=c0grid,\n",
    "    Tgrid=Tgrid,\n",
    "    itnogrid=[4],\n",
    "    dtgrid=[0.005],\n",
    "    trgrid=[10],\n",
    "    modegrid = [1,7,4],\n",
    ")\n",
    "save_fn = 'run_Hill_1b.csv'\n",
    "df.to_csv(save_fn, header=False,sep=' ', index=False)\n",
    "shutil.copy(save_fn, save_fn.split('.')[0]+'.dat')\n",
    "os.remove(save_fn)"
   ]
  },
  {
   "cell_type": "code",
   "execution_count": 41,
   "metadata": {
    "hidden": true
   },
   "outputs": [
    {
     "data": {
      "text/plain": [
       "24000"
      ]
     },
     "execution_count": 41,
     "metadata": {},
     "output_type": "execute_result"
    }
   ],
   "source": [
    "#QUICK FIX to max job submision size, use multiple submits\n",
    "len(df.c0.values)"
   ]
  },
  {
   "cell_type": "markdown",
   "metadata": {
    "heading_collapsed": true
   },
   "source": [
    "# bash task automation"
   ]
  },
  {
   "cell_type": "markdown",
   "metadata": {
    "heading_collapsed": true
   },
   "source": [
    "# scp the whole pde-sim-transfer folder to the open science grid"
   ]
  },
  {
   "cell_type": "code",
   "execution_count": 43,
   "metadata": {
    "hidden": true
   },
   "outputs": [
    {
     "name": "stdout",
     "output_type": "stream",
     "text": [
      "usage: scp [-346BCpqrv] [-c cipher] [-F ssh_config] [-i identity_file]\n",
      "           [-l limit] [-o ssh_option] [-P port] [-S program] source ... target\n"
     ]
    }
   ],
   "source": [
    "!scp "
   ]
  },
  {
   "cell_type": "code",
   "execution_count": 51,
   "metadata": {
    "hidden": true
   },
   "outputs": [
    {
     "name": "stdout",
     "output_type": "stream",
     "text": [
      "Password:\n"
     ]
    }
   ],
   "source": [
    "os.chdir(nb_dir)\n",
    "!sudo ./synch_whole_transfer.sh"
   ]
  },
  {
   "cell_type": "code",
   "execution_count": null,
   "metadata": {
    "hidden": true
   },
   "outputs": [],
   "source": [
    "#!/usr/bin/bash\n",
    "scp -r ../pde-sim-transfer TimtheTyrant@login05.osgconnect.net:~\n",
    "scp -r TimtheTyrant@login05.osgconnect.net:~/pde-sim-transfer ../pde-sim-transfer \n",
    "\n"
   ]
  },
  {
   "cell_type": "markdown",
   "metadata": {
    "heading_collapsed": true
   },
   "source": [
    "# debugging hill degradation simulation"
   ]
  },
  {
   "cell_type": "code",
   "execution_count": 56,
   "metadata": {
    "hidden": true
   },
   "outputs": [],
   "source": [
    "#initialize\n",
    "#  make the mesh\n",
    "r0   = 50. #um\n",
    "Lr   = 1000.#um\n",
    "dr   = 1.  #um\n",
    "dt   = 0.0005#sec \n",
    "rmesh= np.arange(r0,Lr+dr,dr)\n",
    "c    = 0.*rmesh\n",
    "#  define default parameters\n",
    "F0   = 10**4\n",
    "D    = 100.#um^2/s\n",
    "ds   = 0.1/15#nM/µm\n",
    "kPDE = 1\n",
    "# @np.vectorize\n",
    "def get_Hill_degradation_term(c,pde,kPDE,b,h):\n",
    "    '''let overall scale of degradation still vary as kPDE.'''\n",
    "#     return -kPDE*np.divide(np.multiply(pde,c**(h-1.)),(b**h+c**h)) if c>0 else 0\n",
    "    boo = c>0\n",
    "    out = 0*c\n",
    "    out[boo] = -kPDE*np.divide(np.multiply(pde[boo],c[boo]**(h-1.)),(b**h+c[boo]**h))\n",
    "    return out\n",
    "\n",
    "# initialize with numpy signatures to speed up to about twice the previous run time (original mode==0 case) \n",
    "mesh_size = len(rmesh)\n",
    "degrade = np.vectorize(lambda c,pde:get_Hill_degradation_term(c,pde,kPDE=kPDE,b=b,h=h),\n",
    "    signature = f\"({mesh_size}),({mesh_size})->({mesh_size})\")\n"
   ]
  },
  {
   "cell_type": "code",
   "execution_count": 59,
   "metadata": {
    "hidden": true
   },
   "outputs": [
    {
     "name": "stdout",
     "output_type": "stream",
     "text": [
      "CPU times: user 9.92 ms, sys: 1.39 ms, total: 11.3 ms\n",
      "Wall time: 10.1 ms\n"
     ]
    }
   ],
   "source": [
    "%%time\n",
    "for i in range(100):\n",
    "    time_step(c=c, pde=c, rmesh=rmesh, D=D, kPDE=.2, dr=dr, fluxLeft=0, fluxRight=0)"
   ]
  },
  {
   "cell_type": "code",
   "execution_count": 60,
   "metadata": {
    "hidden": true
   },
   "outputs": [
    {
     "name": "stdout",
     "output_type": "stream",
     "text": [
      "CPU times: user 22.4 ms, sys: 1.28 ms, total: 23.7 ms\n",
      "Wall time: 22.5 ms\n"
     ]
    }
   ],
   "source": [
    "%%time\n",
    "for i in range(100):\n",
    "    hill.time_step(c=c, pde=c, rmesh=rmesh, D=D, kPDE=.2, dr=dr, h=h, b=b, degrade=degrade(c,c), fluxLeft=0, fluxRight=0)"
   ]
  },
  {
   "cell_type": "code",
   "execution_count": 62,
   "metadata": {
    "hidden": true
   },
   "outputs": [],
   "source": [
    "# retval =     hill.time_step(c=rmesh, pde=c+1, rmesh=rmesh, D=D, kPDE=.2, dr=dr, h=h, b=b, fluxLeft=0, fluxRight=0)\n",
    "# print(retval)"
   ]
  },
  {
   "cell_type": "markdown",
   "metadata": {
    "hidden": true
   },
   "source": [
    "## time step of 0.005 appears valid"
   ]
  },
  {
   "cell_type": "code",
   "execution_count": 71,
   "metadata": {
    "hidden": true
   },
   "outputs": [
    {
     "name": "stdout",
     "output_type": "stream",
     "text": [
      "Printing Inputs:\n",
      "kPDE:0.2 LPDE:100 c0:4 T:10 iter_no:2 dt:0.0005 time_res:10 mode:PDE1\n",
      "\n",
      "Printing Outputs including mean cell direction (mcd):\n",
      "cycle_no,mean_c,mcd_at_100,mcd_at_200,mcd_at_300,mcd_at_400,mcd_at_500,mcd_at_800\n",
      "0,6.13741,-0.53333,-0.50000,-0.58333,-0.50000,-0.36667,0.00000\n",
      "1,8.43336,-0.76667,-0.75000,-0.79167,-0.75000,-0.68333,0.00000\n",
      "CPU times: user 8min 46s, sys: 299 ms, total: 8min 46s\n",
      "Wall time: 8min 47s\n"
     ]
    }
   ],
   "source": [
    "%%time \n",
    "retval = hill.simulate(kPDE=0.2, LPDE=100, c0=4, T=10, iter_no=2, dt=0.0005, time_res=10, mode='PDE1')"
   ]
  },
  {
   "cell_type": "code",
   "execution_count": 70,
   "metadata": {
    "hidden": true
   },
   "outputs": [
    {
     "name": "stdout",
     "output_type": "stream",
     "text": [
      "Printing Inputs:\n",
      "kPDE:0.2 LPDE:100 c0:4 T:10 iter_no:2 dt:0.005 time_res:10 mode:PDE1\n",
      "\n",
      "Printing Outputs including mean cell direction (mcd):\n",
      "cycle_no,mean_c,mcd_at_100,mcd_at_200,mcd_at_300,mcd_at_400,mcd_at_500,mcd_at_800\n",
      "0,6.13740,-0.53333,-0.50000,-0.58333,-0.50000,-0.36667,0.00000\n",
      "1,8.43335,-0.76667,-0.75000,-0.79167,-0.75000,-0.68333,0.00000\n",
      "CPU times: user 54.6 s, sys: 79.2 ms, total: 54.6 s\n",
      "Wall time: 54.7 s\n"
     ]
    }
   ],
   "source": [
    "%%time \n",
    "retval = hill.simulate(kPDE=0.2, LPDE=100, c0=4, T=10, iter_no=2, dt=0.005, time_res=10, mode='PDE1')"
   ]
  },
  {
   "cell_type": "code",
   "execution_count": 69,
   "metadata": {
    "hidden": true
   },
   "outputs": [
    {
     "name": "stdout",
     "output_type": "stream",
     "text": [
      "Printing Inputs:\n",
      "kPDE:0.2 LPDE:100 c0:4 T:10 iter_no:2 dt:0.01 time_res:10 mode:PDE1\n",
      "\n",
      "Printing Outputs including mean cell direction (mcd):\n",
      "cycle_no,mean_c,mcd_at_100,mcd_at_200,mcd_at_300,mcd_at_400,mcd_at_500,mcd_at_800\n",
      "0,nan,0.00000,0.00000,0.00000,0.00000,0.00000,0.00000\n",
      "1,nan,0.00000,0.00000,0.00000,0.00000,0.00000,0.00000\n",
      "CPU times: user 23 s, sys: 52.9 ms, total: 23 s\n",
      "Wall time: 23 s\n"
     ]
    }
   ],
   "source": [
    "%%time \n",
    "retval = hill.simulate(kPDE=0.2, LPDE=100, c0=4, T=10, iter_no=2, dt=0.01, time_res=10, mode='PDE1')"
   ]
  },
  {
   "cell_type": "code",
   "execution_count": null,
   "metadata": {
    "hidden": true
   },
   "outputs": [
    {
     "name": "stdout",
     "output_type": "stream",
     "text": [
      "Printing Inputs:\n",
      "kPDE:0.2 LPDE:100 c0:4 T:10 iter_no:2 dt:5e-05 time_res:10 mode:PDE1\n",
      "\n",
      "Printing Outputs including mean cell direction (mcd):\n",
      "cycle_no,mean_c,mcd_at_100,mcd_at_200,mcd_at_300,mcd_at_400,mcd_at_500,mcd_at_800\n"
     ]
    }
   ],
   "source": [
    "%%time \n",
    "retval = hill.simulate(kPDE=0.2, LPDE=100, c0=4, T=10, iter_no=2, dt=0.00005, time_res=10, mode='PDE1')"
   ]
  },
  {
   "cell_type": "code",
   "execution_count": null,
   "metadata": {
    "hidden": true
   },
   "outputs": [],
   "source": [
    "beep(3)"
   ]
  },
  {
   "cell_type": "markdown",
   "metadata": {
    "heading_collapsed": true
   },
   "source": [
    "# TODO: b.o.e. estimate for how much faster cython (or using a numpy signature) would need to make the degradation term about as fast as the original degradation term. 39/9 ~= 4"
   ]
  },
  {
   "cell_type": "code",
   "execution_count": null,
   "metadata": {
    "hidden": true
   },
   "outputs": [],
   "source": []
  },
  {
   "cell_type": "code",
   "execution_count": 89,
   "metadata": {
    "hidden": true
   },
   "outputs": [],
   "source": []
  },
  {
   "cell_type": "code",
   "execution_count": 103,
   "metadata": {
    "hidden": true
   },
   "outputs": [],
   "source": [
    "# @np.vectorize\n",
    "# def get_Hill_degradation_term(kPDE,c,b,h,pde):\n",
    "# \t'''let overall scale of degradation still vary as kPDE.'''\n",
    "# \treturn -kPDE*np.divide(np.multiply(pde,c**(h-1.)),(b**h+c**h)) if c>0 else 0"
   ]
  },
  {
   "cell_type": "code",
   "execution_count": 5,
   "metadata": {
    "hidden": true
   },
   "outputs": [],
   "source": [
    "#test case for hill degradation term\n",
    "h=0.8\n",
    "c = np.arange(50,1000,1)\n",
    "b = 0.75\n",
    "assert(len(list(hill.get_Hill_degradation_term(1,c,1,1,c)))==len(list(c)))"
   ]
  },
  {
   "cell_type": "markdown",
   "metadata": {
    "heading_collapsed": true
   },
   "source": [
    "# TODO: stamp a given file with my kaboudian's stamp with my details using python \n",
    "* DONE: checked if an easy solution obviously exists.\n",
    "* TODO: copy Kaboudian's stamp below,\n",
    "* TODO: update the date and time automatically\n",
    "* TODO: insert stamp into the !touch test.meh \n",
    " -- don't overwrite a shebang if it exists\n",
    " -- replace any preexisting stamp, don't make two!\n",
    "* TODO: add CLI<br>\n",
    "* TODO: add option for recursive execution<br>\n",
    "* TODO: put it all in !mkdir ~/Tasks and alias it to be called by \n",
    "!stamp -r path/to/folder/\n",
    "!stamp file_name \"test description\"\n",
    "!stamp file_name\n",
    "^that last one should default to the current description or no description\n",
    "\n",
    "### TODO(black hat task): trivialize target executables recursively\n",
    "- make a similar command line interface to prepend the do-nothing shebang to a given file\n",
    "- make a command that (recursively) finds all executables that I have write permissions to."
   ]
  },
  {
   "cell_type": "markdown",
   "metadata": {
    "heading_collapsed": true
   },
   "source": [
    "# simplify the time step for wouter"
   ]
  },
  {
   "cell_type": "code",
   "execution_count": 8,
   "metadata": {
    "ExecuteTime": {
     "end_time": "2020-07-09T01:39:47.948694Z",
     "start_time": "2020-07-09T01:39:47.946187Z"
    },
    "hidden": true
   },
   "outputs": [],
   "source": [
    "from numba import njit"
   ]
  },
  {
   "cell_type": "code",
   "execution_count": 9,
   "metadata": {
    "ExecuteTime": {
     "end_time": "2020-07-09T01:39:48.340646Z",
     "start_time": "2020-07-09T01:39:48.338154Z"
    },
    "hidden": true
   },
   "outputs": [],
   "source": [
    "from scipy.special import kn\n",
    "import numpy as np"
   ]
  },
  {
   "cell_type": "code",
   "execution_count": 18,
   "metadata": {
    "ExecuteTime": {
     "end_time": "2020-07-09T01:42:12.630514Z",
     "start_time": "2020-07-09T01:42:12.623090Z"
    },
    "hidden": true
   },
   "outputs": [
    {
     "ename": "ImportError",
     "evalue": "attempted relative import with no known parent package",
     "output_type": "error",
     "traceback": [
      "\u001b[0;31m---------------------------------------------------------------------------\u001b[0m",
      "\u001b[0;31mImportError\u001b[0m                               Traceback (most recent call last)",
      "\u001b[0;32m<ipython-input-18-11bacf8d15b2>\u001b[0m in \u001b[0;36m<module>\u001b[0;34m\u001b[0m\n\u001b[0;32m----> 1\u001b[0;31m \u001b[0;32mfrom\u001b[0m \u001b[0;34m...\u001b[0m\u001b[0mpde_sim_worker\u001b[0m \u001b[0;32mimport\u001b[0m \u001b[0;34m*\u001b[0m\u001b[0;34m\u001b[0m\u001b[0;34m\u001b[0m\u001b[0m\n\u001b[0m",
      "\u001b[0;31mImportError\u001b[0m: attempted relative import with no known parent package"
     ]
    }
   ],
   "source": [
    "from ...pde_sim_worker import *"
   ]
  },
  {
   "cell_type": "code",
   "execution_count": 22,
   "metadata": {
    "ExecuteTime": {
     "end_time": "2020-07-09T01:45:40.611602Z",
     "start_time": "2020-07-09T01:45:40.590301Z"
    },
    "hidden": true
   },
   "outputs": [],
   "source": [
    "T = 12\n",
    "r0   = 50. #um\n",
    "Lr   = 1000.#um\n",
    "dr   = 1.  #um\n",
    "c0 = 4 # nM\n",
    "LPDE = 100 #um\n",
    "Ts   = np.multiply(T,60.)#period of signal in seconds\n",
    "rmesh= np.arange(r0,Lr+dr,dr)\n",
    "\n",
    "#  define default parameters\n",
    "F0   = 10**4\n",
    "D    = 100.#um^2/s\n",
    "ds   =(0.1/15) #critical gradient of cell\n",
    "dt = 0.0001\n",
    "\n",
    "c = c0+0.*rmesh\n",
    "pde = kn(0,rmesh/LPDE)/kn(0,r0/LPDE)#cons\n",
    "\n",
    "kPDE = 0.02\n",
    "D = \n",
    "kPDE, LPDE, c0, T, iter_no, dt, time_res\n",
    "\n",
    "source_fn = 'mg_source_1987.csv'"
   ]
  },
  {
   "cell_type": "code",
   "execution_count": 24,
   "metadata": {
    "ExecuteTime": {
     "end_time": "2020-07-09T01:45:46.897557Z",
     "start_time": "2020-07-09T01:45:42.311134Z"
    },
    "hidden": true
   },
   "outputs": [],
   "source": [
    "#  precompute realistic periodic camp signaling\n",
    "t_list  = np.around(np.arange(0,Ts+dt,dt),4)\n",
    "spl     = import_mg_source(period=T)\n",
    "dsource = evaluate_mg_source(spl, t_list)\n",
    "phi     = lambda t: F0*dsource[np.around(t,4)]/rmesh[0]\n",
    "\n",
    "#cylindrical FEM with localized PDE decay\n",
    "# define b.c.'s in units of slope #concentration difference per time step\n",
    "fluxLeft = lambda t:phi(t%Ts)\n",
    "fluxRight= 0./rmesh[-1]\n"
   ]
  },
  {
   "cell_type": "code",
   "execution_count": 25,
   "metadata": {
    "ExecuteTime": {
     "end_time": "2020-07-09T01:46:02.697912Z",
     "start_time": "2020-07-09T01:46:02.655103Z"
    },
    "hidden": true
   },
   "outputs": [
    {
     "ename": "NameError",
     "evalue": "name 'kPDE' is not defined",
     "output_type": "error",
     "traceback": [
      "\u001b[0;31m---------------------------------------------------------------------------\u001b[0m",
      "\u001b[0;31mNameError\u001b[0m                                 Traceback (most recent call last)",
      "\u001b[0;32m<ipython-input-25-34c5e7856750>\u001b[0m in \u001b[0;36m<module>\u001b[0;34m\u001b[0m\n\u001b[0;32m----> 1\u001b[0;31m \u001b[0mtime_step\u001b[0m\u001b[0;34m(\u001b[0m\u001b[0mc\u001b[0m\u001b[0;34m,\u001b[0m \u001b[0mpde\u001b[0m\u001b[0;34m,\u001b[0m \u001b[0mrmesh\u001b[0m\u001b[0;34m,\u001b[0m \u001b[0mD\u001b[0m\u001b[0;34m,\u001b[0m \u001b[0mkPDE\u001b[0m\u001b[0;34m,\u001b[0m \u001b[0mdr\u001b[0m\u001b[0;34m,\u001b[0m \u001b[0mfluxLeft\u001b[0m\u001b[0;34m(\u001b[0m\u001b[0;36m0.005\u001b[0m\u001b[0;34m)\u001b[0m\u001b[0;34m,\u001b[0m \u001b[0mfluxRight\u001b[0m\u001b[0;34m=\u001b[0m\u001b[0;36m0\u001b[0m\u001b[0;34m)\u001b[0m\u001b[0;34m\u001b[0m\u001b[0;34m\u001b[0m\u001b[0m\n\u001b[0m",
      "\u001b[0;31mNameError\u001b[0m: name 'kPDE' is not defined"
     ]
    }
   ],
   "source": [
    "time_step(c, pde, rmesh, D, kPDE, dr, fluxLeft(0.005), fluxRight=0)\n"
   ]
  },
  {
   "cell_type": "code",
   "execution_count": 3,
   "metadata": {
    "ExecuteTime": {
     "end_time": "2020-07-12T20:39:23.127594Z",
     "start_time": "2020-07-12T20:39:23.089089Z"
    },
    "hidden": true
   },
   "outputs": [],
   "source": [
    "from pde_sim_returns_camp import *"
   ]
  },
  {
   "cell_type": "markdown",
   "metadata": {
    "hidden": true
   },
   "source": [
    "\n",
    "\n",
    "`python3 pde_sim_returns_camp.py 0.02 100.0 4.0 10.0 2.0 0.005 10.0`\n",
    "where \n",
    "- kPDE = 0.02/sec, \n",
    "- D = 100µm^2/sec, \n",
    "- c0 = 4.0nM, \n",
    "- T=10.0min, \n",
    "- iter_no = 2.0 # the number of pulses to integrate (tmax = iter_no*T)\n",
    "- dt = 0.005sec\n",
    "- time_res = 10.0min # the frequency data is printed."
   ]
  },
  {
   "cell_type": "markdown",
   "metadata": {
    "heading_collapsed": true
   },
   "source": [
    "# computing number of molecules as a function of time for constant fluxLeft\n",
    "7.12.2020"
   ]
  },
  {
   "cell_type": "code",
   "execution_count": 6,
   "metadata": {
    "ExecuteTime": {
     "end_time": "2020-07-12T20:41:12.009420Z",
     "start_time": "2020-07-12T20:41:04.860434Z"
    },
    "hidden": true
   },
   "outputs": [
    {
     "name": "stdout",
     "output_type": "stream",
     "text": [
      "Printing Inputs:\n",
      "kPDE:0.02 LPDE:100.0 c0:4.0 T:10 iter_no:2 dt:0.005 time_res:10\n",
      "\n",
      "Printing Outputs including mean cell direction (mcd):\n",
      "cycle_no,mean_c,mcd_at_100,mcd_at_200,mcd_at_300,mcd_at_400,mcd_at_500,mcd_at_800\n",
      "^C\n",
      "Traceback (most recent call last):\n",
      "  File \"pde_sim_returns_camp.py\", line 216, in <module>\n",
      "    retval = simulate(kPDE=kPDE, LPDE=LPDE, c0=c0, T=T, iter_no=iter_no, dt=dt, time_res = time_res)\n",
      "  File \"pde_sim_returns_camp.py\", line 159, in simulate\n",
      "    dcdt = time_step(c, pde, rmesh, D, kPDE, dr, fluxLeft(time))\n",
      "  File \"pde_sim_returns_camp.py\", line 98, in time_step\n",
      "    termBC = np.hstack([ fluxLeft , 0*c[1:-1] , fluxRight ])\n",
      "  File \"//anaconda3/lib/python3.7/site-packages/numpy/core/shape_base.py\", line 335, in hstack\n",
      "    arrs = [atleast_1d(_m) for _m in tup]\n",
      "  File \"//anaconda3/lib/python3.7/site-packages/numpy/core/shape_base.py\", line 335, in <listcomp>\n",
      "    arrs = [atleast_1d(_m) for _m in tup]\n",
      "  File \"//anaconda3/lib/python3.7/site-packages/numpy/core/shape_base.py\", line 66, in atleast_1d\n",
      "    for ary in arys:\n",
      "KeyboardInterrupt\n"
     ]
    }
   ],
   "source": [
    "!python3 pde_sim_returns_camp.py 0.02 100.0 4.0 10.0 2.0 0.005 10.0\n"
   ]
  },
  {
   "cell_type": "code",
   "execution_count": 29,
   "metadata": {
    "ExecuteTime": {
     "end_time": "2020-07-12T21:06:38.380244Z",
     "start_time": "2020-07-12T21:04:04.761185Z"
    },
    "hidden": true
   },
   "outputs": [
    {
     "name": "stdout",
     "output_type": "stream",
     "text": [
      "Printing Inputs:\n",
      "kPDE:0.0 LPDE:100.0 c0:4.0 T:10.0 iter_no:2.0 dt:0.005 time_res:10.0\n",
      "\n",
      "Printing Outputs including mean cell direction (mcd):\n",
      "cycle_no,mean_c,mcd_at_100,mcd_at_200,mcd_at_300,mcd_at_400,mcd_at_500,mcd_at_800\n",
      "0,16.03449,-1.00000,-0.98333,-0.93333,-0.85000,-0.73333,-0.13333\n",
      "1,28.06466,-1.00000,-0.99167,-0.96667,-0.92500,-0.86667,-0.56667\n",
      "the final radial cAMP field is:\n",
      "cAMP=\n",
      "[240.86192842 238.88212557 236.94116076 235.037562   233.16993994\n",
      " 231.33698157 229.53744502 227.77015414 226.03399441 224.32790814\n",
      " 222.65089133 221.00198937 219.38029464 217.7849426  216.21511008\n",
      " 214.67001164 213.14889839 211.6510546  210.175797   208.72247157\n",
      " 207.29045321 205.87914269 204.48796668 203.11637478 201.76383987\n",
      " 200.42985519 199.11393503 197.81561177 196.53443685 195.26997788\n",
      " 194.02181977 192.78956187 191.57281935 190.37122026 189.18440713\n",
      " 188.01203403 186.85376836 185.70928782 184.5782824  183.46045134\n",
      " 182.35550523 181.26316295 180.18315394 179.11521501 178.05909284\n",
      " 177.01454071 175.98132109 174.95920238 173.94796157 172.94738093\n",
      " 171.95725084 170.97736637 170.0075302  169.04754922 168.0972375\n",
      " 167.15641282 166.22489979 165.30252629 164.38912668 163.48453818\n",
      " 162.58860423 161.70117071 160.82208947 159.95121448 159.08840539\n",
      " 158.23352368 157.3864363  156.54701171 155.71512366 154.89064716\n",
      " 154.07346227 153.26345011 152.46049669 151.6644888  150.87531801\n",
      " 150.09287646 149.31706091 148.54776851 147.78490088 147.02835986\n",
      " 146.27805167 145.53388255 144.79576302 144.06360345 143.33731841\n",
      " 142.61682217 141.90203312 141.19286919 140.48925236 139.79110401\n",
      " 139.09834951 138.41091351 137.72872458 137.05171044 136.37980267\n",
      " 135.71293192 135.05103262 134.39403815 133.74188567 133.09451115\n",
      " 132.45185431 131.81385359 131.18045113 130.55158771 129.92720776\n",
      " 129.30725429 128.6916739  128.0804117  127.47341638 126.87063503\n",
      " 126.27201832 125.67751524 125.08707832 124.50065836 123.91820967\n",
      " 123.33968477 122.76503966 122.19422851 121.62720892 121.06393661\n",
      " 120.50437076 119.94846853 119.39619057 118.84749549 118.30234533\n",
      " 117.76070002 117.22252297 116.6877754  116.15642198 115.62842517\n",
      " 115.10375087 114.5823627  114.06422773 113.54931073 113.03757987\n",
      " 112.52900099 112.02354335 111.5211738  111.02186262 110.52557768\n",
      " 110.03229022 109.54196905 109.05458636 108.57011186 108.08851866\n",
      " 107.60977731 107.13386181 106.66074354 106.19039732 105.72279533\n",
      " 105.2579132  104.79572387 104.33620373 103.87932647 103.42506922\n",
      " 102.97340636 102.52431574 102.07777242 101.63375493 101.19223899\n",
      " 100.75320377 100.31662564  99.88248439  99.45075699  99.02142384\n",
      "  98.5944625   98.16985397  97.74757634  97.32761118  96.90993713\n",
      "  96.49453631  96.08138787  95.67047446  95.26177572  94.85527482\n",
      "  94.45095188  94.04879055  93.64877143  93.25087863  92.85509321\n",
      "  92.46139972  92.06977966  91.68021804  91.29269675  90.90720123\n",
      "  90.5237138   90.14222028  89.76270339  89.38514935  89.00954126\n",
      "  88.63586572  88.26410619  87.89424965  87.52627991  87.16018432\n",
      "  86.795947    86.43355566  86.07299478  85.71425238  85.35731325\n",
      "  85.00216574  84.64879497  84.2971896   83.94733503  83.59922023\n",
      "  83.2528309   82.90815631  82.56518243  82.22389882  81.88429172\n",
      "  81.54635097  81.21006307  80.87541813  80.54240291  80.21100778\n",
      "  79.88121974  79.55302943  79.22642409  78.90139458  78.57792839\n",
      "  78.25601662  77.93564699  77.61681082  77.29949605  76.98369425\n",
      "  76.66939354  76.35658572  76.04525912  75.73540575  75.42701415\n",
      "  75.12007652  74.81458161  74.51052181  74.20788605  73.90666694\n",
      "  73.60685359  73.30843877  73.0114118   72.71576563  72.42148974\n",
      "  72.12857727  71.83701787  71.54680484  71.25792801  70.97038084\n",
      "  70.68415333  70.3992391   70.11562829  69.83331471  69.55228863\n",
      "  69.27254403  68.99407131  68.71686461  68.44091449  68.16621521\n",
      "  67.89275748  67.62053572  67.34954076  67.07976716  66.81120589\n",
      "  66.54385164  66.27769551  66.01273232  65.74895331  65.48635343\n",
      "  65.22492402  64.96466017  64.70555335  64.44759875  64.19078798\n",
      "  63.93511634  63.68057554  63.42716102  63.1748646   62.92368181\n",
      "  62.6736046   62.42462861  62.17674589  61.92995219  61.68423965\n",
      "  61.43960416  61.19603793  60.95353695  60.71209356  60.47170382\n",
      "  60.23236018  59.99405881  59.75679222  59.5205567   59.28534486\n",
      "  59.05115306  58.81797402  58.58580417  58.35463633  58.12446703\n",
      "  57.89528916  57.66709934  57.43989054  57.21365948  56.98839919\n",
      "  56.76410649  56.5407745   56.31840009  56.09697647  55.8765006\n",
      "  55.65696576  55.43836898  55.22070363  55.00396682  54.78815196\n",
      "  54.57325626  54.35927321  54.14620006  53.93403039  53.72276153\n",
      "  53.51238711  53.30290454  53.09430752  52.88659351  52.6797563\n",
      "  52.4737934   52.26869866  52.06446966  51.86110032  51.65858829\n",
      "  51.45692753  51.25611576  51.056147    50.85701904  50.65872595\n",
      "  50.46126558  50.26463206  50.0688233   49.87383348  49.67966057\n",
      "  49.48629881  49.29374621  49.10199709  48.9110495   48.72089781\n",
      "  48.53154013  48.34297088  48.15518822  47.96818662  47.78196429\n",
      "  47.59651576  47.41183929  47.22792946  47.04478456  46.86239922\n",
      "  46.68077181  46.49989699  46.31977315  46.14039504  45.96176107\n",
      "  45.78386604  45.60670842  45.43028303  45.2545884   45.07961939\n",
      "  44.90537457  44.73184885  44.55904083  44.38694549  44.21556145\n",
      "  44.04488372  43.87491099  43.7056383   43.53706437  43.36918429\n",
      "  43.20199681  43.03549706  42.86968385  42.70455233  42.54010135\n",
      "  42.3763261   42.21322545  42.05079466  41.88903262  41.72793462\n",
      "  41.56749959  41.40772286  41.2486034   41.09013657  40.93232136\n",
      "  40.77515318  40.61863106  40.46275043  40.30751036  40.15290631\n",
      "  39.99893738  39.84559908  39.69289052  39.54080725  39.38934843\n",
      "  39.23850962  39.08829     38.93868519  38.78969439  38.64131325\n",
      "  38.49354099  38.3463733   38.19980944  38.0538451   37.90847959\n",
      "  37.76370864  37.61953156  37.47594413  37.33294568  37.19053202\n",
      "  37.0487025   36.90745297  36.7667828   36.62668786  36.48716756\n",
      "  36.3482178   36.209838    36.07202409  35.93477553  35.79808826\n",
      "  35.66196177  35.52639203  35.39137854  35.25691732  35.12300788\n",
      "  34.98964626  34.856832    34.72456117  34.59283332  34.46164455\n",
      "  34.33099444  34.20087911  34.07129816  33.94224773  33.81372745\n",
      "  33.68573348  33.55826547  33.4313196   33.30489556  33.17898954\n",
      "  33.05360123  32.92872687  32.80436617  32.68051539  32.55717424\n",
      "  32.43433902  32.31200947  32.19018189  32.06885604  31.94802825\n",
      "  31.82769831  31.70786256  31.58852079  31.46966939  31.35130816\n",
      "  31.23343351  31.11604525  30.99913982  30.88271705  30.76677338\n",
      "  30.65130868  30.5363194   30.42180543  30.30776324  30.19419273\n",
      "  30.08109041  29.96845616  29.85628654  29.74458144  29.63333743\n",
      "  29.52255443  29.41222902  29.30236112  29.19294736  29.08398767\n",
      "  28.97547867  28.86742033  28.75980929  28.65264551  28.54592567\n",
      "  28.43964975  28.33381444  28.22841972  28.12346231  28.01894221\n",
      "  27.91485615  27.81120414  27.70798293  27.60519255  27.50282978\n",
      "  27.40089463  27.29938391  27.19829765  27.09763267  26.99738902\n",
      "  26.89756354  26.79815628  26.6991641   26.60058707  26.50242205\n",
      "  26.40466914  26.30732522  26.21039037  26.11386152  26.01773876\n",
      "  25.92201901  25.82670238  25.73178583  25.63726946  25.54315025\n",
      "  25.4494283   25.35610062  25.26316733  25.17062544  25.07847507\n",
      "  24.98671327  24.89534016  24.80435279  24.71375132  24.6235328\n",
      "  24.53369739  24.44424218  24.35516732  24.26646991  24.17815013\n",
      "  24.09020509  24.00263496  23.91543688  23.82861104  23.74215458\n",
      "  23.65606769  23.57034755  23.48499434  23.40000526  23.31538051\n",
      "  23.23111728  23.14721579  23.06367326  22.98048989  22.89766294\n",
      "  22.81519261  22.73307616  22.65131381  22.56990284  22.48884347\n",
      "  22.40813299  22.32777164  22.24775672  22.16808846  22.0887642\n",
      "  22.00978417  21.93114572  21.85284907  21.77489161  21.69727357\n",
      "  21.61999233  21.54304813  21.46643839  21.39016333  21.31422039\n",
      "  21.23860981  21.16332902  21.08837828  21.01375504  20.93945955\n",
      "  20.86548929  20.79184451  20.7185227   20.64552411  20.57284625\n",
      "  20.50048939  20.42845104  20.35673146  20.2853282   20.21424152\n",
      "  20.14346896  20.07301082  20.00286463  19.9330307   19.86350658\n",
      "  19.79429257  19.72538626  19.65678792  19.58849518  19.52050831\n",
      "  19.45282494  19.38544535  19.3183672   19.25159076  19.18511369\n",
      "  19.11893629  19.05305622  18.98747378  18.92218665  18.85719514\n",
      "  18.79249694  18.72809235  18.66397908  18.60015744  18.53662515\n",
      "  18.47338252  18.41042729  18.34775977  18.28537771  18.22328143\n",
      "  18.16146868  18.09993979  18.03869254  17.97772724  17.91704169\n",
      "  17.85663621  17.7965086   17.73665918  17.67708579  17.61778873\n",
      "  17.55876585  17.50001747  17.44154144  17.38333809  17.32540527\n",
      "  17.26774332  17.21035012  17.15322599  17.09636882  17.03977894\n",
      "  16.98345427  16.92739512  16.87159942  16.8160675   16.76079729\n",
      "  16.70578912  16.65104095  16.59655309  16.54232352  16.48835257\n",
      "  16.43463821  16.38118077  16.32797825  16.27503097  16.22233694\n",
      "  16.16989649  16.11770765  16.06577073  16.01408378  15.96264712\n",
      "  15.91145881  15.86051917  15.80982626  15.75938041  15.70917971\n",
      "  15.65922447  15.60951279  15.56004499  15.51081919  15.4618357\n",
      "  15.41309264  15.36459035  15.31632695  15.26830276  15.22051595\n",
      "  15.17296682  15.12565354  15.07857643  15.03173367  14.98512558\n",
      "  14.93875035  14.89260829  14.84669762  14.80101864  14.75556958\n",
      "  14.71035075  14.66536039  14.6205988   14.57606424  14.53175702\n",
      "  14.4876754   14.44381969  14.40018816  14.35678112  14.31359687\n",
      "  14.2706357   14.22789593  14.18537785  14.14307979  14.10100204\n",
      "  14.05914293  14.01750278  13.97607991  13.93487464  13.89388532\n",
      "  13.85311224  13.81255378  13.77221023  13.73207999  13.69216333\n",
      "  13.65245866  13.61296628  13.57368459  13.53461388  13.49575258\n",
      "  13.45710098  13.41865752  13.38042247  13.34239429  13.30457328\n",
      "  13.26695788  13.22954838  13.19234327  13.15534282  13.11854551\n",
      "  13.08195164  13.0455597   13.00936997  12.97338097  12.93759296\n",
      "  12.90200448  12.86661581  12.83142548  12.79643376  12.76163921\n",
      "  12.7270421   12.69264099  12.65843615  12.62442616  12.59061129\n",
      "  12.55699012  12.52356292  12.4903283   12.45728651  12.42443617\n",
      "  12.39177754  12.35930925  12.32703156  12.29494311  12.26304414\n",
      "  12.23133333  12.19981091  12.16847556  12.13732752  12.10636547\n",
      "  12.07558967  12.0449988   12.0145931   11.98437129  11.95433361\n",
      "  11.92447876  11.89480699  11.86531704  11.83600913  11.80688201\n",
      "  11.77793591  11.74916959  11.72058327  11.69217573  11.6639472\n",
      "  11.63589645  11.6080237   11.58032776  11.55280884  11.52546575\n",
      "  11.49829871  11.47130653  11.44448943  11.41784625  11.39137719\n",
      "  11.36508109  11.33895817  11.31300729  11.28722864  11.26162109\n",
      "  11.23618486  11.21091882  11.18582317  11.1608968   11.13613991\n",
      "  11.1115514   11.08713148  11.06287904  11.0387943   11.01487617\n",
      "  10.99112484  10.96753926  10.94411961  10.92086485  10.89777514\n",
      "  10.87484947  10.85208801  10.82948973  10.80705481  10.78478225\n",
      "  10.76267221  10.74072369  10.71893687  10.69731075  10.67584551\n",
      "  10.65454017  10.63339488  10.6124087   10.59158177  10.57091315\n",
      "  10.55040299  10.53005036  10.5098554   10.4898172   10.46993589\n",
      "  10.45021056  10.43064137  10.4112274   10.3919688   10.37286468\n",
      "  10.35391517  10.3351194   10.31647751  10.29798862  10.27965286\n",
      "  10.26146939  10.24343833  10.22555883  10.20783102  10.19025407\n",
      "  10.1728281   10.15555229  10.13842676  10.12145069  10.10462421\n",
      "  10.08794651  10.07141771  10.05503702  10.03880454  10.02271951\n",
      "  10.00678202   9.99099132   9.97534751   9.95984982   9.94449837\n",
      "   9.92929241   9.91423203   9.89931651   9.88454593   9.86991958\n",
      "   9.85543755   9.84109912   9.82690438   9.81285264   9.79894398\n",
      "   9.78517771   9.77155391   9.7580719    9.74473176   9.73153283\n",
      "   9.71847518   9.70555815   9.69278182   9.68014554   9.66764937\n",
      "   9.65529269   9.64307556   9.63099736   9.61905814   9.60725729\n",
      "   9.59559488   9.5840703    9.57268361   9.56143421   9.55032215\n",
      "   9.53934687   9.52850839   9.51780616   9.50724022   9.49681002\n",
      "   9.48651558   9.47635637   9.46633241   9.45644319   9.44668872\n",
      "   9.43706848   9.42758251   9.41823028   9.40901183   9.39992664\n",
      "   9.39097475   9.38215566   9.37346938   9.36491544   9.35649385\n",
      "   9.34820414   9.34004632   9.33201992   9.32412496   9.31636099\n",
      "   9.30872801   9.30122558   9.29385369   9.28661193   9.27950029\n",
      "   9.27251835   9.26566609   9.25894313   9.25234943   9.24588462\n",
      "   9.23954866   9.23334118   9.22726215   9.2213112    9.21548831\n",
      "   9.20979311   9.20422558   9.19878536   9.19347242   9.18828641\n",
      "   9.18322731   9.17829477   9.17348876   9.16880896   9.16425533\n",
      "   9.15982755   9.15552557   9.15134909   9.14729807   9.14337221\n",
      "   9.13957146   9.13589554   9.13234438   9.12891772   9.1256155\n",
      "   9.12243745   9.11938351   9.11645343   9.11364714   9.1109644\n",
      "   9.10840513   9.10596912   9.10365626   9.10146636   9.09939933\n",
      "   9.09745495   9.09563314   9.09393371   9.09235656   9.09090151\n",
      "   9.08956846   9.08835723   9.08726773   9.08629978   9.08545329\n",
      "   9.08472809   9.08412409   9.08364112   9.08327909   9.08303786\n",
      "   9.08291731]\n"
     ]
    }
   ],
   "source": [
    "# kPDE     = 0.\n",
    "# LPDE     = 100.0\n",
    "# c0       = 4.0\n",
    "# T        = 10.0\n",
    "# iter_no  = 2.0\n",
    "# dt       = 0.005\n",
    "# time_res = 10.0\n",
    "\n",
    "retval = simulate(kPDE=0., LPDE=100.0, c0=4.0, T=10.0, iter_no=2.0, dt=0.005, time_res = 10.0, use_constant_fluxLeft=True);\n",
    "\n"
   ]
  },
  {
   "cell_type": "code",
   "execution_count": 30,
   "metadata": {
    "ExecuteTime": {
     "end_time": "2020-07-12T21:09:28.807577Z",
     "start_time": "2020-07-12T21:09:28.732357Z"
    },
    "hidden": true
   },
   "outputs": [],
   "source": [
    "c = retval\n",
    "\n",
    "#  make the mesh\n",
    "r0   = 50. #um\n",
    "Lr   = 1000.#um\n",
    "dr   = 1.  #um\n",
    "Ts   = np.multiply(T,60.)\n",
    "#period of signal in seconds\n",
    "rmesh= np.arange(r0,Lr+dr,dr)\n"
   ]
  },
  {
   "cell_type": "code",
   "execution_count": 31,
   "metadata": {
    "ExecuteTime": {
     "end_time": "2020-07-12T21:09:30.172890Z",
     "start_time": "2020-07-12T21:09:30.103047Z"
    },
    "hidden": true
   },
   "outputs": [
    {
     "ename": "ValueError",
     "evalue": "shapes (2,240004) and (951,) not aligned: 240004 (dim 1) != 951 (dim 0)",
     "output_type": "error",
     "traceback": [
      "\u001b[0;31m---------------------------------------------------------------------------\u001b[0m",
      "\u001b[0;31mValueError\u001b[0m                                Traceback (most recent call last)",
      "\u001b[0;32m<ipython-input-31-18e188ba0e23>\u001b[0m in \u001b[0;36m<module>\u001b[0;34m\u001b[0m\n\u001b[1;32m      1\u001b[0m \u001b[0mdA\u001b[0m \u001b[0;34m=\u001b[0m \u001b[0mnp\u001b[0m\u001b[0;34m.\u001b[0m\u001b[0marray\u001b[0m\u001b[0;34m(\u001b[0m\u001b[0;34m[\u001b[0m\u001b[0;36m2\u001b[0m\u001b[0;34m*\u001b[0m\u001b[0mnp\u001b[0m\u001b[0;34m.\u001b[0m\u001b[0mpi\u001b[0m\u001b[0;34m*\u001b[0m\u001b[0mdr\u001b[0m\u001b[0;34m*\u001b[0m\u001b[0mr\u001b[0m \u001b[0;34m+\u001b[0m \u001b[0mnp\u001b[0m\u001b[0;34m.\u001b[0m\u001b[0mpi\u001b[0m\u001b[0;34m*\u001b[0m\u001b[0mdr\u001b[0m\u001b[0;34m**\u001b[0m\u001b[0;36m2\u001b[0m \u001b[0;32mfor\u001b[0m \u001b[0mr\u001b[0m \u001b[0;32min\u001b[0m \u001b[0mrmesh\u001b[0m\u001b[0;34m]\u001b[0m\u001b[0;34m)\u001b[0m\u001b[0;34m\u001b[0m\u001b[0;34m\u001b[0m\u001b[0m\n\u001b[0;32m----> 2\u001b[0;31m \u001b[0mcnet\u001b[0m \u001b[0;34m=\u001b[0m \u001b[0mnp\u001b[0m\u001b[0;34m.\u001b[0m\u001b[0madd\u001b[0m\u001b[0;34m.\u001b[0m\u001b[0mreduce\u001b[0m\u001b[0;34m(\u001b[0m\u001b[0mnp\u001b[0m\u001b[0;34m.\u001b[0m\u001b[0mdot\u001b[0m\u001b[0;34m(\u001b[0m\u001b[0mc\u001b[0m\u001b[0;34m,\u001b[0m\u001b[0mdA\u001b[0m\u001b[0;34m)\u001b[0m\u001b[0;34m)\u001b[0m\u001b[0;34m\u001b[0m\u001b[0;34m\u001b[0m\u001b[0m\n\u001b[0m",
      "\u001b[0;31mValueError\u001b[0m: shapes (2,240004) and (951,) not aligned: 240004 (dim 1) != 951 (dim 0)"
     ]
    }
   ],
   "source": [
    "dA = np.array([2*np.pi*dr*r + np.pi*dr**2 for r in rmesh])\n",
    "cnet = np.add.reduce(np.dot(c,dA))"
   ]
  },
  {
   "cell_type": "code",
   "execution_count": 33,
   "metadata": {
    "ExecuteTime": {
     "end_time": "2020-07-12T21:09:41.036204Z",
     "start_time": "2020-07-12T21:09:40.385732Z"
    },
    "hidden": true
   },
   "outputs": [
    {
     "data": {
      "text/plain": [
       "0"
      ]
     },
     "execution_count": 33,
     "metadata": {},
     "output_type": "execute_result"
    }
   ],
   "source": [
    "beep(3)"
   ]
  },
  {
   "cell_type": "code",
   "execution_count": 34,
   "metadata": {
    "ExecuteTime": {
     "end_time": "2020-07-12T21:09:42.475943Z",
     "start_time": "2020-07-12T21:09:42.452022Z"
    },
    "hidden": true
   },
   "outputs": [],
   "source": [
    "cnet_values, t_values = retval"
   ]
  },
  {
   "cell_type": "markdown",
   "metadata": {
    "heading_collapsed": true
   },
   "source": [
    "# constant flux yields constant increase of net cAMP"
   ]
  },
  {
   "cell_type": "code",
   "execution_count": 65,
   "metadata": {
    "ExecuteTime": {
     "end_time": "2020-07-12T21:29:31.659088Z",
     "start_time": "2020-07-12T21:27:06.903045Z"
    },
    "hidden": true
   },
   "outputs": [
    {
     "name": "stdout",
     "output_type": "stream",
     "text": [
      "Printing Inputs:\n",
      "kPDE:0.0 LPDE:100.0 c0:0.0 T:10.0 iter_no:2.0 dt:0.005 time_res:10.0\n",
      "\n",
      "Printing Outputs including mean cell direction (mcd):\n",
      "cycle_no,mean_c,mcd_at_100,mcd_at_200,mcd_at_300,mcd_at_400,mcd_at_500,mcd_at_800\n",
      "0,12.03028,-1.00000,-0.98333,-0.93333,-0.85000,-0.73333,-0.13333\n",
      "1,24.06045,-1.00000,-0.99167,-0.96667,-0.92500,-0.86667,-0.56667\n",
      "the final radial cAMP field is:\n",
      "cAMP=\n",
      "[236.86192842 234.88212557 232.94116076 231.037562   229.16993994\n",
      " 227.33698157 225.53744502 223.77015414 222.03399441 220.32790814\n",
      " 218.65089133 217.00198937 215.38029464 213.7849426  212.21511008\n",
      " 210.67001164 209.14889839 207.6510546  206.175797   204.72247157\n",
      " 203.29045321 201.87914269 200.48796668 199.11637478 197.76383987\n",
      " 196.42985519 195.11393503 193.81561177 192.53443685 191.26997788\n",
      " 190.02181977 188.78956187 187.57281935 186.37122026 185.18440713\n",
      " 184.01203403 182.85376836 181.70928782 180.5782824  179.46045134\n",
      " 178.35550523 177.26316295 176.18315394 175.11521501 174.05909284\n",
      " 173.01454071 171.98132109 170.95920238 169.94796157 168.94738093\n",
      " 167.95725084 166.97736637 166.0075302  165.04754922 164.0972375\n",
      " 163.15641282 162.22489979 161.30252629 160.38912668 159.48453818\n",
      " 158.58860423 157.70117071 156.82208947 155.95121448 155.08840539\n",
      " 154.23352368 153.3864363  152.54701171 151.71512366 150.89064716\n",
      " 150.07346227 149.26345011 148.46049669 147.6644888  146.87531801\n",
      " 146.09287646 145.31706091 144.54776851 143.78490088 143.02835986\n",
      " 142.27805167 141.53388255 140.79576302 140.06360345 139.33731841\n",
      " 138.61682217 137.90203312 137.19286919 136.48925236 135.79110401\n",
      " 135.09834951 134.41091351 133.72872458 133.05171044 132.37980267\n",
      " 131.71293192 131.05103262 130.39403815 129.74188567 129.09451115\n",
      " 128.45185431 127.81385359 127.18045113 126.55158771 125.92720776\n",
      " 125.30725429 124.6916739  124.0804117  123.47341638 122.87063503\n",
      " 122.27201832 121.67751524 121.08707832 120.50065836 119.91820967\n",
      " 119.33968477 118.76503966 118.19422851 117.62720892 117.06393661\n",
      " 116.50437076 115.94846853 115.39619057 114.84749549 114.30234533\n",
      " 113.76070002 113.22252297 112.6877754  112.15642198 111.62842517\n",
      " 111.10375087 110.5823627  110.06422773 109.54931073 109.03757987\n",
      " 108.52900099 108.02354335 107.5211738  107.02186262 106.52557768\n",
      " 106.03229022 105.54196905 105.05458636 104.57011186 104.08851866\n",
      " 103.60977731 103.13386181 102.66074354 102.19039732 101.72279533\n",
      " 101.2579132  100.79572387 100.33620373  99.87932647  99.42506922\n",
      "  98.97340636  98.52431574  98.07777242  97.63375493  97.19223899\n",
      "  96.75320377  96.31662564  95.88248439  95.45075699  95.02142384\n",
      "  94.5944625   94.16985397  93.74757634  93.32761118  92.90993713\n",
      "  92.49453631  92.08138787  91.67047446  91.26177572  90.85527482\n",
      "  90.45095188  90.04879055  89.64877143  89.25087863  88.85509321\n",
      "  88.46139972  88.06977966  87.68021804  87.29269675  86.90720123\n",
      "  86.5237138   86.14222028  85.76270339  85.38514935  85.00954126\n",
      "  84.63586572  84.26410619  83.89424965  83.52627991  83.16018432\n",
      "  82.795947    82.43355566  82.07299478  81.71425238  81.35731325\n",
      "  81.00216574  80.64879497  80.2971896   79.94733503  79.59922023\n",
      "  79.2528309   78.90815631  78.56518243  78.22389882  77.88429172\n",
      "  77.54635097  77.21006307  76.87541813  76.54240291  76.21100778\n",
      "  75.88121974  75.55302943  75.22642409  74.90139458  74.57792839\n",
      "  74.25601662  73.93564699  73.61681082  73.29949605  72.98369425\n",
      "  72.66939354  72.35658572  72.04525912  71.73540575  71.42701415\n",
      "  71.12007652  70.81458161  70.51052181  70.20788605  69.90666694\n",
      "  69.60685359  69.30843877  69.0114118   68.71576563  68.42148974\n",
      "  68.12857727  67.83701787  67.54680484  67.25792801  66.97038084\n",
      "  66.68415333  66.3992391   66.11562829  65.83331471  65.55228863\n",
      "  65.27254403  64.99407131  64.71686461  64.44091449  64.16621521\n",
      "  63.89275748  63.62053572  63.34954076  63.07976716  62.81120589\n",
      "  62.54385164  62.27769551  62.01273232  61.74895331  61.48635343\n",
      "  61.22492402  60.96466017  60.70555335  60.44759875  60.19078798\n",
      "  59.93511634  59.68057554  59.42716102  59.1748646   58.92368181\n",
      "  58.6736046   58.42462861  58.17674589  57.92995219  57.68423965\n",
      "  57.43960416  57.19603793  56.95353695  56.71209356  56.47170382\n",
      "  56.23236018  55.99405881  55.75679222  55.5205567   55.28534486\n",
      "  55.05115306  54.81797402  54.58580417  54.35463633  54.12446703\n",
      "  53.89528916  53.66709934  53.43989054  53.21365948  52.98839919\n",
      "  52.76410649  52.5407745   52.31840009  52.09697647  51.8765006\n",
      "  51.65696576  51.43836898  51.22070363  51.00396682  50.78815196\n",
      "  50.57325626  50.35927321  50.14620006  49.93403039  49.72276153\n",
      "  49.51238711  49.30290454  49.09430752  48.88659351  48.6797563\n",
      "  48.4737934   48.26869866  48.06446966  47.86110032  47.65858829\n",
      "  47.45692753  47.25611576  47.056147    46.85701904  46.65872595\n",
      "  46.46126558  46.26463206  46.0688233   45.87383348  45.67966057\n",
      "  45.48629881  45.29374621  45.10199709  44.9110495   44.72089781\n",
      "  44.53154013  44.34297088  44.15518822  43.96818662  43.78196429\n",
      "  43.59651576  43.41183929  43.22792946  43.04478456  42.86239922\n",
      "  42.68077181  42.49989699  42.31977315  42.14039504  41.96176107\n",
      "  41.78386604  41.60670842  41.43028303  41.2545884   41.07961939\n",
      "  40.90537457  40.73184885  40.55904083  40.38694549  40.21556145\n",
      "  40.04488372  39.87491099  39.7056383   39.53706437  39.36918429\n",
      "  39.20199681  39.03549706  38.86968385  38.70455233  38.54010135\n",
      "  38.3763261   38.21322545  38.05079466  37.88903262  37.72793462\n",
      "  37.56749959  37.40772286  37.2486034   37.09013657  36.93232136\n",
      "  36.77515318  36.61863106  36.46275043  36.30751036  36.15290631\n",
      "  35.99893738  35.84559908  35.69289052  35.54080725  35.38934843\n",
      "  35.23850962  35.08829     34.93868519  34.78969439  34.64131325\n",
      "  34.49354099  34.3463733   34.19980944  34.0538451   33.90847959\n",
      "  33.76370864  33.61953156  33.47594413  33.33294568  33.19053202\n",
      "  33.0487025   32.90745297  32.7667828   32.62668786  32.48716756\n",
      "  32.3482178   32.209838    32.07202409  31.93477553  31.79808826\n",
      "  31.66196177  31.52639203  31.39137854  31.25691732  31.12300788\n",
      "  30.98964626  30.856832    30.72456117  30.59283332  30.46164455\n",
      "  30.33099444  30.20087911  30.07129816  29.94224773  29.81372745\n",
      "  29.68573348  29.55826547  29.4313196   29.30489556  29.17898954\n",
      "  29.05360123  28.92872687  28.80436617  28.68051539  28.55717424\n",
      "  28.43433902  28.31200947  28.19018189  28.06885604  27.94802825\n",
      "  27.82769831  27.70786256  27.58852079  27.46966939  27.35130816\n",
      "  27.23343351  27.11604525  26.99913982  26.88271705  26.76677338\n",
      "  26.65130868  26.5363194   26.42180543  26.30776324  26.19419273\n",
      "  26.08109041  25.96845616  25.85628654  25.74458144  25.63333743\n",
      "  25.52255443  25.41222902  25.30236112  25.19294736  25.08398767\n",
      "  24.97547867  24.86742033  24.75980929  24.65264551  24.54592567\n",
      "  24.43964975  24.33381444  24.22841972  24.12346231  24.01894221\n",
      "  23.91485615  23.81120414  23.70798293  23.60519255  23.50282978\n",
      "  23.40089463  23.29938391  23.19829765  23.09763267  22.99738902\n",
      "  22.89756354  22.79815628  22.6991641   22.60058707  22.50242205\n",
      "  22.40466914  22.30732522  22.21039037  22.11386152  22.01773876\n",
      "  21.92201901  21.82670238  21.73178583  21.63726946  21.54315025\n",
      "  21.4494283   21.35610062  21.26316733  21.17062544  21.07847507\n",
      "  20.98671327  20.89534016  20.80435279  20.71375132  20.6235328\n",
      "  20.53369739  20.44424218  20.35516732  20.26646991  20.17815013\n",
      "  20.09020509  20.00263496  19.91543688  19.82861104  19.74215458\n",
      "  19.65606769  19.57034755  19.48499434  19.40000526  19.31538051\n",
      "  19.23111728  19.14721579  19.06367326  18.98048989  18.89766294\n",
      "  18.81519261  18.73307616  18.65131381  18.56990284  18.48884347\n",
      "  18.40813299  18.32777164  18.24775672  18.16808846  18.0887642\n",
      "  18.00978417  17.93114572  17.85284907  17.77489161  17.69727357\n",
      "  17.61999233  17.54304813  17.46643839  17.39016333  17.31422039\n",
      "  17.23860981  17.16332902  17.08837828  17.01375504  16.93945955\n",
      "  16.86548929  16.79184451  16.7185227   16.64552411  16.57284625\n",
      "  16.50048939  16.42845104  16.35673146  16.2853282   16.21424152\n",
      "  16.14346896  16.07301082  16.00286463  15.9330307   15.86350658\n",
      "  15.79429257  15.72538626  15.65678792  15.58849518  15.52050831\n",
      "  15.45282494  15.38544535  15.3183672   15.25159076  15.18511369\n",
      "  15.11893629  15.05305622  14.98747378  14.92218665  14.85719514\n",
      "  14.79249694  14.72809235  14.66397908  14.60015744  14.53662515\n",
      "  14.47338252  14.41042729  14.34775977  14.28537771  14.22328143\n",
      "  14.16146868  14.09993979  14.03869254  13.97772724  13.91704169\n",
      "  13.85663621  13.7965086   13.73665918  13.67708579  13.61778873\n",
      "  13.55876585  13.50001747  13.44154144  13.38333809  13.32540527\n",
      "  13.26774332  13.21035012  13.15322599  13.09636882  13.03977894\n",
      "  12.98345427  12.92739512  12.87159942  12.8160675   12.76079729\n",
      "  12.70578912  12.65104095  12.59655309  12.54232352  12.48835257\n",
      "  12.43463821  12.38118077  12.32797825  12.27503097  12.22233694\n",
      "  12.16989649  12.11770765  12.06577073  12.01408378  11.96264712\n",
      "  11.91145881  11.86051917  11.80982626  11.75938041  11.70917971\n",
      "  11.65922447  11.60951279  11.56004499  11.51081919  11.4618357\n",
      "  11.41309264  11.36459035  11.31632695  11.26830276  11.22051595\n",
      "  11.17296682  11.12565354  11.07857643  11.03173367  10.98512558\n",
      "  10.93875035  10.89260829  10.84669762  10.80101864  10.75556958\n",
      "  10.71035075  10.66536039  10.6205988   10.57606424  10.53175702\n",
      "  10.4876754   10.44381969  10.40018816  10.35678112  10.31359687\n",
      "  10.2706357   10.22789593  10.18537785  10.14307979  10.10100204\n",
      "  10.05914293  10.01750278   9.97607991   9.93487464   9.89388532\n",
      "   9.85311224   9.81255378   9.77221023   9.73207999   9.69216333\n",
      "   9.65245866   9.61296628   9.57368459   9.53461388   9.49575258\n",
      "   9.45710098   9.41865752   9.38042247   9.34239429   9.30457328\n",
      "   9.26695788   9.22954838   9.19234327   9.15534282   9.11854551\n",
      "   9.08195164   9.0455597    9.00936997   8.97338097   8.93759296\n",
      "   8.90200448   8.86661581   8.83142548   8.79643376   8.76163921\n",
      "   8.7270421    8.69264099   8.65843615   8.62442616   8.59061129\n",
      "   8.55699012   8.52356292   8.4903283    8.45728651   8.42443617\n",
      "   8.39177754   8.35930925   8.32703156   8.29494311   8.26304414\n",
      "   8.23133333   8.19981091   8.16847556   8.13732752   8.10636547\n",
      "   8.07558967   8.0449988    8.0145931    7.98437129   7.95433361\n",
      "   7.92447876   7.89480699   7.86531704   7.83600913   7.80688201\n",
      "   7.77793591   7.74916959   7.72058327   7.69217573   7.6639472\n",
      "   7.63589645   7.6080237    7.58032776   7.55280884   7.52546575\n",
      "   7.49829871   7.47130653   7.44448943   7.41784625   7.39137719\n",
      "   7.36508109   7.33895817   7.31300729   7.28722864   7.26162109\n",
      "   7.23618486   7.21091882   7.18582317   7.1608968    7.13613991\n",
      "   7.1115514    7.08713148   7.06287904   7.0387943    7.01487617\n",
      "   6.99112484   6.96753926   6.94411961   6.92086485   6.89777514\n",
      "   6.87484947   6.85208801   6.82948973   6.80705481   6.78478225\n",
      "   6.76267221   6.74072369   6.71893687   6.69731075   6.67584551\n",
      "   6.65454017   6.63339488   6.6124087    6.59158177   6.57091315\n",
      "   6.55040299   6.53005036   6.5098554    6.4898172    6.46993589\n",
      "   6.45021056   6.43064137   6.4112274    6.3919688    6.37286468\n",
      "   6.35391517   6.3351194    6.31647751   6.29798862   6.27965286\n",
      "   6.26146939   6.24343833   6.22555883   6.20783102   6.19025407\n",
      "   6.1728281    6.15555229   6.13842676   6.12145069   6.10462421\n",
      "   6.08794651   6.07141771   6.05503702   6.03880454   6.02271951\n",
      "   6.00678202   5.99099132   5.97534751   5.95984982   5.94449837\n",
      "   5.92929241   5.91423203   5.89931651   5.88454593   5.86991958\n",
      "   5.85543755   5.84109912   5.82690438   5.81285264   5.79894398\n",
      "   5.78517771   5.77155391   5.7580719    5.74473176   5.73153283\n",
      "   5.71847518   5.70555815   5.69278182   5.68014554   5.66764937\n",
      "   5.65529269   5.64307556   5.63099736   5.61905814   5.60725729\n",
      "   5.59559488   5.5840703    5.57268361   5.56143421   5.55032215\n",
      "   5.53934687   5.52850839   5.51780616   5.50724022   5.49681002\n",
      "   5.48651558   5.47635637   5.46633241   5.45644319   5.44668872\n",
      "   5.43706848   5.42758251   5.41823028   5.40901183   5.39992664\n",
      "   5.39097475   5.38215566   5.37346938   5.36491544   5.35649385\n",
      "   5.34820414   5.34004632   5.33201992   5.32412496   5.31636099\n",
      "   5.30872801   5.30122558   5.29385369   5.28661193   5.27950029\n",
      "   5.27251835   5.26566609   5.25894313   5.25234943   5.24588462\n",
      "   5.23954866   5.23334118   5.22726215   5.2213112    5.21548831\n",
      "   5.20979311   5.20422558   5.19878536   5.19347242   5.18828641\n",
      "   5.18322731   5.17829477   5.17348876   5.16880896   5.16425533\n",
      "   5.15982755   5.15552557   5.15134909   5.14729807   5.14337221\n",
      "   5.13957146   5.13589554   5.13234438   5.12891772   5.1256155\n",
      "   5.12243745   5.11938351   5.11645343   5.11364714   5.1109644\n",
      "   5.10840513   5.10596912   5.10365626   5.10146636   5.09939933\n",
      "   5.09745495   5.09563314   5.09393371   5.09235656   5.09090151\n",
      "   5.08956846   5.08835723   5.08726773   5.08629978   5.08545329\n",
      "   5.08472809   5.08412409   5.08364112   5.08327909   5.08303786\n",
      "   5.08291731]\n"
     ]
    }
   ],
   "source": [
    "from pde_sim_returns_camp import *\n",
    "cnet_values,t_values = simulate(kPDE=0., \n",
    "                                LPDE=100.0, \n",
    "                                c0=0.0, \n",
    "                                T=10.0, \n",
    "                                iter_no=2.0, \n",
    "                                dt=0.005, \n",
    "                                time_res = 10.0, \n",
    "                                use_constant_fluxLeft=True);"
   ]
  },
  {
   "cell_type": "code",
   "execution_count": 68,
   "metadata": {
    "ExecuteTime": {
     "end_time": "2020-07-12T21:31:58.342441Z",
     "start_time": "2020-07-12T21:31:58.264888Z"
    },
    "hidden": true
   },
   "outputs": [
    {
     "name": "stdout",
     "output_type": "stream",
     "text": [
      "$dc_net(t)/dt$ = 62952.05542761571 nM µm^2 / sec.\n"
     ]
    }
   ],
   "source": [
    "x_values = t_values\n",
    "y_values = cnet_values\n",
    "print(f\"$dc_net(t)/dt$ = {np.mean(np.diff(y_values))/np.mean(np.diff(x_values))} nM µm^2 / sec.\")"
   ]
  },
  {
   "cell_type": "markdown",
   "metadata": {
    "hidden": true
   },
   "source": [
    "where\n",
    "$$c_\\text{net}(t) = \\sum_{r=r_0=50\\mu m}^{1000\\,\\mu m}c(r,t)\\bigg(2\\pi r dr + \\pi dr^2   \\bigg)$$"
   ]
  },
  {
   "cell_type": "code",
   "execution_count": 69,
   "metadata": {
    "ExecuteTime": {
     "end_time": "2020-07-12T21:32:21.701563Z",
     "start_time": "2020-07-12T21:32:18.065123Z"
    },
    "hidden": true
   },
   "outputs": [
    {
     "data": {
      "image/png": "[encoded data removed]",
      "text/plain": [
       "<Figure size 432x288 with 1 Axes>"
      ]
     },
     "metadata": {
      "needs_background": "light"
     },
     "output_type": "display_data"
    }
   ],
   "source": [
    "plt.scatter(x=x_values, y=y_values)\n",
    "plt.xlabel('time (seconds)', fontsize=24)\n",
    "plt.ylabel('$c_{net}$ ($nM\\cdot µm^2$)', fontsize=24)\n",
    "plt.show()"
   ]
  },
  {
   "cell_type": "code",
   "execution_count": null,
   "metadata": {
    "hidden": true
   },
   "outputs": [],
   "source": []
  },
  {
   "cell_type": "code",
   "execution_count": 43,
   "metadata": {
    "ExecuteTime": {
     "end_time": "2020-07-12T21:12:42.479974Z",
     "start_time": "2020-07-12T21:12:42.416177Z"
    },
    "hidden": true
   },
   "outputs": [
    {
     "name": "stdout",
     "output_type": "stream",
     "text": [
      "cAMP rate of change is 62952.05542761527.\n"
     ]
    }
   ],
   "source": [
    "print(f\"cAMP rate of change is {np.mean(np.diff(y_values))/np.mean(np.diff(x_values))}.\")\n"
   ]
  },
  {
   "cell_type": "code",
   "execution_count": null,
   "metadata": {
    "hidden": true
   },
   "outputs": [],
   "source": []
  }
 ],
 "metadata": {
  "kernelspec": {
   "display_name": "Python 3",
   "language": "python",
   "name": "python3"
  },
  "language_info": {
   "codemirror_mode": {
    "name": "ipython",
    "version": 3
   },
   "file_extension": ".py",
   "mimetype": "text/x-python",
   "name": "python",
   "nbconvert_exporter": "python",
   "pygments_lexer": "ipython3",
   "version": "3.8.5"
  },
  "toc": {
   "base_numbering": 1,
   "nav_menu": {},
   "number_sections": false,
   "sideBar": false,
   "skip_h1_title": false,
   "title_cell": "Table of Contents",
   "title_sidebar": "Contents",
   "toc_cell": false,
   "toc_position": {},
   "toc_section_display": false,
   "toc_window_display": false
  },
  "varInspector": {
   "cols": {
    "lenName": 16,
    "lenType": 16,
    "lenVar": 40
   },
   "kernels_config": {
    "python": {
     "delete_cmd_postfix": "",
     "delete_cmd_prefix": "del ",
     "library": "var_list.py",
     "varRefreshCmd": "print(var_dic_list())"
    },
    "r": {
     "delete_cmd_postfix": ") ",
     "delete_cmd_prefix": "rm(",
     "library": "var_list.r",
     "varRefreshCmd": "cat(var_dic_list()) "
    }
   },
   "types_to_exclude": [
    "module",
    "function",
    "builtin_function_or_method",
    "instance",
    "_Feature"
   ],
   "window_display": false
  }
 },
 "nbformat": 4,
 "nbformat_minor": 4
}
