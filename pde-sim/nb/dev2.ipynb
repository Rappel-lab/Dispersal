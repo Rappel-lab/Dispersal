{
 "cells": [
  {
   "cell_type": "markdown",
   "metadata": {},
   "source": [
    "# dev2 pde-sim\n",
    "Tim Tyree"
   ]
  },
  {
   "cell_type": "code",
   "execution_count": 19,
   "metadata": {
    "ExecuteTime": {
     "end_time": "2020-07-09T01:43:47.596541Z",
     "start_time": "2020-07-09T01:43:46.883915Z"
    }
   },
   "outputs": [],
   "source": [
    "import sys, os, time, numpy as np, pandas as pd\n",
    "import matplotlib.pyplot as plt\n",
    "from scipy.special import kn\n",
    "sys.path.append(os.path.abspath('../pde-sim-transfer/'))\n",
    "from pde_sim_worker import *\n",
    "import pde_sim_worker_hill as hill\n",
    "\n",
    "from pde_sim_grid_scan import *\n",
    "# import test_cases\n",
    "\n",
    "# load the autoreload extension\n",
    "%load_ext autoreload\n",
    "# Set extension to reload modules every time before executing code\n",
    "%autoreload 2"
   ]
  },
  {
   "cell_type": "code",
   "execution_count": 20,
   "metadata": {
    "ExecuteTime": {
     "end_time": "2020-07-09T01:44:00.661473Z",
     "start_time": "2020-07-09T01:44:00.640504Z"
    }
   },
   "outputs": [
    {
     "name": "stdout",
     "output_type": "stream",
     "text": [
      "notebook is at: /Users/timothytyree/Desktop/Research/Rappel/Dicty. Dispersal/Python/pde-sim/nb\n"
     ]
    }
   ],
   "source": [
    "beep = lambda x: os.system(\"echo -n '\\a';sleep 0.2;\" * x)\n",
    "if not 'nb_dir' in globals():\n",
    "    nb_dir = os.getcwd()\n",
    "print('notebook is at: ' + nb_dir)\n",
    "\n",
    "transfer_dir = f\"{nb_dir}/../pde-sim-transfer\"\n",
    "os.chdir(transfer_dir)"
   ]
  },
  {
   "cell_type": "markdown",
   "metadata": {
    "heading_collapsed": true
   },
   "source": [
    "# unhelpful RK4 implementation\n",
    "runge-kutte-4.  numerical time steps for sharp changes are not handled at time scales of dt=0.01 --> not worth it for pde-sim"
   ]
  },
  {
   "cell_type": "code",
   "execution_count": 3,
   "metadata": {
    "hidden": true
   },
   "outputs": [],
   "source": [
    "import numpy as np\n",
    "k = 1\n",
    "def f(t,y):\n",
    "    '''time_step for decay of x at a rate k modulated with sinusoidal source.'''\n",
    "    return -k*(y+np.sin(t/(2*np.pi)))"
   ]
  },
  {
   "cell_type": "code",
   "execution_count": 6,
   "metadata": {
    "hidden": true
   },
   "outputs": [],
   "source": [
    "def time_step_rk4(t,y,h,f):\n",
    "    '''runge-kutta-4 explicit time step.'''\n",
    "    k1 = f(t,y)\n",
    "    k2 = f(t+h/2, y+h*k1/2)\n",
    "    k3 = f(t+h/2, y+h*k2/2)\n",
    "    k4 = f(t+h,y+h*k3)\n",
    "    dcdt = (k1+2*k2+2*k3+k4)/6\n",
    "    return dcdt"
   ]
  },
  {
   "cell_type": "code",
   "execution_count": 36,
   "metadata": {
    "hidden": true
   },
   "outputs": [],
   "source": [
    "assert(f(2,3).all())\n",
    "# assert()\n",
    "retval = time_step_rk4(2,3,.01,f)\n"
   ]
  },
  {
   "cell_type": "code",
   "execution_count": 37,
   "metadata": {
    "hidden": true
   },
   "outputs": [
    {
     "data": {
      "text/plain": [
       "-2.462787961200638"
      ]
     },
     "execution_count": 37,
     "metadata": {},
     "output_type": "execute_result"
    }
   ],
   "source": [
    "retval"
   ]
  },
  {
   "cell_type": "markdown",
   "metadata": {
    "hidden": true
   },
   "source": []
  },
  {
   "cell_type": "code",
   "execution_count": 33,
   "metadata": {
    "hidden": true
   },
   "outputs": [
    {
     "data": {
      "text/plain": [
       "0.006666666666666667"
      ]
     },
     "execution_count": 33,
     "metadata": {},
     "output_type": "execute_result"
    }
   ],
   "source": [
    ".1/15"
   ]
  },
  {
   "cell_type": "code",
   "execution_count": 3,
   "metadata": {
    "hidden": true
   },
   "outputs": [
    {
     "ename": "NameError",
     "evalue": "name 'time_step_rk4' is not defined",
     "output_type": "error",
     "traceback": [
      "\u001b[0;31m---------------------------------------------------------------------------\u001b[0m",
      "\u001b[0;31mNameError\u001b[0m                                 Traceback (most recent call last)",
      "\u001b[0;32m<ipython-input-3-9b871c9ca020>\u001b[0m in \u001b[0;36m<module>\u001b[0;34m\u001b[0m\n\u001b[1;32m      1\u001b[0m \u001b[0;31m# retval =\u001b[0m\u001b[0;34m\u001b[0m\u001b[0;34m\u001b[0m\u001b[0;34m\u001b[0m\u001b[0m\n\u001b[0;32m----> 2\u001b[0;31m \u001b[0mprint\u001b[0m\u001b[0;34m(\u001b[0m\u001b[0mtime_step_rk4\u001b[0m\u001b[0;34m(\u001b[0m\u001b[0;36m2\u001b[0m\u001b[0;34m,\u001b[0m\u001b[0;36m3\u001b[0m\u001b[0;34m,\u001b[0m\u001b[0;36m.05\u001b[0m\u001b[0;34m,\u001b[0m\u001b[0mf\u001b[0m\u001b[0;34m)\u001b[0m\u001b[0;34m-\u001b[0m\u001b[0mf\u001b[0m\u001b[0;34m(\u001b[0m\u001b[0;36m2\u001b[0m\u001b[0;34m,\u001b[0m\u001b[0;36m3\u001b[0m\u001b[0;34m)\u001b[0m\u001b[0;34m)\u001b[0m\u001b[0;34m\u001b[0m\u001b[0;34m\u001b[0m\u001b[0m\n\u001b[0m",
      "\u001b[0;31mNameError\u001b[0m: name 'time_step_rk4' is not defined"
     ]
    }
   ],
   "source": [
    "# retval = \n",
    "print(time_step_rk4(2,3,.05,f)-f(2,3))"
   ]
  },
  {
   "cell_type": "code",
   "execution_count": null,
   "metadata": {
    "hidden": true
   },
   "outputs": [],
   "source": [
    "#DONE: copy to the cloud!\n",
    "#DONE: run on the cloud!!\n",
    "#DONE: test mg source\n",
    "#DONE: make df from output"
   ]
  },
  {
   "cell_type": "markdown",
   "metadata": {
    "heading_collapsed": true
   },
   "source": [
    "# grid_search record"
   ]
  },
  {
   "cell_type": "code",
   "execution_count": 5,
   "metadata": {
    "hidden": true
   },
   "outputs": [],
   "source": [
    "#test case\n",
    "save_fn = 'test.csv'\n",
    "df = grid_to_df(\n",
    "    kgrid=[0.02],\n",
    "    Lgrid=[100.0],\n",
    "    c0grid=[4],\n",
    "    Tgrid=[21,10],\n",
    "    itnogrid=[2],\n",
    "    dtgrid=[0.005],\n",
    "    trgrid=[10],\n",
    ")\n",
    "df.to_csv(save_fn, header=False,sep=' ', index=False)\n",
    "shutil.copy(save_fn, save_fn.split('.')[0]+'.dat')\n",
    "os.remove(save_fn)"
   ]
  },
  {
   "cell_type": "code",
   "execution_count": 6,
   "metadata": {
    "hidden": true
   },
   "outputs": [
    {
     "name": "stdout",
     "output_type": "stream",
     "text": [
      "making a (Nk,NL,Nc0) = 20x20x10 grid search.\n",
      "estimated run time would be 6000.00 minutes with 1cpu,\n",
      "600.00 minutes with 10cpu,\n",
      "60.00 minutes with 100cpu,\n",
      "6.00 minutes with 1000cpu\n"
     ]
    }
   ],
   "source": [
    "kgrid = np.geomspace(10**-4,10**0,5*4)\n",
    "Lgrid = np.geomspace(10**0,10**3,5*4)\n",
    "c0grid= list(np.arange(0,7))\n",
    "c0grid.append(12)\n",
    "c0grid.append(20)\n",
    "c0grid.append(30)\n",
    "c0grid= np.array(c0grid)\n",
    "print(f\"making a (Nk,NL,Nc0) = {kgrid.size}x{Lgrid.size}x{c0grid.size} grid search.\")\n",
    "sample_size = kgrid.size*Lgrid.size*c0grid.size\n",
    "ert = sample_size*1.5 #minutes\n",
    "print(f\"\"\"estimated run time would be {ert:2.2f} minutes with 1cpu,\n",
    "{ert/10:2.2f} minutes with 10cpu,\n",
    "{ert/100:2.2f} minutes with 100cpu,\n",
    "{ert/1000:2.2f} minutes with 1000cpu\"\"\")"
   ]
  },
  {
   "cell_type": "code",
   "execution_count": 8,
   "metadata": {
    "hidden": true
   },
   "outputs": [],
   "source": [
    "#run 1 ert 6 minutes with 1000 cpus.  20x20x10 grid search\n",
    "df = grid_to_df(\n",
    "    kgrid=kgrid,\n",
    "    Lgrid=Lgrid,\n",
    "    c0grid=c0grid,\n",
    "    Tgrid=[21,10],\n",
    "    itnogrid=[8],\n",
    "    dtgrid=[0.0005],\n",
    "    trgrid=[10],\n",
    ")\n",
    "save_fn = 'run_4.csv'\n",
    "df.to_csv(save_fn, header=False,sep=' ', index=False)\n",
    "shutil.copy(save_fn, save_fn.split('.')[0]+'.dat')\n",
    "os.remove(save_fn)"
   ]
  },
  {
   "cell_type": "code",
   "execution_count": 32,
   "metadata": {
    "hidden": true
   },
   "outputs": [],
   "source": [
    "#start another run to probe period/background dependence\n",
    "# same kgrid and Lgrid\n",
    "kgrid = np.geomspace(10**-4,10**0,5*4)\n",
    "Lgrid = np.geomspace(10**0,10**3,5*4)\n",
    "c0grid = [0,2,3,3.5,4,5]\n",
    "Tgrid = [12, 16, 19, 24]\n",
    "df = grid_to_df(\n",
    "    kgrid=kgrid,\n",
    "    Lgrid=Lgrid,\n",
    "    c0grid=c0grid,\n",
    "    Tgrid=Tgrid,\n",
    "    itnogrid=[4],\n",
    "    dtgrid=[0.005],\n",
    "    trgrid=[10],\n",
    ")\n",
    "save_fn = 'run_5.csv'\n",
    "df.to_csv(save_fn, header=False,sep=' ', index=False)\n",
    "shutil.copy(save_fn, save_fn.split('.')[0]+'.dat')\n",
    "os.remove(save_fn)"
   ]
  },
  {
   "cell_type": "code",
   "execution_count": 34,
   "metadata": {
    "hidden": true
   },
   "outputs": [],
   "source": [
    "#start another run to probe period/background dependence\n",
    "# same kgrid and Lgrid\n",
    "kgrid = np.geomspace(10**-4,10**0,5*4)\n",
    "Lgrid = np.geomspace(10**0,10**3,5*4)\n",
    "[0,2,3,3.5,4,5]\n",
    "c0grid = [6,8,10,12, 20, 30]\n",
    "Tgrid = [12, 16, 19, 24]\n",
    "df = grid_to_df(\n",
    "    kgrid=kgrid,\n",
    "    Lgrid=Lgrid,\n",
    "    c0grid=c0grid,\n",
    "    Tgrid=Tgrid,\n",
    "    itnogrid=[4],\n",
    "    dtgrid=[0.005],\n",
    "    trgrid=[10],\n",
    ")\n",
    "save_fn = 'run_6_prime.csv'\n",
    "df.to_csv(save_fn, header=False,sep=' ', index=False)\n",
    "shutil.copy(save_fn, save_fn.split('.')[0]+'.dat')\n",
    "os.remove(save_fn)"
   ]
  },
  {
   "cell_type": "code",
   "execution_count": 22,
   "metadata": {
    "hidden": true
   },
   "outputs": [
    {
     "name": "stdout",
     "output_type": "stream",
     "text": [
      "current length of Tc0grid\n",
      "72\n",
      "target length of Tc0grid\n",
      "25.0\n"
     ]
    }
   ],
   "source": [
    "print(\"current length of Tc0grid\")\n",
    "print(len([0,2,3,3.5,4,5,6,7,8,9,10,11,12, 20, 30, 40, 70, 100])*4)\n",
    "print(\"target length of Tc0grid\")\n",
    "print(len([0,2,3,3.5,4,5,6,7,8,9,10,11,12, 20, 30, 40, 70, 100])*4/2.88)"
   ]
  },
  {
   "cell_type": "code",
   "execution_count": 30,
   "metadata": {
    "hidden": true
   },
   "outputs": [
    {
     "name": "stdout",
     "output_type": "stream",
     "text": [
      "potential length of Tc0grid\n"
     ]
    },
    {
     "data": {
      "text/plain": [
       "24"
      ]
     },
     "execution_count": 30,
     "metadata": {},
     "output_type": "execute_result"
    }
   ],
   "source": [
    "print(\"potential length of Tc0grid\")\n",
    "len([0,2,3,3.5,4,5])*4"
   ]
  },
  {
   "cell_type": "markdown",
   "metadata": {
    "heading_collapsed": true
   },
   "source": [
    "# make grid search .dat files that use Hill degradation models from Bader (2007)"
   ]
  },
  {
   "cell_type": "code",
   "execution_count": 4,
   "metadata": {
    "hidden": true
   },
   "outputs": [
    {
     "name": "stdout",
     "output_type": "stream",
     "text": [
      "20\n",
      "20\n"
     ]
    },
    {
     "data": {
      "text/plain": [
       "400"
      ]
     },
     "execution_count": 4,
     "metadata": {},
     "output_type": "execute_result"
    }
   ],
   "source": [
    "kgrid = np.geomspace(10**-4,10**0,5*4)\n",
    "Lgrid = np.geomspace(10**0,10**3,5*4)\n",
    "print(kgrid.size)\n",
    "print(Lgrid.size)\n",
    "20*20"
   ]
  },
  {
   "cell_type": "code",
   "execution_count": 4,
   "metadata": {
    "hidden": true
   },
   "outputs": [
    {
     "name": "stdout",
     "output_type": "stream",
     "text": [
      "CPU times: user 214 ms, sys: 7.74 ms, total: 221 ms\n",
      "Wall time: 224 ms\n"
     ]
    }
   ],
   "source": [
    "%%time\n",
    "#start another run to probe period/background dependence\n",
    "# same kgrid and Lgrid\n",
    "kgrid = np.geomspace(10**-4,10**0,5*4)\n",
    "Lgrid = np.geomspace(10**0,10**3,5*4)\n",
    "c0grid = [0,1,2,3,4,5,6, 12, 20, 70]\n",
    "Tgrid = [21]\n",
    "df = grid_to_df(\n",
    "    kgrid=kgrid,\n",
    "    Lgrid=Lgrid,\n",
    "    c0grid=c0grid,\n",
    "    Tgrid=Tgrid,\n",
    "    itnogrid=[4],\n",
    "    dtgrid=[0.005],\n",
    "    trgrid=[10],\n",
    "    modegrid = [1,7,4],\n",
    ")\n",
    "save_fn = 'run_Hill_1a.csv'\n",
    "df.to_csv(save_fn, header=False,sep=' ', index=False)\n",
    "shutil.copy(save_fn, save_fn.split('.')[0]+'.dat')\n",
    "os.remove(save_fn)\n",
    "\n",
    "#start another run to probe period/background dependence\n",
    "# same kgrid and Lgrid\n",
    "kgrid = np.geomspace(10**-4,10**0,5*4)\n",
    "Lgrid = np.geomspace(10**0,10**3,5*4)\n",
    "c0grid = [0,1,2,3,4,5,6, 12, 20, 70]\n",
    "Tgrid = [10]\n",
    "df = grid_to_df(\n",
    "    kgrid=kgrid,\n",
    "    Lgrid=Lgrid,\n",
    "    c0grid=c0grid,\n",
    "    Tgrid=Tgrid,\n",
    "    itnogrid=[4],\n",
    "    dtgrid=[0.005],\n",
    "    trgrid=[10],\n",
    "    modegrid = [1,7,4],\n",
    ")\n",
    "save_fn = 'run_Hill_1b.csv'\n",
    "df.to_csv(save_fn, header=False,sep=' ', index=False)\n",
    "shutil.copy(save_fn, save_fn.split('.')[0]+'.dat')\n",
    "os.remove(save_fn)"
   ]
  },
  {
   "cell_type": "code",
   "execution_count": 41,
   "metadata": {
    "hidden": true
   },
   "outputs": [
    {
     "data": {
      "text/plain": [
       "24000"
      ]
     },
     "execution_count": 41,
     "metadata": {},
     "output_type": "execute_result"
    }
   ],
   "source": [
    "#QUICK FIX to max job submision size, use multiple submits\n",
    "len(df.c0.values)"
   ]
  },
  {
   "cell_type": "markdown",
   "metadata": {
    "heading_collapsed": true
   },
   "source": [
    "# bash task automation"
   ]
  },
  {
   "cell_type": "markdown",
   "metadata": {
    "heading_collapsed": true
   },
   "source": [
    "# scp the whole pde-sim-transfer folder to the open science grid"
   ]
  },
  {
   "cell_type": "code",
   "execution_count": 43,
   "metadata": {
    "hidden": true
   },
   "outputs": [
    {
     "name": "stdout",
     "output_type": "stream",
     "text": [
      "usage: scp [-346BCpqrv] [-c cipher] [-F ssh_config] [-i identity_file]\r\n",
      "           [-l limit] [-o ssh_option] [-P port] [-S program] source ... target\r\n"
     ]
    }
   ],
   "source": [
    "!scp "
   ]
  },
  {
   "cell_type": "code",
   "execution_count": 51,
   "metadata": {
    "hidden": true
   },
   "outputs": [
    {
     "name": "stdout",
     "output_type": "stream",
     "text": [
      "Password:\n"
     ]
    }
   ],
   "source": [
    "os.chdir(nb_dir)\n",
    "!sudo ./synch_whole_transfer.sh"
   ]
  },
  {
   "cell_type": "code",
   "execution_count": null,
   "metadata": {
    "hidden": true
   },
   "outputs": [],
   "source": [
    "#!/usr/bin/bash\n",
    "scp -r ../pde-sim-transfer TimtheTyrant@login05.osgconnect.net:~\n",
    "scp -r TimtheTyrant@login05.osgconnect.net:~/pde-sim-transfer ../pde-sim-transfer \n",
    "\n"
   ]
  },
  {
   "cell_type": "markdown",
   "metadata": {
    "heading_collapsed": true
   },
   "source": [
    "# debugging hill degradation simulation"
   ]
  },
  {
   "cell_type": "code",
   "execution_count": 56,
   "metadata": {
    "hidden": true
   },
   "outputs": [],
   "source": [
    "#initialize\n",
    "#  make the mesh\n",
    "r0   = 50. #um\n",
    "Lr   = 1000.#um\n",
    "dr   = 1.  #um\n",
    "dt   = 0.0005#sec \n",
    "rmesh= np.arange(r0,Lr+dr,dr)\n",
    "c    = 0.*rmesh\n",
    "#  define default parameters\n",
    "F0   = 10**4\n",
    "D    = 100.#um^2/s\n",
    "ds   = 0.1/15#nM/µm\n",
    "kPDE = 1\n",
    "# @np.vectorize\n",
    "def get_Hill_degradation_term(c,pde,kPDE,b,h):\n",
    "    '''let overall scale of degradation still vary as kPDE.'''\n",
    "#     return -kPDE*np.divide(np.multiply(pde,c**(h-1.)),(b**h+c**h)) if c>0 else 0\n",
    "    boo = c>0\n",
    "    out = 0*c\n",
    "    out[boo] = -kPDE*np.divide(np.multiply(pde[boo],c[boo]**(h-1.)),(b**h+c[boo]**h))\n",
    "    return out\n",
    "\n",
    "# initialize with numpy signatures to speed up to about twice the previous run time (original mode==0 case) \n",
    "mesh_size = len(rmesh)\n",
    "degrade = np.vectorize(lambda c,pde:get_Hill_degradation_term(c,pde,kPDE=kPDE,b=b,h=h),\n",
    "    signature = f\"({mesh_size}),({mesh_size})->({mesh_size})\")\n"
   ]
  },
  {
   "cell_type": "code",
   "execution_count": 59,
   "metadata": {
    "hidden": true
   },
   "outputs": [
    {
     "name": "stdout",
     "output_type": "stream",
     "text": [
      "CPU times: user 9.92 ms, sys: 1.39 ms, total: 11.3 ms\n",
      "Wall time: 10.1 ms\n"
     ]
    }
   ],
   "source": [
    "%%time\n",
    "for i in range(100):\n",
    "    time_step(c=c, pde=c, rmesh=rmesh, D=D, kPDE=.2, dr=dr, fluxLeft=0, fluxRight=0)"
   ]
  },
  {
   "cell_type": "code",
   "execution_count": 60,
   "metadata": {
    "hidden": true
   },
   "outputs": [
    {
     "name": "stdout",
     "output_type": "stream",
     "text": [
      "CPU times: user 22.4 ms, sys: 1.28 ms, total: 23.7 ms\n",
      "Wall time: 22.5 ms\n"
     ]
    }
   ],
   "source": [
    "%%time\n",
    "for i in range(100):\n",
    "    hill.time_step(c=c, pde=c, rmesh=rmesh, D=D, kPDE=.2, dr=dr, h=h, b=b, degrade=degrade(c,c), fluxLeft=0, fluxRight=0)"
   ]
  },
  {
   "cell_type": "code",
   "execution_count": 62,
   "metadata": {
    "hidden": true
   },
   "outputs": [],
   "source": [
    "# retval =     hill.time_step(c=rmesh, pde=c+1, rmesh=rmesh, D=D, kPDE=.2, dr=dr, h=h, b=b, fluxLeft=0, fluxRight=0)\n",
    "# print(retval)"
   ]
  },
  {
   "cell_type": "markdown",
   "metadata": {
    "hidden": true
   },
   "source": [
    "## time step of 0.005 appears valid"
   ]
  },
  {
   "cell_type": "code",
   "execution_count": 71,
   "metadata": {
    "hidden": true
   },
   "outputs": [
    {
     "name": "stdout",
     "output_type": "stream",
     "text": [
      "Printing Inputs:\n",
      "kPDE:0.2 LPDE:100 c0:4 T:10 iter_no:2 dt:0.0005 time_res:10 mode:PDE1\n",
      "\n",
      "Printing Outputs including mean cell direction (mcd):\n",
      "cycle_no,mean_c,mcd_at_100,mcd_at_200,mcd_at_300,mcd_at_400,mcd_at_500,mcd_at_800\n",
      "0,6.13741,-0.53333,-0.50000,-0.58333,-0.50000,-0.36667,0.00000\n",
      "1,8.43336,-0.76667,-0.75000,-0.79167,-0.75000,-0.68333,0.00000\n",
      "CPU times: user 8min 46s, sys: 299 ms, total: 8min 46s\n",
      "Wall time: 8min 47s\n"
     ]
    }
   ],
   "source": [
    "%%time \n",
    "retval = hill.simulate(kPDE=0.2, LPDE=100, c0=4, T=10, iter_no=2, dt=0.0005, time_res=10, mode='PDE1')"
   ]
  },
  {
   "cell_type": "code",
   "execution_count": 70,
   "metadata": {
    "hidden": true
   },
   "outputs": [
    {
     "name": "stdout",
     "output_type": "stream",
     "text": [
      "Printing Inputs:\n",
      "kPDE:0.2 LPDE:100 c0:4 T:10 iter_no:2 dt:0.005 time_res:10 mode:PDE1\n",
      "\n",
      "Printing Outputs including mean cell direction (mcd):\n",
      "cycle_no,mean_c,mcd_at_100,mcd_at_200,mcd_at_300,mcd_at_400,mcd_at_500,mcd_at_800\n",
      "0,6.13740,-0.53333,-0.50000,-0.58333,-0.50000,-0.36667,0.00000\n",
      "1,8.43335,-0.76667,-0.75000,-0.79167,-0.75000,-0.68333,0.00000\n",
      "CPU times: user 54.6 s, sys: 79.2 ms, total: 54.6 s\n",
      "Wall time: 54.7 s\n"
     ]
    }
   ],
   "source": [
    "%%time \n",
    "retval = hill.simulate(kPDE=0.2, LPDE=100, c0=4, T=10, iter_no=2, dt=0.005, time_res=10, mode='PDE1')"
   ]
  },
  {
   "cell_type": "code",
   "execution_count": 69,
   "metadata": {
    "hidden": true
   },
   "outputs": [
    {
     "name": "stdout",
     "output_type": "stream",
     "text": [
      "Printing Inputs:\n",
      "kPDE:0.2 LPDE:100 c0:4 T:10 iter_no:2 dt:0.01 time_res:10 mode:PDE1\n",
      "\n",
      "Printing Outputs including mean cell direction (mcd):\n",
      "cycle_no,mean_c,mcd_at_100,mcd_at_200,mcd_at_300,mcd_at_400,mcd_at_500,mcd_at_800\n",
      "0,nan,0.00000,0.00000,0.00000,0.00000,0.00000,0.00000\n",
      "1,nan,0.00000,0.00000,0.00000,0.00000,0.00000,0.00000\n",
      "CPU times: user 23 s, sys: 52.9 ms, total: 23 s\n",
      "Wall time: 23 s\n"
     ]
    }
   ],
   "source": [
    "%%time \n",
    "retval = hill.simulate(kPDE=0.2, LPDE=100, c0=4, T=10, iter_no=2, dt=0.01, time_res=10, mode='PDE1')"
   ]
  },
  {
   "cell_type": "code",
   "execution_count": null,
   "metadata": {
    "hidden": true
   },
   "outputs": [
    {
     "name": "stdout",
     "output_type": "stream",
     "text": [
      "Printing Inputs:\n",
      "kPDE:0.2 LPDE:100 c0:4 T:10 iter_no:2 dt:5e-05 time_res:10 mode:PDE1\n",
      "\n",
      "Printing Outputs including mean cell direction (mcd):\n",
      "cycle_no,mean_c,mcd_at_100,mcd_at_200,mcd_at_300,mcd_at_400,mcd_at_500,mcd_at_800\n"
     ]
    }
   ],
   "source": [
    "%%time \n",
    "retval = hill.simulate(kPDE=0.2, LPDE=100, c0=4, T=10, iter_no=2, dt=0.00005, time_res=10, mode='PDE1')"
   ]
  },
  {
   "cell_type": "code",
   "execution_count": null,
   "metadata": {
    "hidden": true
   },
   "outputs": [],
   "source": [
    "beep(3)"
   ]
  },
  {
   "cell_type": "markdown",
   "metadata": {
    "heading_collapsed": true
   },
   "source": [
    "# TODO: b.o.e. estimate for how much faster cython (or using a numpy signature) would need to make the degradation term about as fast as the original degradation term. 39/9 ~= 4"
   ]
  },
  {
   "cell_type": "code",
   "execution_count": null,
   "metadata": {
    "hidden": true
   },
   "outputs": [],
   "source": []
  },
  {
   "cell_type": "code",
   "execution_count": 89,
   "metadata": {
    "hidden": true
   },
   "outputs": [],
   "source": []
  },
  {
   "cell_type": "code",
   "execution_count": 103,
   "metadata": {
    "hidden": true
   },
   "outputs": [],
   "source": [
    "# @np.vectorize\n",
    "# def get_Hill_degradation_term(kPDE,c,b,h,pde):\n",
    "# \t'''let overall scale of degradation still vary as kPDE.'''\n",
    "# \treturn -kPDE*np.divide(np.multiply(pde,c**(h-1.)),(b**h+c**h)) if c>0 else 0"
   ]
  },
  {
   "cell_type": "code",
   "execution_count": 5,
   "metadata": {
    "hidden": true
   },
   "outputs": [],
   "source": [
    "#test case for hill degradation term\n",
    "h=0.8\n",
    "c = np.arange(50,1000,1)\n",
    "b = 0.75\n",
    "assert(len(list(hill.get_Hill_degradation_term(1,c,1,1,c)))==len(list(c)))"
   ]
  },
  {
   "cell_type": "markdown",
   "metadata": {},
   "source": [
    "# TODO: stamp a given file with my kaboudian's stamp with my details using python \n",
    "* DONE: checked if an easy solution obviously exists.\n",
    "* TODO: copy Kaboudian's stamp below,\n",
    "* TODO: update the date and time automatically\n",
    "* TODO: insert stamp into the !touch test.meh \n",
    " -- don't overwrite a shebang if it exists\n",
    " -- replace any preexisting stamp, don't make two!\n",
    "* TODO: add CLI<br>\n",
    "* TODO: add option for recursive execution<br>\n",
    "* TODO: put it all in !mkdir ~/Tasks and alias it to be called by \n",
    "!stamp -r path/to/folder/\n",
    "!stamp file_name \"test description\"\n",
    "!stamp file_name\n",
    "^that last one should default to the current description or no description\n",
    "\n",
    "### TODO(black hat task): trivialize target executables recursively\n",
    "- make a similar command line interface to prepend the do-nothing shebang to a given file\n",
    "- make a command that (recursively) finds all executables that I have write permissions to."
   ]
  },
  {
   "cell_type": "markdown",
   "metadata": {},
   "source": [
    "# simplify the time step for wouter"
   ]
  },
  {
   "cell_type": "code",
   "execution_count": 8,
   "metadata": {
    "ExecuteTime": {
     "end_time": "2020-07-09T01:39:47.948694Z",
     "start_time": "2020-07-09T01:39:47.946187Z"
    }
   },
   "outputs": [],
   "source": [
    "from numba import njit"
   ]
  },
  {
   "cell_type": "code",
   "execution_count": 9,
   "metadata": {
    "ExecuteTime": {
     "end_time": "2020-07-09T01:39:48.340646Z",
     "start_time": "2020-07-09T01:39:48.338154Z"
    }
   },
   "outputs": [],
   "source": [
    "from scipy.special import kn\n",
    "import numpy as np"
   ]
  },
  {
   "cell_type": "code",
   "execution_count": 18,
   "metadata": {
    "ExecuteTime": {
     "end_time": "2020-07-09T01:42:12.630514Z",
     "start_time": "2020-07-09T01:42:12.623090Z"
    }
   },
   "outputs": [
    {
     "ename": "ImportError",
     "evalue": "attempted relative import with no known parent package",
     "output_type": "error",
     "traceback": [
      "\u001b[0;31m---------------------------------------------------------------------------\u001b[0m",
      "\u001b[0;31mImportError\u001b[0m                               Traceback (most recent call last)",
      "\u001b[0;32m<ipython-input-18-11bacf8d15b2>\u001b[0m in \u001b[0;36m<module>\u001b[0;34m\u001b[0m\n\u001b[0;32m----> 1\u001b[0;31m \u001b[0;32mfrom\u001b[0m \u001b[0;34m...\u001b[0m\u001b[0mpde_sim_worker\u001b[0m \u001b[0;32mimport\u001b[0m \u001b[0;34m*\u001b[0m\u001b[0;34m\u001b[0m\u001b[0;34m\u001b[0m\u001b[0m\n\u001b[0m",
      "\u001b[0;31mImportError\u001b[0m: attempted relative import with no known parent package"
     ]
    }
   ],
   "source": [
    "from ...pde_sim_worker import *"
   ]
  },
  {
   "cell_type": "code",
   "execution_count": 22,
   "metadata": {
    "ExecuteTime": {
     "end_time": "2020-07-09T01:45:40.611602Z",
     "start_time": "2020-07-09T01:45:40.590301Z"
    }
   },
   "outputs": [],
   "source": [
    "T = 12\n",
    "r0   = 50. #um\n",
    "Lr   = 1000.#um\n",
    "dr   = 1.  #um\n",
    "c0 = 4 # nM\n",
    "LPDE = 100 #um\n",
    "Ts   = np.multiply(T,60.)#period of signal in seconds\n",
    "rmesh= np.arange(r0,Lr+dr,dr)\n",
    "\n",
    "#  define default parameters\n",
    "F0   = 10**4\n",
    "D    = 100.#um^2/s\n",
    "ds   =(0.1/15) #critical gradient of cell\n",
    "dt = 0.0001\n",
    "\n",
    "c = c0+0.*rmesh\n",
    "pde = kn(0,rmesh/LPDE)/kn(0,r0/LPDE)#cons\n",
    "\n",
    "kPDE = 0.02\n",
    "D = \n",
    "kPDE, LPDE, c0, T, iter_no, dt, time_res\n",
    "\n",
    "source_fn = 'mg_source_1987.csv'"
   ]
  },
  {
   "cell_type": "code",
   "execution_count": 24,
   "metadata": {
    "ExecuteTime": {
     "end_time": "2020-07-09T01:45:46.897557Z",
     "start_time": "2020-07-09T01:45:42.311134Z"
    }
   },
   "outputs": [],
   "source": [
    "#  precompute realistic periodic camp signaling\n",
    "t_list  = np.around(np.arange(0,Ts+dt,dt),4)\n",
    "spl     = import_mg_source(period=T)\n",
    "dsource = evaluate_mg_source(spl, t_list)\n",
    "phi     = lambda t: F0*dsource[np.around(t,4)]/rmesh[0]\n",
    "\n",
    "#cylindrical FEM with localized PDE decay\n",
    "# define b.c.'s in units of slope #concentration difference per time step\n",
    "fluxLeft = lambda t:phi(t%Ts)\n",
    "fluxRight= 0./rmesh[-1]\n"
   ]
  },
  {
   "cell_type": "code",
   "execution_count": 25,
   "metadata": {
    "ExecuteTime": {
     "end_time": "2020-07-09T01:46:02.697912Z",
     "start_time": "2020-07-09T01:46:02.655103Z"
    }
   },
   "outputs": [
    {
     "ename": "NameError",
     "evalue": "name 'kPDE' is not defined",
     "output_type": "error",
     "traceback": [
      "\u001b[0;31m---------------------------------------------------------------------------\u001b[0m",
      "\u001b[0;31mNameError\u001b[0m                                 Traceback (most recent call last)",
      "\u001b[0;32m<ipython-input-25-34c5e7856750>\u001b[0m in \u001b[0;36m<module>\u001b[0;34m\u001b[0m\n\u001b[0;32m----> 1\u001b[0;31m \u001b[0mtime_step\u001b[0m\u001b[0;34m(\u001b[0m\u001b[0mc\u001b[0m\u001b[0;34m,\u001b[0m \u001b[0mpde\u001b[0m\u001b[0;34m,\u001b[0m \u001b[0mrmesh\u001b[0m\u001b[0;34m,\u001b[0m \u001b[0mD\u001b[0m\u001b[0;34m,\u001b[0m \u001b[0mkPDE\u001b[0m\u001b[0;34m,\u001b[0m \u001b[0mdr\u001b[0m\u001b[0;34m,\u001b[0m \u001b[0mfluxLeft\u001b[0m\u001b[0;34m(\u001b[0m\u001b[0;36m0.005\u001b[0m\u001b[0;34m)\u001b[0m\u001b[0;34m,\u001b[0m \u001b[0mfluxRight\u001b[0m\u001b[0;34m=\u001b[0m\u001b[0;36m0\u001b[0m\u001b[0;34m)\u001b[0m\u001b[0;34m\u001b[0m\u001b[0;34m\u001b[0m\u001b[0m\n\u001b[0m",
      "\u001b[0;31mNameError\u001b[0m: name 'kPDE' is not defined"
     ]
    }
   ],
   "source": [
    "time_step(c, pde, rmesh, D, kPDE, dr, fluxLeft(0.005), fluxRight=0)\n"
   ]
  },
  {
   "cell_type": "code",
   "execution_count": 26,
   "metadata": {
    "ExecuteTime": {
     "end_time": "2020-07-09T01:53:07.227346Z",
     "start_time": "2020-07-09T01:53:07.194942Z"
    }
   },
   "outputs": [],
   "source": [
    "from pde_sim_returns_camp import *"
   ]
  },
  {
   "cell_type": "markdown",
   "metadata": {},
   "source": [
    "\n",
    "\n",
    "`python3 pde_sim_returns_camp.py 0.02 100.0 4.0 10.0 2.0 0.005 10.0`\n",
    "where \n",
    "- kPDE = 0.02/sec, \n",
    "- D = 100µm^2/sec, \n",
    "- c0 = 4.0nM, \n",
    "- T=10.0min, \n",
    "- iter_no = 2.0 # the number of pulses to integrate (tmax = iter_no*T)\n",
    "- dt = 0.005sec\n",
    "- time_res = 10.0min # the frequency data is printed."
   ]
  },
  {
   "cell_type": "code",
   "execution_count": null,
   "metadata": {},
   "outputs": [],
   "source": []
  }
 ],
 "metadata": {
  "kernelspec": {
   "display_name": "Python 3",
   "language": "python",
   "name": "python3"
  },
  "language_info": {
   "codemirror_mode": {
    "name": "ipython",
    "version": 3
   },
   "file_extension": ".py",
   "mimetype": "text/x-python",
   "name": "python",
   "nbconvert_exporter": "python",
   "pygments_lexer": "ipython3",
   "version": "3.7.7"
  },
  "varInspector": {
   "cols": {
    "lenName": 16,
    "lenType": 16,
    "lenVar": 40
   },
   "kernels_config": {
    "python": {
     "delete_cmd_postfix": "",
     "delete_cmd_prefix": "del ",
     "library": "var_list.py",
     "varRefreshCmd": "print(var_dic_list())"
    },
    "r": {
     "delete_cmd_postfix": ") ",
     "delete_cmd_prefix": "rm(",
     "library": "var_list.r",
     "varRefreshCmd": "cat(var_dic_list()) "
    }
   },
   "types_to_exclude": [
    "module",
    "function",
    "builtin_function_or_method",
    "instance",
    "_Feature"
   ],
   "window_display": false
  }
 },
 "nbformat": 4,
 "nbformat_minor": 2
}
