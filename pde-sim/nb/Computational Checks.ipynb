{
 "cells": [
  {
   "cell_type": "markdown",
   "metadata": {},
   "source": [
    "# Computational Checks for Simulation of Radial Concentration Profiles"
   ]
  },
  {
   "cell_type": "code",
   "execution_count": 6,
   "metadata": {
    "ExecuteTime": {
     "end_time": "2020-07-24T00:21:53.404792Z",
     "start_time": "2020-07-24T00:21:53.360252Z"
    }
   },
   "outputs": [
    {
     "name": "stdout",
     "output_type": "stream",
     "text": [
      "The autoreload extension is already loaded. To reload it, use:\n",
      "  %reload_ext autoreload\n",
      "notebook is at: /Users/timothytyree/Documents/GitHub/radial_cell_motion/pde-sim/nb\n"
     ]
    }
   ],
   "source": [
    "\n",
    "import sys, os, time, numpy as np, pandas as pd\n",
    "import matplotlib.pyplot as plt\n",
    "from scipy.special import kn\n",
    "sys.path.append(os.path.abspath('../pde-sim-transfer/'))\n",
    "from pde_sim_returns_camp import *\n",
    "\n",
    "# from pde_sim_worker import *\n",
    "# import pde_sim_worker_hill as hill\n",
    "# from pde_sim_grid_scan import *\n",
    "# import test_cases\n",
    "\n",
    "# load the autoreload extension\n",
    "%load_ext autoreload\n",
    "# Set extension to reload modules every time before executing code\n",
    "%autoreload 2\n",
    "\n",
    "beep = lambda x: os.system(\"echo -n '\\a';sleep 0.2;\" * x)\n",
    "if not 'nb_dir' in globals():\n",
    "    nb_dir = os.getcwd()\n",
    "print('notebook is at: ' + nb_dir)\n",
    "#todo: test or google how sys.path[0] is initialized in a .py file  \n",
    "# transfer_dir = f\"{nb_dir}/../pde-sim-transfer\"\n",
    "# os.chdir(transfer_dir)\n",
    "\n",
    "# #import rcm\n",
    "# module_dir = os.path.join(sys.path[0],'../../')\n",
    "# if module_dir not in sys.path:\n",
    "#     sys.path.append(module_dir)\n",
    "# import radial_cell_motion as rcm\n",
    "\n",
    "\n",
    "#import pdesim\n",
    "transfer_dir = os.path.join(module_dir,'pde-sim/pde-sim-transfer')\n",
    "if transfer_dir not in sys.path:\n",
    "    sys.path.append(transfer_dir)\n",
    "import pde_sim_returns_camp as pdesim\n"
   ]
  },
  {
   "cell_type": "markdown",
   "metadata": {
    "heading_collapsed": true
   },
   "source": [
    "# constant flux yields constant increase of net cAMP"
   ]
  },
  {
   "cell_type": "code",
   "execution_count": null,
   "metadata": {
    "ExecuteTime": {
     "end_time": "2020-07-12T21:29:31.659088Z",
     "start_time": "2020-07-12T21:27:06.903045Z"
    },
    "hidden": true
   },
   "outputs": [],
   "source": [
    "\n",
    "cnet_values,t_values = simulate(kPDE=0., \n",
    "                                LPDE=100.0, \n",
    "                                c0=0.0, \n",
    "                                T=10.0, \n",
    "                                iter_no=2.0, \n",
    "                                dt=0.005, \n",
    "                                time_res = 10.0, \n",
    "                                use_constant_fluxLeft=True);"
   ]
  },
  {
   "cell_type": "code",
   "execution_count": null,
   "metadata": {
    "ExecuteTime": {
     "end_time": "2020-07-12T21:31:58.342441Z",
     "start_time": "2020-07-12T21:31:58.264888Z"
    },
    "hidden": true
   },
   "outputs": [],
   "source": [
    "x_values = t_values\n",
    "y_values = cnet_values\n",
    "print(f\"$dc_net(t)/dt$ = {np.mean(np.diff(y_values))/np.mean(np.diff(x_values))} nM µm^2 / sec.\")"
   ]
  },
  {
   "cell_type": "markdown",
   "metadata": {
    "hidden": true
   },
   "source": [
    "where\n",
    "$$c_\\text{net}(t) = \\sum_{r=r_0=50\\mu m}^{1000\\,\\mu m}c(r,t)\\bigg(2\\pi r dr + \\pi dr^2   \\bigg)$$"
   ]
  },
  {
   "cell_type": "code",
   "execution_count": null,
   "metadata": {
    "ExecuteTime": {
     "end_time": "2020-07-12T21:32:21.701563Z",
     "start_time": "2020-07-12T21:32:18.065123Z"
    },
    "hidden": true
   },
   "outputs": [],
   "source": [
    "plt.scatter(x=x_values, y=y_values)\n",
    "plt.xlabel('time (seconds)', fontsize=24)\n",
    "plt.ylabel('$c_{net}$ ($nM\\cdot µm^2$)', fontsize=24)\n",
    "plt.show()"
   ]
  },
  {
   "cell_type": "code",
   "execution_count": null,
   "metadata": {
    "hidden": true
   },
   "outputs": [],
   "source": []
  },
  {
   "cell_type": "code",
   "execution_count": null,
   "metadata": {
    "ExecuteTime": {
     "end_time": "2020-07-12T21:12:42.479974Z",
     "start_time": "2020-07-12T21:12:42.416177Z"
    },
    "hidden": true
   },
   "outputs": [],
   "source": [
    "print(f\"cAMP rate of change is {np.mean(np.diff(y_values))/np.mean(np.diff(x_values))}.\")\n"
   ]
  },
  {
   "cell_type": "markdown",
   "metadata": {
    "heading_collapsed": true
   },
   "source": [
    "# time dependent flux example profiles \n",
    "Parameters match those in Fig. 3F"
   ]
  },
  {
   "cell_type": "code",
   "execution_count": null,
   "metadata": {
    "ExecuteTime": {
     "end_time": "2020-07-15T19:34:01.538746Z",
     "start_time": "2020-07-15T19:34:01.513346Z"
    },
    "hidden": true
   },
   "outputs": [],
   "source": [
    "os.chdir(nb_dir+\"/../pde-sim-transfer\")"
   ]
  },
  {
   "cell_type": "code",
   "execution_count": null,
   "metadata": {
    "ExecuteTime": {
     "end_time": "2020-07-15T19:38:54.169819Z",
     "start_time": "2020-07-15T19:34:02.593328Z"
    },
    "hidden": true
   },
   "outputs": [],
   "source": [
    "# compute results for T = 10 minute period\n",
    "T10t5  = !python3 pde_sim_returns_camp.py 0.02 100.0 12.0 10.0 0.5 0.005 10.0 #outputs c(r) at time t = 5 min  for T = 10 min\n",
    "T10t10 = !python3 pde_sim_returns_camp.py 0.02 100.0 12.0 10.0 1.0 0.005 10.0 #outputs c(r) at time t = 10 min for T = 10 min\n",
    "T10t15 = !python3 pde_sim_returns_camp.py 0.02 100.0 12.0 10.0 1.5 0.005 10.0 #outputs c(r) at time t = 15 min for T = 10 min\n",
    "T10t20 = !python3 pde_sim_returns_camp.py 0.02 100.0 12.0 10.0 2.0 0.005 10.0 #outputs c(r) at time t = 10 min for T = 10 min"
   ]
  },
  {
   "cell_type": "code",
   "execution_count": null,
   "metadata": {
    "ExecuteTime": {
     "end_time": "2020-07-15T19:58:23.715148Z",
     "start_time": "2020-07-15T19:58:11.859337Z"
    },
    "hidden": true
   },
   "outputs": [],
   "source": [
    "# compute results for T = 20 minute period\n",
    "T20t10 = !python3 pde_sim_returns_camp.py 0.02 100.0 12.0 20.0 0.5 0.005 10.0 \n",
    "T20t20 = !python3 pde_sim_returns_camp.py 0.02 100.0 12.0 20.0 1.0 0.005 10.0\n",
    "T20t30 = !python3 pde_sim_returns_camp.py 0.02 100.0 12.0 20.0 1.5 0.005 10.0\n",
    "T20t40 = !python3 pde_sim_returns_camp.py 0.02 100.0 12.0 20.0 2.0 0.005 10.0\n",
    "\n",
    "# where the parameters are the following\n",
    "# - kPDE = 0.02/sec, \n",
    "# - D = 100µm^2/sec, \n",
    "# - c0 = 12.0nM, \n",
    "# - T=10.0min, or 20.0 min\n",
    "# - iter_no = 2.0 # the number of pulses to integrate (returned time = tmax = iter_no*T)\n",
    "# - dt = 0.005sec\n",
    "# - time_res = 10.0min # the frequency data is printed.\n"
   ]
  },
  {
   "cell_type": "code",
   "execution_count": null,
   "metadata": {
    "ExecuteTime": {
     "end_time": "2020-07-15T19:58:24.104838Z",
     "start_time": "2020-07-15T19:58:24.079881Z"
    },
    "hidden": true
   },
   "outputs": [],
   "source": [
    "T10_t5  = simulate(kPDE = 0.02, LPDE = 100.0, c0 = 12.0, T = 10.0, iter_no 0.5 0.005 10.0 #outputs c(r) at time t = 5 min  for T = 10 min\n"
   ]
  },
  {
   "cell_type": "code",
   "execution_count": null,
   "metadata": {
    "ExecuteTime": {
     "end_time": "2020-07-15T19:33:07.305686Z",
     "start_time": "2020-07-15T19:33:07.276769Z"
    },
    "hidden": true
   },
   "outputs": [],
   "source": [
    "beep(3)"
   ]
  },
  {
   "cell_type": "code",
   "execution_count": null,
   "metadata": {
    "ExecuteTime": {
     "end_time": "2020-07-15T19:48:57.003210Z",
     "start_time": "2020-07-15T19:48:56.982175Z"
    },
    "hidden": true,
    "scrolled": true
   },
   "outputs": [],
   "source": [
    "print(T10t5)"
   ]
  },
  {
   "cell_type": "markdown",
   "metadata": {
    "heading_collapsed": true
   },
   "source": [
    "# time dependent radial flux example profiles \n",
    "Parameters match those in Fig. 3F"
   ]
  },
  {
   "cell_type": "code",
   "execution_count": null,
   "metadata": {
    "ExecuteTime": {
     "end_time": "2020-07-21T19:56:35.506765Z",
     "start_time": "2020-07-21T19:56:35.481318Z"
    },
    "hidden": true
   },
   "outputs": [],
   "source": [
    "import pandas as pd\n",
    "import numpy as np\n",
    "from scipy.special import kn #modified bessel function of the second kind of integer order n\n",
    "from scipy.interpolate import BSpline"
   ]
  },
  {
   "cell_type": "markdown",
   "metadata": {
    "heading_collapsed": true,
    "hidden": true
   },
   "source": [
    "## simulate some results for T = 10 minutes"
   ]
  },
  {
   "cell_type": "code",
   "execution_count": null,
   "metadata": {
    "ExecuteTime": {
     "end_time": "2020-07-15T21:34:31.587823Z",
     "start_time": "2020-07-15T21:34:31.560457Z"
    },
    "hidden": true
   },
   "outputs": [],
   "source": [
    "T = 10 #period in minutes\n",
    "Ts   = np.multiply(T,60.)\n",
    "\n",
    "c0 = 12 #nM\n",
    "kPDE = 0.02#/sec\n",
    "LPDE = 100.#um\n",
    "D = 100#um^2/sec diffusion coefficient of cAMP\n",
    "\n",
    "#  make the mesh\n",
    "r0   = 50. #um\n",
    "Lr   = 1000.#um\n",
    "dr   = 1.  #um\n",
    "dt   =  0.005\n",
    "\n",
    "#period of signal in seconds\n",
    "rmesh= np.arange(r0,Lr+dr,dr)\n",
    "c    = 0.*rmesh\n",
    "\n",
    "#  define default parameters\n",
    "F0   = 10**4\n"
   ]
  },
  {
   "cell_type": "code",
   "execution_count": null,
   "metadata": {
    "ExecuteTime": {
     "end_time": "2020-07-15T21:34:32.381464Z",
     "start_time": "2020-07-15T21:34:32.287148Z"
    },
    "hidden": true
   },
   "outputs": [],
   "source": [
    "#  precompute realistic periodic camp signaling\n",
    "t_list  = np.around(np.arange(0,Ts+dt,dt),4)\n",
    "spl     = import_mg_source(period=T)\n",
    "dsource = evaluate_mg_source(spl, t_list)\n",
    "phi     = lambda t: F0*dsource[np.around(t,4)]/rmesh[0]\n",
    "\n",
    "#cylindrical FEM with localized PDE decay\n",
    "# define b.c.'s in units of slope #concentration difference per time step\n",
    "fluxLeft = lambda t:phi(t%Ts)\n",
    "fluxRight= 0./rmesh[-1]\n",
    "\n",
    "#initialize field values\n",
    "c = c0+0.*rmesh\n",
    "pde = kn(0,rmesh/LPDE)/kn(0,r0/LPDE)#constitutive pde production in 2D radial coords\n"
   ]
  },
  {
   "cell_type": "code",
   "execution_count": null,
   "metadata": {
    "ExecuteTime": {
     "end_time": "2020-07-15T21:35:13.163099Z",
     "start_time": "2020-07-15T21:34:32.961956Z"
    },
    "hidden": true
   },
   "outputs": [],
   "source": [
    "time = 0. #seconds\n",
    "\n",
    "#integrate up to time = 5 minutes\n",
    "tstop = 5*60.\n",
    "while time < tstop:\n",
    "    dcdt = time_step(c, pde, rmesh, D, kPDE, dr, fluxLeft(time), fluxRight=0)\n",
    "    c += dt*dcdt\n",
    "    time += dt\n",
    "T10t5 = c.copy()\n",
    "\n",
    "#integrate up to time = 10 minutes\n",
    "tstop = 10*60.\n",
    "while time < tstop:\n",
    "    dcdt = time_step(c, pde, rmesh, D, kPDE, dr, fluxLeft(time), fluxRight=0)\n",
    "    c += dt*dcdt\n",
    "    time += dt\n",
    "T10t10 = c.copy()\n",
    "\n",
    "#integrate up to time = 15 minutes\n",
    "tstop = 15*60.\n",
    "while time < tstop:\n",
    "    dcdt = time_step(c, pde, rmesh, D, kPDE, dr, fluxLeft(time), fluxRight=0)\n",
    "    c += dt*dcdt\n",
    "    time += dt\n",
    "T10t15 = c.copy()\n",
    "\n",
    "#integrate up to time = 20 minutes\n",
    "tstop = 20*60.\n",
    "while time < tstop:\n",
    "    dcdt = time_step(c, pde, rmesh, D, kPDE, dr, fluxLeft(time), fluxRight=0)\n",
    "    c += dt*dcdt\n",
    "    time += dt\n",
    "T10t20 = c.copy()\n",
    "\n",
    "#integrate up to time = 20 minutes\n",
    "tstop = 20*60.\n",
    "while time < tstop:\n",
    "    dcdt = time_step(c, pde, rmesh, D, kPDE, dr, fluxLeft(time), fluxRight=0)\n",
    "    c += dt*dcdt\n",
    "    time += dt\n",
    "T10t20 = c.copy()\n",
    "\n",
    "#integrate up to time = 30 minutes\n",
    "tstop = 30*60.\n",
    "while time < tstop:\n",
    "    dcdt = time_step(c, pde, rmesh, D, kPDE, dr, fluxLeft(time), fluxRight=0)\n",
    "    c += dt*dcdt\n",
    "    time += dt\n",
    "T10t30 = c.copy()\n",
    "\n",
    "#integrate up to time = 40 minutes\n",
    "tstop = 40*60.\n",
    "while time < tstop:\n",
    "    dcdt = time_step(c, pde, rmesh, D, kPDE, dr, fluxLeft(time), fluxRight=0)\n",
    "    c += dt*dcdt\n",
    "    time += dt\n",
    "T10t40 = c.copy()"
   ]
  },
  {
   "cell_type": "code",
   "execution_count": null,
   "metadata": {
    "ExecuteTime": {
     "end_time": "2020-07-15T21:35:13.910719Z",
     "start_time": "2020-07-15T21:35:13.672056Z"
    },
    "hidden": true
   },
   "outputs": [],
   "source": [
    "beep(1)"
   ]
  },
  {
   "cell_type": "code",
   "execution_count": null,
   "metadata": {
    "hidden": true
   },
   "outputs": [],
   "source": [
    "## Plot ^these results\n",
    "\n",
    "rmeshd = rmesh[:-1]\n",
    "thresh = 0.1/15 #threshold camp gradient for cell sensing in nM/um\n",
    "savedir = nb_dir+\"/../fig\"\n",
    "os.chdir(savedir)\n",
    "\n",
    "## Plot ^these results\n",
    "fig, (ax1,ax2) = plt.subplots(ncols = 2, figsize = (14,6))\n",
    "fontsize = 20\n",
    "text_params = {\"fontsize\":fontsize}#, \"fontweight\":\"bold\"}\n",
    "plot_params = {'lw' : 4, 'alpha' : 0.7}\n",
    "\n",
    "#plot data\n",
    "ax1.plot(rmesh,T10t10, label = \"t = 10 min\", **plot_params)\n",
    "ax1.plot(rmesh,T10t20, label = \"t = 20 min\", **plot_params)\n",
    "ax1.plot(rmesh,T10t30, label = \"t = 30 min\", **plot_params)\n",
    "ax1.plot(rmesh,T10t40, label = \"t = 40 min\", **plot_params)\n",
    "ax1.plot(rmesh,T10t5, label = \"t = 5 min\" , **plot_params)\n",
    "ax1.plot(rmesh,T10t15, label = \"t = 15 min\", **plot_params)\n",
    "#format plot\n",
    "ax1.set_title('cAMP profiles for T = 10 min', **text_params)\n",
    "ax1.set_xlabel ('r (µm)', **text_params)\n",
    "ax1.set_ylabel ('cAMP (nM)', **text_params)\n",
    "ax1.tick_params(width = 2, length = 4)\n",
    "ax1.yaxis.set_tick_params(labelsize=fontsize)\n",
    "ax1.xaxis.set_tick_params(labelsize=fontsize)\n",
    "ax1.legend(**text_params)\n",
    "\n",
    "#plot data\n",
    "ax2.plot(rmeshd,np.diff(T10t10), label = \"t = 10 min\", **plot_params)\n",
    "ax2.plot(rmeshd,np.diff(T10t20), label = \"t = 20 min\", **plot_params)\n",
    "ax2.plot(rmeshd,np.diff(T10t30), label = \"t = 30 min\", **plot_params)\n",
    "ax2.plot(rmeshd,np.diff(T10t40), label = \"t = 40 min\", **plot_params)\n",
    "ax2.plot(rmeshd,np.diff(T10t5), label = \"t = 5 min\" , **plot_params)\n",
    "ax2.plot(rmeshd,np.diff(T10t15), label = \"t = 15 min\", **plot_params)\n",
    "ax2.plot(rmeshd,thresh + 0.*rmeshd, **plot_params, color = 'black')\n",
    "\n",
    "#format plot\n",
    "ax2.set_title('cAMP gradients for T = 10 min', **text_params)\n",
    "ax2.set_xlabel ('r (µm)', **text_params)\n",
    "ax2.set_ylabel ('d(cAMP)/dr (nM/µm)', **text_params)\n",
    "ax2.tick_params(width = 2, length = 4)\n",
    "ax2.yaxis.set_tick_params(labelsize=fontsize)\n",
    "ax2.xaxis.set_tick_params(labelsize=fontsize)\n",
    "# ax2.legend(**text_params)\n",
    "ax2.set_ylim((-0.02,0.03))\n",
    "ax2.set_yticks((-0.02,-0.01,0,0.01,0.02, 0.03))\n",
    "\n",
    "fig.tight_layout()\n",
    "# plt.show()\n",
    "fig.savefig('pde-sim-example_T_10.pdf')\n",
    "\n",
    "## Plot ^these results\n",
    "fig, (ax1,ax2) = plt.subplots(ncols = 2, figsize = (14,6))\n",
    "fontsize = 20\n",
    "text_params = {\"fontsize\":fontsize}#, \"fontweight\":\"bold\"}\n",
    "plot_params = {'lw' : 4, 'alpha' : 0.7}\n",
    "\n",
    "#plot data\n",
    "ax1.plot(rmesh,T20t10, label = \"t = 10 min\" , **plot_params)\n",
    "ax1.plot(rmesh,T20t20, label = \"t = 20 min\", **plot_params)\n",
    "ax1.plot(rmesh,T20t30, label = \"t = 30 min\", **plot_params)\n",
    "ax1.plot(rmesh,T20t40, label = \"t = 40 min\", **plot_params)\n",
    "#format plot\n",
    "ax1.set_title('cAMP profiles for T = 20 min', **text_params)\n",
    "ax1.set_xlabel ('r (µm)', **text_params)\n",
    "ax1.set_ylabel ('cAMP (nM)', **text_params)\n",
    "ax1.tick_params(width = 2, length = 4)\n",
    "ax1.yaxis.set_tick_params(labelsize=fontsize)\n",
    "ax1.xaxis.set_tick_params(labelsize=fontsize)\n",
    "ax1.legend(**text_params)\n",
    "\n",
    "#plot data\n",
    "\n",
    "#plot data\n",
    "ax2.plot(rmeshd,np.diff(T20t10), label = \"t = 10 min\" , **plot_params)\n",
    "ax2.plot(rmeshd,np.diff(T20t20), label = \"t = 20 min\", **plot_params)\n",
    "ax2.plot(rmeshd,np.diff(T20t30), label = \"t = 30 min\", **plot_params)\n",
    "ax2.plot(rmeshd,np.diff(T20t40), label = \"t = 40 min\", **plot_params)\n",
    "ax2.plot(rmeshd,thresh + 0.*rmeshd, **plot_params, color = 'black')\n",
    "\n",
    "#format plot\n",
    "ax2.set_title('cAMP gradients for T = 20 min', **text_params)\n",
    "ax2.set_xlabel ('r (µm)', **text_params)\n",
    "ax2.set_ylabel ('d(cAMP)/dr (nM/µm)', **text_params)\n",
    "ax2.tick_params(width = 2, length = 4)\n",
    "ax2.yaxis.set_tick_params(labelsize=fontsize)\n",
    "ax2.xaxis.set_tick_params(labelsize=fontsize)\n",
    "# ax2.legend(**text_params)\n",
    "ax2.set_ylim((-0.02,0.03))\n",
    "ax2.set_yticks((-0.02,-0.01,0,0.01,0.02, 0.03))\n",
    "\n",
    "fig.tight_layout()\n",
    "# plt.show()\n",
    "fig.savefig('pde-sim-example_T_20.pdf')\n",
    "\n"
   ]
  },
  {
   "cell_type": "markdown",
   "metadata": {
    "heading_collapsed": true,
    "hidden": true
   },
   "source": [
    "## simulate some results for T \\in {20,21} minutes"
   ]
  },
  {
   "cell_type": "code",
   "execution_count": 2,
   "metadata": {
    "ExecuteTime": {
     "end_time": "2020-07-21T22:53:25.777959Z",
     "start_time": "2020-07-21T22:53:25.748033Z"
    },
    "hidden": true
   },
   "outputs": [],
   "source": [
    "# unstable at time step\n",
    "dt   =  0.0001\n",
    "kPDE = 0.8#/sec\n",
    "LPDE = 40.#um\n",
    "T    = 21 #period in minutes\n",
    "D    = 100 #um^2/sec diffusion coefficient of cAMP\n",
    "c0   = 12 #nM\n",
    "\n",
    "# c0 = 12 #nM\n",
    "# kPDE = 0.02#/sec\n",
    "# LPDE = 100.#um\n",
    "# T = 20 #period in minutes\n",
    "# D = 100 #um^2/sec diffusion coefficient of cAMP\n",
    "\n",
    "#  make the mesh\n",
    "r0   =  50. #um\n",
    "Lr   =  1000.#um\n",
    "dr   =  1.  #um\n",
    "\n",
    "#  define default parameters\n",
    "F0   = 10**4\n",
    "Ts   = np.multiply(T,60.)#period of signal in seconds\n",
    "rmesh= np.arange(r0,Lr+dr,dr)"
   ]
  },
  {
   "cell_type": "code",
   "execution_count": null,
   "metadata": {
    "ExecuteTime": {
     "end_time": "2020-07-21T21:54:58.021685Z",
     "start_time": "2020-07-21T21:54:57.991087Z"
    },
    "hidden": true
   },
   "outputs": [],
   "source": []
  },
  {
   "cell_type": "code",
   "execution_count": 3,
   "metadata": {
    "ExecuteTime": {
     "end_time": "2020-07-21T22:56:17.725564Z",
     "start_time": "2020-07-21T22:53:27.688367Z"
    },
    "hidden": true
   },
   "outputs": [
    {
     "data": {
      "image/png": "[encoded data removed]",
      "text/plain": [
       "<Figure size 432x288 with 1 Axes>"
      ]
     },
     "metadata": {
      "needs_background": "light"
     },
     "output_type": "display_data"
    }
   ],
   "source": [
    "#TODO: SWITCH mg_source evaluation to a B-Spline (force fluxLeft to nonvolatile memory)\n",
    "os.chdir(nb_dir)\n",
    "#  precompute realistic periodic camp signaling\n",
    "t_list  = np.around(np.arange(0,Ts+dt,dt),4)\n",
    "spl     = import_mg_source(period=T)\n",
    "dsource = evaluate_mg_source(spl, t_list)\n",
    "phi     = lambda t: F0*dsource[np.around(t,4)]/rmesh[0]\n",
    "\n",
    "#cylindrical FEM with localized PDE decay\n",
    "# define b.c.'s in units of slope #concentration difference per time step\n",
    "fluxLeft = lambda t:phi(t%Ts)\n",
    "fluxRight= 0./rmesh[-1]\n",
    "\n",
    "#initialize field values\n",
    "c = c0+0.*rmesh\n",
    "pde = kn(0,rmesh/LPDE)/kn(0,r0/LPDE)#constitutive pde production in 2D radial coords\n",
    "plt.scatter(x=list(map((lambda x:x/60), list(dsource.keys()))), y=list(dsource.values()))\n",
    "plt.xlabel('time (min)')\n",
    "plt.ylabel(r'$\\beta(t)/\\beta_{max}$')\n",
    "plt.show()"
   ]
  },
  {
   "cell_type": "code",
   "execution_count": 4,
   "metadata": {
    "ExecuteTime": {
     "end_time": "2020-07-21T23:19:44.254576Z",
     "start_time": "2020-07-21T22:56:46.711917Z"
    },
    "hidden": true
   },
   "outputs": [],
   "source": [
    "time = 0. #seconds\n",
    "c    = c0+0.*rmesh\n",
    "t1, t2, t3, t4, t5 = 21, 26, 31, 36, 41\n",
    "# t1, t2, t3, t4 = 10, 20, 30, 40\n",
    "\n",
    "#integrate up to time = t1 minutes\n",
    "tstop = t1*60.\n",
    "while time < tstop:\n",
    "    dcdt = time_step(c, pde, rmesh, D, kPDE, dr, fluxLeft(time), fluxRight=0)\n",
    "    c += dt*dcdt\n",
    "    time += dt\n",
    "Tt1 = c.copy()\n"
   ]
  },
  {
   "cell_type": "code",
   "execution_count": null,
   "metadata": {
    "hidden": true
   },
   "outputs": [],
   "source": [
    "#initialize cells at r == 100, 200, 300\n"
   ]
  },
  {
   "cell_type": "code",
   "execution_count": null,
   "metadata": {
    "ExecuteTime": {
     "end_time": "2020-07-21T22:36:15.868953Z",
     "start_time": "2020-07-21T22:03:25.584Z"
    },
    "hidden": true
   },
   "outputs": [],
   "source": [
    "\n",
    "#integrate up to time = t2 minutes\n",
    "tstop = t2*60.\n",
    "while time < tstop:\n",
    "    dcdt = time_step(c, pde, rmesh, D, kPDE, dr, fluxLeft(time), fluxRight=0)\n",
    "    c += dt*dcdt\n",
    "    time += dt\n",
    "        #TODO: Compute time series of cell movements\n",
    "Tt2 = c.copy()\n",
    "\n",
    "#integrate up to time = t3 minutes\n",
    "tstop = t3*60.\n",
    "while time < tstop:\n",
    "    dcdt = time_step(c, pde, rmesh, D, kPDE, dr, fluxLeft(time), fluxRight=0)\n",
    "    c += dt*dcdt\n",
    "    time += dt\n",
    "        #TODO: Compute time series of cell movements\n",
    "Tt3 = c.copy()\n",
    "\n",
    "#integrate up to time = t4 minutes\n",
    "tstop = t4*60.\n",
    "while time < tstop:\n",
    "    dcdt = time_step(c, pde, rmesh, D, kPDE, dr, fluxLeft(time), fluxRight=0)\n",
    "    c += dt*dcdt\n",
    "    time += dt\n",
    "    \n",
    "        #TODO: Compute time series of cell movements\n",
    "Tt4 = c.copy()\n",
    "\n",
    "#integrate up to time = t5 minutes\n",
    "tstop = t5*60.\n",
    "while time < tstop:\n",
    "    dcdt = time_step(c, pde, rmesh, D, kPDE, dr, fluxLeft(time), fluxRight=0)\n",
    "    c += dt*dcdt\n",
    "    time += dt\n",
    "Tt5 = c.copy()"
   ]
  },
  {
   "cell_type": "code",
   "execution_count": null,
   "metadata": {
    "ExecuteTime": {
     "end_time": "2020-07-21T22:36:20.385326Z",
     "start_time": "2020-07-21T22:36:19.725639Z"
    },
    "hidden": true
   },
   "outputs": [],
   "source": [
    "beep(3)"
   ]
  },
  {
   "cell_type": "code",
   "execution_count": null,
   "metadata": {
    "hidden": true
   },
   "outputs": [],
   "source": [
    "## TODO: use a just-in-time compiler like numba to functionally integrate in time\n",
    "## TODO add progress bar/list to a funcitonal representation of time integration\n",
    "# Hint: Example Usage:\n",
    "# import time\n",
    "# # A List of Items\n",
    "# items = list(range(0, 57))\n",
    "# l = len(items)\n",
    "# # Initial call to print 0% progress\n",
    "# printProgressBar(0, l, prefix = 'Progress:', suffix = 'Complete', length = 50)\n",
    "# for i, item in enumerate(items):\n",
    "#     # Do stuff...\n",
    "#     time.sleep(0.1)\n",
    "#     # Update Progress Bar\n",
    "#     printProgressBar(i + 1, l, prefix = 'Progress:', suffix = 'Complete', length = 50)\n"
   ]
  },
  {
   "cell_type": "markdown",
   "metadata": {
    "ExecuteTime": {
     "end_time": "2020-07-15T20:13:39.430794Z",
     "start_time": "2020-07-15T20:13:39.402684Z"
    },
    "heading_collapsed": true,
    "hidden": true
   },
   "source": [
    "## Plot ^these results"
   ]
  },
  {
   "cell_type": "code",
   "execution_count": null,
   "metadata": {
    "ExecuteTime": {
     "end_time": "2020-07-21T22:36:40.667891Z",
     "start_time": "2020-07-21T22:36:40.640965Z"
    },
    "hidden": true
   },
   "outputs": [],
   "source": [
    "rmeshd = rmesh[:-1]\n",
    "thresh = 0.1/15 #threshold camp gradient for cell sensing in nM/um\n",
    "savedir = nb_dir+\"/../fig\"\n",
    "os.chdir(savedir)"
   ]
  },
  {
   "cell_type": "code",
   "execution_count": null,
   "metadata": {
    "ExecuteTime": {
     "end_time": "2020-07-21T22:37:01.120489Z",
     "start_time": "2020-07-21T22:37:00.627791Z"
    },
    "hidden": true
   },
   "outputs": [],
   "source": [
    "fontsize = 20\n",
    "saving = True\n",
    "text_params = {\"fontsize\":fontsize}#, \"fontweight\":\"bold\"}\n",
    "plot_params = {'lw' : 4, 'alpha' : 0.7}\n",
    "\n",
    "## Plot radial concentrations\n",
    "fig, (ax1,ax2) = plt.subplots(ncols = 2, figsize = (14,6))\n",
    "\n",
    "#TODO: abstract data to be plotted\n",
    "# lst_x_values = []\n",
    "# lst_y_values = []\n",
    "# lst_labels   = []\n",
    "\n",
    "#plot data\n",
    "ax1.plot(rmesh,Tt1, label = f\"t = {int(t1)} min\" , **plot_params)\n",
    "ax1.plot(rmesh,Tt2, label = f\"t = {int(t2)} min\", **plot_params)\n",
    "ax1.plot(rmesh,Tt3, label = f\"t = {int(t3)} min\", **plot_params)\n",
    "ax1.plot(rmesh,Tt4, label = f\"t = {int(t4)} min\", **plot_params)\n",
    "ax1.plot(rmesh,Tt5, label = f\"t = {int(t5)} min\", **plot_params)\n",
    "\n",
    "#format plot\n",
    "ax1.set_title(f'cAMP profiles for T = {T} min', **text_params)\n",
    "ax1.set_xlabel ('r (µm)', **text_params)\n",
    "ax1.set_ylabel ('cAMP (nM)', **text_params)\n",
    "ax1.tick_params(width = 2, length = 4)\n",
    "ax1.yaxis.set_tick_params(labelsize=fontsize)\n",
    "ax1.xaxis.set_tick_params(labelsize=fontsize)\n",
    "ax1.legend(**text_params)\n",
    "\n",
    "## Plot radial concentration gradients\n",
    "#plot data\n",
    "ax2.plot(rmeshd,np.diff(Tt1), label = f\"t = {int(t1)} min\", **plot_params)\n",
    "ax2.plot(rmeshd,np.diff(Tt2), label = f\"t = {int(t2)} min\", **plot_params)\n",
    "ax2.plot(rmeshd,np.diff(Tt3), label = f\"t = {int(t3)} min\", **plot_params)\n",
    "ax2.plot(rmeshd,np.diff(Tt4), label = f\"t = {int(t4)} min\", **plot_params)\n",
    "ax2.plot(rmeshd,np.diff(Tt5), label = f\"t = {int(t5)} min\", **plot_params)\n",
    "ax2.plot(rmeshd,thresh + 0.*rmeshd, **plot_params, color = 'black')\n",
    "\n",
    "#format plot\n",
    "ax2.set_title(f'cAMP gradients for T = {T} min', **text_params)\n",
    "ax2.set_xlabel ('r (µm)', **text_params)\n",
    "ax2.set_ylabel ('d(cAMP)/dr (nM/µm)', **text_params)\n",
    "ax2.tick_params(width = 2, length = 4)\n",
    "ax2.yaxis.set_tick_params(labelsize=fontsize)\n",
    "ax2.xaxis.set_tick_params(labelsize=fontsize)\n",
    "# ax2.legend(**text_params)\n",
    "ax2.set_ylim((-0.02,0.03))\n",
    "ax2.set_yticks((-0.02,-0.01,0,0.01,0.02, 0.03))\n",
    "\n",
    "if not saving:\n",
    "    plt.show()\n",
    "else:\n",
    "    fig.tight_layout()\n",
    "    fig.savefig(f'pde-sim-example_T_{T}_dt_{dt}.pdf')"
   ]
  },
  {
   "cell_type": "code",
   "execution_count": 5,
   "metadata": {
    "ExecuteTime": {
     "end_time": "2020-07-21T23:20:13.643964Z",
     "start_time": "2020-07-21T23:20:13.611066Z"
    },
    "hidden": true
   },
   "outputs": [],
   "source": [
    "lst_r_obs  = [100, 200, 300]\n",
    "\n",
    "#initialize a (cellular automata) cell at each radius at t1 for radius in [100,200,300] microns\n",
    "def make_cell_at(r_obs, dt):\n",
    "    cell_props = {\n",
    "        'r':r_obs, #initial location\n",
    "        'a':1,  #does a or b need changed?\n",
    "        'b':1,  #is b=0 equiv. to no repellant?\n",
    "        'v0':5,\n",
    "        'dt':dt,\n",
    "        'rmin':50,\n",
    "        'rmax':1000,\n",
    "        'time':t1,\n",
    "        'record_traj':True,\n",
    "        'g_thresh':0.006666666666666667,}\n",
    "\n",
    "    cell = rcm.Cell(\n",
    "        **cell_props\n",
    "    )\n",
    "    return cell\n",
    "\n",
    "lst_cells = [make_cell_at(r_obs, dt) for r_obs in lst_r_obs]"
   ]
  },
  {
   "cell_type": "code",
   "execution_count": null,
   "metadata": {
    "ExecuteTime": {
     "end_time": "2020-07-21T22:41:20.728341Z",
     "start_time": "2020-07-21T22:41:08.839Z"
    },
    "hidden": true
   },
   "outputs": [],
   "source": []
  },
  {
   "cell_type": "markdown",
   "metadata": {
    "ExecuteTime": {
     "end_time": "2020-07-15T21:46:02.137988Z",
     "start_time": "2020-07-15T21:46:01.975656Z"
    },
    "heading_collapsed": true
   },
   "source": [
    "# functionally get  cell velocity"
   ]
  },
  {
   "cell_type": "code",
   "execution_count": 6,
   "metadata": {
    "ExecuteTime": {
     "end_time": "2020-07-21T23:20:43.100170Z",
     "start_time": "2020-07-21T23:20:43.077317Z"
    },
    "hidden": true
   },
   "outputs": [],
   "source": [
    "#compute the step for cell, with no repellant field considered\n",
    "def get_cell_velocity(cell, GA, rmesh):\n",
    "    # cell.calc_vr(GA, 0.*GA) was broken because GA is an array. fix by passing \n",
    "    #     arg = GA[int(cell.r)=int(cell.r)]; thresh = cell.g_thresh\n",
    "    #     return cell.v0*sign_w_thresh(arg,thresh)\n",
    "    ga = GA[int(cell.r)==rmesh]\n",
    "    return cell.calc_vr(ga, 0.*ga)\n",
    "\n",
    "\n",
    "\n",
    "# GA = Tt1\n",
    "# get_cell_velocity(cell, GA,rmesh)\n",
    "# if arg-thresh>0:\n",
    "#     print(1)\n",
    "# elif arg+thresh<0:\n",
    "#     print(0)"
   ]
  },
  {
   "cell_type": "code",
   "execution_count": null,
   "metadata": {
    "ExecuteTime": {
     "end_time": "2020-07-21T22:46:24.524557Z",
     "start_time": "2020-07-21T22:46:24.501454Z"
    },
    "hidden": true
   },
   "outputs": [],
   "source": [
    "def get_dcdr(c,rmesh,cell):\n",
    "    loc = int(np.argwhere(rmesh==int(cell.r)))\n",
    "    dcdr = np.diff(Tt1)/dr\n",
    "    return dcdr[loc]\n",
    "# if: float(c[rmesh==int(cell.r)])>cell.g_thresh"
   ]
  },
  {
   "cell_type": "code",
   "execution_count": null,
   "metadata": {
    "ExecuteTime": {
     "end_time": "2020-07-21T22:49:36.604757Z",
     "start_time": "2020-07-21T22:49:36.573636Z"
    },
    "hidden": true
   },
   "outputs": [],
   "source": [
    "#import df_camp/ \n",
    "# TODO: write a generator expression of the camp field using input camp profile, Tt1 at time t1next time step from current time step.\n",
    "c = Tt1\n",
    "GA = c.copy()\n",
    "get_dcdr(c,rmesh,cell)\n",
    "get_cell_velocity(cell,GA,rmesh)\n",
    "\n",
    "#todo: import mg_source\n",
    "# pdesim.time_step(c, pde, rmesh, D, kPDE, dr, fluxLeft, fluxRight=0)\n",
    "\n"
   ]
  },
  {
   "cell_type": "code",
   "execution_count": null,
   "metadata": {
    "ExecuteTime": {
     "end_time": "2020-07-21T22:49:56.703080Z",
     "start_time": "2020-07-21T22:49:56.680892Z"
    },
    "hidden": true
   },
   "outputs": [],
   "source": [
    "#time step a list of cells forward for df_camp\n",
    "# rcm.simulate?"
   ]
  },
  {
   "cell_type": "markdown",
   "metadata": {
    "heading_collapsed": true
   },
   "source": [
    "# TODO: plot cell velocity, coloring by time and marking/dotting lines by starting_position"
   ]
  },
  {
   "cell_type": "code",
   "execution_count": null,
   "metadata": {
    "ExecuteTime": {
     "end_time": "2020-07-21T22:39:03.422222Z",
     "start_time": "2020-07-21T22:39:03.085213Z"
    },
    "hidden": true
   },
   "outputs": [],
   "source": [
    "fontsize = 20\n",
    "saving = False\n",
    "text_params = {\"fontsize\":fontsize}#, \"fontweight\":\"bold\"}\n",
    "plot_params = {'lw' : 4, 'alpha' : 0.7}\n",
    "\n",
    "## Plot radial concentrations\n",
    "fig, (ax1,ax2) = plt.subplots(ncols = 2, figsize = (14,6))\n",
    "\n",
    "#TODO: abstract data to be plotted\n",
    "# lst_x_values = []\n",
    "# lst_y_values = []\n",
    "# lst_labels   = []\n",
    "\n",
    "#plot data\n",
    "ax1.plot(rmesh,Tt1, label = f\"t = {int(t1)} min\" , **plot_params)\n",
    "ax1.plot(rmesh,Tt2, label = f\"t = {int(t2)} min\", **plot_params)\n",
    "ax1.plot(rmesh,Tt3, label = f\"t = {int(t3)} min\", **plot_params)\n",
    "ax1.plot(rmesh,Tt4, label = f\"t = {int(t4)} min\", **plot_params)\n",
    "ax1.plot(rmesh,Tt5, label = f\"t = {int(t5)} min\", **plot_params)\n",
    "\n",
    "#format plot\n",
    "ax1.set_title(f'cAMP profiles for T = {T} min', **text_params)\n",
    "ax1.set_xlabel ('r (µm)', **text_params)\n",
    "ax1.set_ylabel ('cAMP (nM)', **text_params)\n",
    "ax1.tick_params(width = 2, length = 4)\n",
    "ax1.yaxis.set_tick_params(labelsize=fontsize)\n",
    "ax1.xaxis.set_tick_params(labelsize=fontsize)\n",
    "ax1.legend(**text_params)\n",
    "\n",
    "## Plot radial concentration gradients\n",
    "#plot data\n",
    "ax2.plot(rmeshd,np.diff(Tt1), label = f\"t = {int(t1)} min\", **plot_params)\n",
    "ax2.plot(rmeshd,np.diff(Tt2), label = f\"t = {int(t2)} min\", **plot_params)\n",
    "ax2.plot(rmeshd,np.diff(Tt3), label = f\"t = {int(t3)} min\", **plot_params)\n",
    "ax2.plot(rmeshd,np.diff(Tt4), label = f\"t = {int(t4)} min\", **plot_params)\n",
    "ax2.plot(rmeshd,np.diff(Tt5), label = f\"t = {int(t5)} min\", **plot_params)\n",
    "ax2.plot(rmeshd,thresh + 0.*rmeshd, **plot_params, color = 'black')\n",
    "\n",
    "#format plot\n",
    "ax2.set_title(f'cAMP gradients for T = {T} min', **text_params)\n",
    "ax2.set_xlabel ('r (µm)', **text_params)\n",
    "ax2.set_ylabel ('d(cAMP)/dr (nM/µm)', **text_params)\n",
    "ax2.tick_params(width = 2, length = 4)\n",
    "ax2.yaxis.set_tick_params(labelsize=fontsize)\n",
    "ax2.xaxis.set_tick_params(labelsize=fontsize)\n",
    "# ax2.legend(**text_params)\n",
    "ax2.set_ylim((-0.02,0.03))\n",
    "ax2.set_yticks((-0.02,-0.01,0,0.01,0.02, 0.03))\n",
    "\n",
    "if not saving:\n",
    "    plt.show()\n",
    "else:\n",
    "    fig.tight_layout()\n",
    "    fig.savefig(f'pde-sim-example_T_{T}_dt_{dt}.pdf')"
   ]
  },
  {
   "cell_type": "markdown",
   "metadata": {},
   "source": [
    "# command line checks for WJ"
   ]
  },
  {
   "cell_type": "code",
   "execution_count": 8,
   "metadata": {
    "ExecuteTime": {
     "end_time": "2020-07-24T00:21:59.104066Z",
     "start_time": "2020-07-24T00:21:59.067091Z"
    }
   },
   "outputs": [
    {
     "name": "stdout",
     "output_type": "stream",
     "text": [
      "/Users/timothytyree/Documents/GitHub/radial_cell_motion/pde-sim/nb/../../pde-sim/pde-sim-transfer\n"
     ]
    }
   ],
   "source": [
    "os.chdir(transfer_dir)\n",
    "print(transfer_dir)"
   ]
  },
  {
   "cell_type": "code",
   "execution_count": 9,
   "metadata": {
    "ExecuteTime": {
     "end_time": "2020-07-24T00:27:29.128269Z",
     "start_time": "2020-07-24T00:22:01.617786Z"
    }
   },
   "outputs": [
    {
     "name": "stdout",
     "output_type": "stream",
     "text": [
      "Printing Inputs:\n",
      "kPDE:0.1 LPDE:10.0 c0:12.0 T:21 iter_no:2 dt:0.005 time_res:10\n",
      "\n",
      "Printing Outputs including mean cell direction (mcd):\n",
      "cycle_no,mean_c,mcd_at_100,mcd_at_200,mcd_at_300,mcd_at_400,mcd_at_500,mcd_at_800\n",
      "0,12.17297,0.65873,0.42857,-0.04762,-0.26984,-0.19048,0.00000\n",
      "1,12.38103,0.65873,0.45238,0.05952,-0.26190,-0.16667,0.00000\n",
      "the final radial cAMP field is:\n",
      "cAMP=\n",
      "[ 6.13116118  6.13725372  6.14869972  6.16478483  6.18493809  6.20864953\n",
      "  6.23547362  6.26500993  6.29690768  6.33085133  6.36656301  6.40379349\n",
      "  6.44232221  6.48195211  6.52250828  6.56383489  6.60579352  6.64826109\n",
      "  6.6911283   6.73429814  6.7776846   6.82121145  6.86481126  6.90842445\n",
      "  6.95199845  6.99548698  7.03884936  7.08204995  7.12505759  7.16784513\n",
      "  7.21038904  7.25266898  7.29466746  7.33636956  7.37776266  7.41883614\n",
      "  7.45958122  7.49999071  7.54005887  7.57978122  7.61915442  7.65817612\n",
      "  7.69684486  7.73515995  7.7731214   7.81072982  7.84798633  7.88489254\n",
      "  7.92145044  7.95766238  7.993531    8.02905922  8.06425015  8.09910711\n",
      "  8.13363355  8.16783308  8.20170939  8.23526626  8.26850754  8.30143712\n",
      "  8.33405893  8.36637691  8.39839503  8.43011722  8.46154745  8.49268962\n",
      "  8.52354765  8.55412541  8.58442673  8.6144554   8.64421519  8.67370979\n",
      "  8.70294287  8.73191804  8.76063884  8.78910879  8.81733133  8.84530985\n",
      "  8.87304768  8.90054811  8.92781436  8.9548496   8.98165692  9.0082394\n",
      "  9.03460003  9.06074174  9.08666744  9.11237995  9.13788206  9.16317651\n",
      "  9.18826596  9.21315305  9.23784036  9.26233041  9.28662569  9.31072864\n",
      "  9.33464165  9.35836705  9.38190715  9.4052642   9.42844042  9.45143799\n",
      "  9.47425903  9.49690563  9.51937986  9.54168371  9.56381919  9.58578821\n",
      "  9.6075927   9.62923452  9.65071551  9.67203747  9.69320219  9.71421139\n",
      "  9.73506678  9.75577005  9.77632285  9.79672679  9.81698346  9.83709444\n",
      "  9.85706126  9.87688543  9.89656844  9.91611174  9.93551677  9.95478495\n",
      "  9.97391766  9.99291626 10.0117821  10.03051649 10.04912075 10.06759613\n",
      " 10.08594391 10.10416531 10.12226156 10.14023384 10.15808335 10.17581124\n",
      " 10.19341864 10.2109067  10.2282765  10.24552915 10.26266571 10.27968725\n",
      " 10.2965948  10.31338939 10.33007203 10.34664371 10.36310542 10.37945811\n",
      " 10.39570276 10.41184028 10.4278716  10.44379765 10.45961931 10.47533747\n",
      " 10.49095301 10.50646678 10.52187963 10.53719241 10.55240593 10.56752102\n",
      " 10.58253847 10.59745908 10.61228363 10.62701288 10.64164761 10.65618856\n",
      " 10.67063648 10.68499209 10.69925611 10.71342927 10.72751226 10.74150577\n",
      " 10.75541049 10.76922711 10.78295628 10.79659867 10.81015492 10.82362569\n",
      " 10.8370116  10.85031329 10.86353138 10.87666647 10.88971918 10.9026901\n",
      " 10.91557982 10.92838893 10.941118   10.9537676  10.9663383  10.97883066\n",
      " 10.99124522 11.00358253 11.01584313 11.02802755 11.04013631 11.05216994\n",
      " 11.06412894 11.07601384 11.08782513 11.0995633  11.11122886 11.12282229\n",
      " 11.13434406 11.14579466 11.15717456 11.16848422 11.1797241  11.19089467\n",
      " 11.20199637 11.21302964 11.22399494 11.2348927  11.24572335 11.25648732\n",
      " 11.26718503 11.27781692 11.28838338 11.29888484 11.30932171 11.31969437\n",
      " 11.33000325 11.34024873 11.3504312  11.36055105 11.37060868 11.38060445\n",
      " 11.39053874 11.40041194 11.4102244  11.41997651 11.42966861 11.43930108\n",
      " 11.44887426 11.45838851 11.46784419 11.47724163 11.48658119 11.4958632\n",
      " 11.505088   11.51425593 11.52336732 11.5324225  11.54142179 11.55036553\n",
      " 11.55925402 11.56808758 11.57686654 11.58559121 11.59426189 11.60287889\n",
      " 11.61144252 11.61995308 11.62841087 11.63681618 11.64516932 11.65347057\n",
      " 11.66172023 11.66991858 11.67806591 11.6861625  11.69420864 11.70220459\n",
      " 11.71015065 11.71804707 11.72589415 11.73369214 11.74144131 11.74914194\n",
      " 11.75679428 11.76439859 11.77195515 11.7794642  11.78692601 11.79434082\n",
      " 11.80170889 11.80903048 11.81630582 11.82353518 11.83071878 11.83785689\n",
      " 11.84494973 11.85199755 11.8590006  11.86595909 11.87287328 11.87974339\n",
      " 11.88656966 11.89335232 11.9000916  11.90678772 11.9134409  11.92005139\n",
      " 11.92661939 11.93314513 11.93962883 11.94607071 11.95247098 11.95882986\n",
      " 11.96514757 11.97142432 11.97766031 11.98385577 11.9900109  11.9961259\n",
      " 12.00220099 12.00823636 12.01423223 12.02018879 12.02610625 12.03198481\n",
      " 12.03782466 12.043626   12.04938904 12.05511396 12.06080096 12.06645023\n",
      " 12.07206196 12.07763635 12.08317359 12.08867385 12.09413734 12.09956424\n",
      " 12.10495473 12.110309   12.11562722 12.12090959 12.12615629 12.13136749\n",
      " 12.13654337 12.14168411 12.14678989 12.15186089 12.15689728 12.16189923\n",
      " 12.16686692 12.17180052 12.17670021 12.18156615 12.18639851 12.19119746\n",
      " 12.19596318 12.20069582 12.20539555 12.21006254 12.21469696 12.21929896\n",
      " 12.22386872 12.22840638 12.23291212 12.2373861  12.24182846 12.24623938\n",
      " 12.25061901 12.25496751 12.25928503 12.26357174 12.26782777 12.2720533\n",
      " 12.27624847 12.28041343 12.28454834 12.28865335 12.29272861 12.29677427\n",
      " 12.30079048 12.30477738 12.30873513 12.31266387 12.31656374 12.3204349\n",
      " 12.32427749 12.32809165 12.33187753 12.33563527 12.33936501 12.3430669\n",
      " 12.34674107 12.35038766 12.35400682 12.35759869 12.36116339 12.36470108\n",
      " 12.36821189 12.37169595 12.37515341 12.37858439 12.38198903 12.38536747\n",
      " 12.38871984 12.39204628 12.39534691 12.39862187 12.40187129 12.4050953\n",
      " 12.40829403 12.41146761 12.41461618 12.41773985 12.42083876 12.42391304\n",
      " 12.42696281 12.4299882  12.43298934 12.43596635 12.43891935 12.44184847\n",
      " 12.44475385 12.44763558 12.45049382 12.45332866 12.45614025 12.45892869\n",
      " 12.46169411 12.46443663 12.46715637 12.46985345 12.47252799 12.47518011\n",
      " 12.47780993 12.48041756 12.48300312 12.48556673 12.4881085  12.49062856\n",
      " 12.49312701 12.49560397 12.49805956 12.50049389 12.50290707 12.50529922\n",
      " 12.50767045 12.51002088 12.5123506  12.51465975 12.51694842 12.51921673\n",
      " 12.52146478 12.5236927  12.52590058 12.52808854 12.53025669 12.53240513\n",
      " 12.53453397 12.53664332 12.53873328 12.54080397 12.54285549 12.54488794\n",
      " 12.54690143 12.54889607 12.55087195 12.5528292  12.55476789 12.55668815\n",
      " 12.55859008 12.56047377 12.56233933 12.56418687 12.56601648 12.56782826\n",
      " 12.56962231 12.57139875 12.57315766 12.57489914 12.5766233  12.57833023\n",
      " 12.58002004 12.58169282 12.58334867 12.58498768 12.58660996 12.5882156\n",
      " 12.5898047  12.59137735 12.59293364 12.59447369 12.59599757 12.59750539\n",
      " 12.59899724 12.60047322 12.60193341 12.60337791 12.60480681 12.60622021\n",
      " 12.6076182  12.60900088 12.61036832 12.61172063 12.61305789 12.6143802\n",
      " 12.61568765 12.61698033 12.61825832 12.61952172 12.62077061 12.62200509\n",
      " 12.62322524 12.62443115 12.62562291 12.62680061 12.62796433 12.62911416\n",
      " 12.63025019 12.6313725  12.63248118 12.63357632 12.634658   12.6357263\n",
      " 12.63678131 12.63782312 12.63885181 12.63986747 12.64087017 12.64185999\n",
      " 12.64283704 12.64380138 12.64475309 12.64569227 12.64661899 12.64753333\n",
      " 12.64843537 12.64932521 12.6502029  12.65106855 12.65192222 12.65276399\n",
      " 12.65359396 12.65441218 12.65521876 12.65601375 12.65679724 12.65756931\n",
      " 12.65833004 12.6590795  12.65981778 12.66054494 12.66126106 12.66196623\n",
      " 12.66266051 12.66334398 12.66401672 12.66467881 12.66533031 12.66597131\n",
      " 12.66660187 12.66722207 12.66783199 12.6684317  12.66902127 12.66960077\n",
      " 12.67017028 12.67072987 12.67127961 12.67181958 12.67234984 12.67287047\n",
      " 12.67338154 12.67388311 12.67437527 12.67485807 12.6753316  12.67579592\n",
      " 12.67625109 12.67669719 12.67713429 12.67756246 12.67798176 12.67839227\n",
      " 12.67879404 12.67918716 12.67957168 12.67994767 12.6803152  12.68067434\n",
      " 12.68102516 12.68136771 12.68170207 12.6820283  12.68234646 12.68265663\n",
      " 12.68295886 12.68325323 12.68353979 12.68381861 12.68408975 12.68435328\n",
      " 12.68460926 12.68485775 12.68509882 12.68533253 12.68555894 12.68577812\n",
      " 12.68599012 12.686195   12.68639284 12.68658368 12.6867676  12.68694465\n",
      " 12.68711488 12.68727837 12.68743518 12.68758535 12.68772895 12.68786605\n",
      " 12.68799669 12.68812094 12.68823886 12.6883505  12.68845592 12.68855519\n",
      " 12.68864835 12.68873547 12.6888166  12.6888918  12.68896112 12.68902463\n",
      " 12.68908237 12.68913441 12.6891808  12.68922159 12.68925685 12.68928661\n",
      " 12.68931095 12.68932991 12.68934355 12.68935193 12.68935509 12.68935309\n",
      " 12.68934598 12.68933382 12.68931666 12.68929455 12.68926754 12.68923569\n",
      " 12.68919905 12.68915767 12.6891116  12.68906089 12.6890056  12.68894577\n",
      " 12.68888146 12.68881271 12.68873958 12.68866212 12.68858037 12.68849438\n",
      " 12.68840421 12.6883099  12.68821151 12.68810907 12.68800265 12.68789228\n",
      " 12.68777801 12.6876599  12.68753799 12.68741233 12.68728296 12.68714993\n",
      " 12.68701329 12.68687309 12.68672936 12.68658216 12.68643154 12.68627753\n",
      " 12.68612018 12.68595955 12.68579566 12.68562858 12.68545833 12.68528498\n",
      " 12.68510855 12.6849291  12.68474666 12.68456129 12.68437302 12.6841819\n",
      " 12.68398797 12.68379127 12.68359184 12.68338974 12.68318499 12.68297764\n",
      " 12.68276774 12.68255532 12.68234042 12.68212309 12.68190337 12.68168129\n",
      " 12.6814569  12.68123024 12.68100135 12.68077026 12.68053701 12.68030165\n",
      " 12.68006422 12.67982475 12.67958328 12.67933985 12.6790945  12.67884727\n",
      " 12.67859819 12.6783473  12.67809464 12.67784024 12.67758416 12.67732641\n",
      " 12.67706703 12.67680607 12.67654356 12.67627954 12.67601404 12.67574709\n",
      " 12.67547873 12.67520901 12.67493794 12.67466558 12.67439194 12.67411707\n",
      " 12.67384101 12.67356377 12.67328541 12.67300595 12.67272542 12.67244386\n",
      " 12.67216131 12.67187778 12.67159333 12.67130798 12.67102176 12.6707347\n",
      " 12.67044684 12.67015821 12.66986884 12.66957876 12.669288   12.66899659\n",
      " 12.66870457 12.66841197 12.66811881 12.66782512 12.66753094 12.66723629\n",
      " 12.66694121 12.66664573 12.66634986 12.66605365 12.66575712 12.66546031\n",
      " 12.66516323 12.66486591 12.6645684  12.6642707  12.66397286 12.6636749\n",
      " 12.66337684 12.66307872 12.66278056 12.66248238 12.66218422 12.6618861\n",
      " 12.66158805 12.66129009 12.66099225 12.66069456 12.66039704 12.66009971\n",
      " 12.6598026  12.65950574 12.65920916 12.65891287 12.6586169  12.65832128\n",
      " 12.65802602 12.65773116 12.65743672 12.65714272 12.65684918 12.65655613\n",
      " 12.6562636  12.65597159 12.65568015 12.65538928 12.65509902 12.65480938\n",
      " 12.65452039 12.65423207 12.65394444 12.65365752 12.65337133 12.6530859\n",
      " 12.65280124 12.65251738 12.65223434 12.65195214 12.6516708  12.65139033\n",
      " 12.65111077 12.65083212 12.65055442 12.65027767 12.6500019  12.64972712\n",
      " 12.64945337 12.64918064 12.64890898 12.64863838 12.64836888 12.64810048\n",
      " 12.64783321 12.64756709 12.64730213 12.64703836 12.64677578 12.64651441\n",
      " 12.64625428 12.6459954  12.64573778 12.64548145 12.64522641 12.6449727\n",
      " 12.64472031 12.64446928 12.6442196  12.64397131 12.64372441 12.64347892\n",
      " 12.64323486 12.64299224 12.64275107 12.64251138 12.64227317 12.64203646\n",
      " 12.64180126 12.64156759 12.64133546 12.64110489 12.64087589 12.64064847\n",
      " 12.64042264 12.64019843 12.63997583 12.63975488 12.63953557 12.63931792\n",
      " 12.63910194 12.63888765 12.63867505 12.63846417 12.638255   12.63804757\n",
      " 12.63784188 12.63763795 12.63743579 12.6372354  12.6370368  12.63684\n",
      " 12.63664501 12.63645184 12.6362605  12.63607101 12.63588336 12.63569757\n",
      " 12.63551366 12.63533162 12.63515148 12.63497323 12.63479689 12.63462247\n",
      " 12.63444997 12.63427941 12.63411079 12.63394412 12.63377941 12.63361667\n",
      " 12.63345591 12.63329713 12.63314034 12.63298555 12.63283276 12.63268199\n",
      " 12.63253324 12.63238652 12.63224183 12.63209918 12.63195858 12.63182003\n",
      " 12.63168355 12.63154913 12.63141678 12.63128651 12.63115833 12.63103223\n",
      " 12.63090823 12.63078633 12.63066653 12.63054885 12.63043328 12.63031983\n",
      " 12.63020851 12.63009931 12.62999225 12.62988732 12.62978454 12.6296839\n",
      " 12.62958541 12.62948908 12.6293949  12.62930288 12.62921303 12.62912534\n",
      " 12.62903982 12.62895647 12.62887529 12.6287963  12.62871948 12.62864485\n",
      " 12.6285724  12.62850213 12.62843406 12.62836817 12.62830448 12.62824298\n",
      " 12.62818367 12.62812656 12.62807165 12.62801894 12.62796842 12.6279201\n",
      " 12.62787399 12.62783007 12.62778836 12.62774884 12.62771153 12.62767642\n",
      " 12.62764351 12.6276128  12.62758429 12.62755798 12.62753387 12.62751196\n",
      " 12.62749225 12.62747473 12.62745941 12.62744628 12.62743534 12.62742659\n",
      " 12.62742004 12.62741567 12.62741349]\n"
     ]
    }
   ],
   "source": [
    "!python3 pde_sim_returns_camp.py 0.1 10.0 12.0 21.0 2.0 0.005 10.0\n",
    "# where the parameters are the following\n",
    "# - kPDE = 0.1/sec, \n",
    "# - LPDE = 100µm^2/sec, \n",
    "# - c0 = 4.0nM, \n",
    "# - T=10.0min, \n",
    "# - iter_no = 2.0 # the number of pulses to integrate (tmax = iter_no*T)\n",
    "# - dt = 0.005sec\n",
    "# - time_res = 10.0min # the frequency data is printed."
   ]
  },
  {
   "cell_type": "code",
   "execution_count": 10,
   "metadata": {
    "ExecuteTime": {
     "end_time": "2020-07-24T00:34:07.966037Z",
     "start_time": "2020-07-24T00:27:29.307051Z"
    }
   },
   "outputs": [
    {
     "name": "stdout",
     "output_type": "stream",
     "text": [
      "WJ's result is the above does not disperse while the following does.\n",
      "\n",
      "Printing Inputs:\n",
      "kPDE:0.2 LPDE:10.0 c0:12.0 T:21 iter_no:2 dt:0.005 time_res:10\n",
      "\n",
      "Printing Outputs including mean cell direction (mcd):\n",
      "cycle_no,mean_c,mcd_at_100,mcd_at_200,mcd_at_300,mcd_at_400,mcd_at_500,mcd_at_800\n",
      "0,11.47808,0.71429,0.60317,0.35714,-0.03968,0.00000,0.00000\n",
      "1,11.12245,0.71032,0.61111,0.42063,0.09127,0.00000,0.00000\n",
      "the final radial cAMP field is:\n",
      "cAMP=\n",
      "[ 3.27550351  3.28202136  3.29427287  3.31150783  3.33312612  3.35859338\n",
      "  3.38744326  3.41925696  3.45366717  3.49034314  3.52899273  3.56935326\n",
      "  3.61119123  3.65429721  3.69848432  3.74358522  3.78945034  3.83594589\n",
      "  3.88295229  3.93036265  3.9780815   4.02602365  4.07411309  4.12228215\n",
      "  4.17047061  4.21862497  4.26669779  4.31464709  4.36243579  4.41003124\n",
      "  4.45740477  4.5045313   4.55138898  4.59795884  4.64422455  4.69017211\n",
      "  4.73578961  4.78106704  4.8259961   4.87056997  4.91478321  4.95863158\n",
      "  5.00211192  5.04522204  5.0879606   5.13032701  5.17232137  5.21394436\n",
      "  5.25519719  5.29608153  5.33659945  5.37675338  5.41654605  5.45598043\n",
      "  5.49505977  5.53378745  5.57216707  5.61020232  5.64789703  5.68525511\n",
      "  5.72228055  5.75897738  5.79534968  5.83140154  5.8671371   5.90256046\n",
      "  5.93767575  5.97248706  6.00699846  6.04121403  6.07513776  6.10877365\n",
      "  6.14212564  6.17519762  6.20799343  6.24051689  6.27277174  6.30476166\n",
      "  6.3364903   6.36796125  6.39917802  6.43014408  6.46086286  6.49133769\n",
      "  6.52157188  6.55156867  6.58133123  6.6108627   6.64016615  6.66924458\n",
      "  6.69810096  6.7267382   6.75515913  6.78336658  6.81136327  6.83915191\n",
      "  6.86673514  6.89411556  6.92129573  6.94827813  6.97506524  7.00165945\n",
      "  7.02806313  7.0542786   7.08030814  7.10615399  7.13181835  7.15730336\n",
      "  7.18261115  7.20774379  7.23270332  7.25749174  7.28211103  7.30656311\n",
      "  7.33084988  7.35497321  7.37893492  7.40273681  7.42638065  7.44986818\n",
      "  7.4732011   7.49638109  7.5194098   7.54228884  7.5650198   7.58760426\n",
      "  7.61004375  7.63233979  7.65449385  7.67650741  7.6983819   7.72011873\n",
      "  7.74171931  7.76318499  7.78451713  7.80571705  7.82678605  7.84772542\n",
      "  7.86853642  7.88922029  7.90977826  7.93021154  7.9505213   7.97070872\n",
      "  7.99077495  8.01072111  8.03054833  8.05025769  8.06985029  8.08932719\n",
      "  8.10868944  8.12793807  8.1470741   8.16609853  8.18501236  8.20381656\n",
      "  8.2225121   8.2410999   8.25958093  8.27795608  8.29622627  8.3143924\n",
      "  8.33245535  8.35041598  8.36827516  8.38603373  8.40369252  8.42125237\n",
      "  8.43871408  8.45607845  8.47334627  8.49051833  8.50759539  8.52457821\n",
      "  8.54146754  8.55826413  8.57496869  8.59158196  8.60810465  8.62453744\n",
      "  8.64088105  8.65713615  8.67330342  8.68938352  8.70537712  8.72128487\n",
      "  8.73710741  8.75284536  8.76849937  8.78407005  8.79955801  8.81496386\n",
      "  8.83028819  8.8455316   8.86069466  8.87577795  8.89078205  8.90570751\n",
      "  8.92055489  8.93532474  8.95001761  8.96463402  8.97917452  8.99363963\n",
      "  9.00802986  9.02234572  9.03658774  9.0507564   9.0648522   9.07887564\n",
      "  9.09282719  9.10670735  9.12051657  9.13425534  9.14792412  9.16152336\n",
      "  9.17505352  9.18851505  9.20190839  9.21523399  9.22849228  9.24168369\n",
      "  9.25480865  9.26786758  9.28086089  9.293789    9.30665232  9.31945126\n",
      "  9.33218621  9.34485757  9.35746574  9.3700111   9.38249404  9.39491493\n",
      "  9.40727417  9.41957211  9.43180914  9.44398561  9.45610189  9.46815834\n",
      "  9.48015532  9.49209318  9.50397226  9.51579291  9.52755548  9.53926031\n",
      "  9.55090773  9.56249808  9.57403167  9.58550886  9.59692994  9.60829526\n",
      "  9.61960512  9.63085984  9.64205974  9.65320512  9.66429629  9.67533355\n",
      "  9.68631722  9.69724757  9.70812492  9.71894955  9.72972176  9.74044184\n",
      "  9.75111007  9.76172673  9.77229211  9.78280648  9.79327013  9.80368332\n",
      "  9.81404633  9.82435943  9.83462288  9.84483696  9.85500192  9.86511802\n",
      "  9.87518553  9.8852047   9.89517579  9.90509904  9.91497471  9.92480305\n",
      "  9.93458431  9.94431872  9.95400653  9.96364799  9.97324333  9.98279279\n",
      "  9.9922966  10.001755   10.01116822 10.02053649 10.02986003 10.03913908\n",
      " 10.04837387 10.0575646  10.06671151 10.07581481 10.08487472 10.09389147\n",
      " 10.10286525 10.1117963  10.12068481 10.12953101 10.13833509 10.14709727\n",
      " 10.15581775 10.16449674 10.17313444 10.18173105 10.19028678 10.19880181\n",
      " 10.20727635 10.2157106  10.22410475 10.23245899 10.24077351 10.24904851\n",
      " 10.25728417 10.26548069 10.27363825 10.28175704 10.28983723 10.29787902\n",
      " 10.30588259 10.31384811 10.32177577 10.32966575 10.33751821 10.34533335\n",
      " 10.35311133 10.36085233 10.36855652 10.37622408 10.38385517 10.39144996\n",
      " 10.39900862 10.40653132 10.41401823 10.42146951 10.42888533 10.43626584\n",
      " 10.44361122 10.45092162 10.45819721 10.46543814 10.47264457 10.47981666\n",
      " 10.48695457 10.49405845 10.50112846 10.50816475 10.51516747 10.52213678\n",
      " 10.52907283 10.53597576 10.54284573 10.54968289 10.55648739 10.56325936\n",
      " 10.56999896 10.57670634 10.58338163 10.59002498 10.59663653 10.60321643\n",
      " 10.60976482 10.61628184 10.62276762 10.62922231 10.63564605 10.64203896\n",
      " 10.6484012  10.65473289 10.66103417 10.66730518 10.67354604 10.6797569\n",
      " 10.68593788 10.69208911 10.69821074 10.70430288 10.71036566 10.71639923\n",
      " 10.72240369 10.7283792  10.73432585 10.7402438  10.74613315 10.75199405\n",
      " 10.7578266  10.76363094 10.76940718 10.77515546 10.78087588 10.78656858\n",
      " 10.79223368 10.79787129 10.80348153 10.80906453 10.8146204  10.82014925\n",
      " 10.82565122 10.8311264  10.83657493 10.84199691 10.84739246 10.8527617\n",
      " 10.85810473 10.86342168 10.86871265 10.87397775 10.87921711 10.88443082\n",
      " 10.88961901 10.89478177 10.89991923 10.90503148 10.91011865 10.91518083\n",
      " 10.92021813 10.92523066 10.93021854 10.93518185 10.94012072 10.94503524\n",
      " 10.94992552 10.95479166 10.95963378 10.96445196 10.96924632 10.97401695\n",
      " 10.97876397 10.98348746 10.98818753 10.99286429 10.99751783 11.00214825\n",
      " 11.00675565 11.01134013 11.01590178 11.02044072 11.02495703 11.02945081\n",
      " 11.03392216 11.03837117 11.04279794 11.04720257 11.05158515 11.05594577\n",
      " 11.06028453 11.06460153 11.06889685 11.0731706  11.07742285 11.08165372\n",
      " 11.08586328 11.09005162 11.09421885 11.09836505 11.10249031 11.10659472\n",
      " 11.11067837 11.11474136 11.11878376 11.12280566 11.12680717 11.13078835\n",
      " 11.13474931 11.13869013 11.14261089 11.14651168 11.15039259 11.1542537\n",
      " 11.1580951  11.16191688 11.16571911 11.16950188 11.17326528 11.17700939\n",
      " 11.18073429 11.18444007 11.18812681 11.19179459 11.19544349 11.1990736\n",
      " 11.20268499 11.20627775 11.20985195 11.21340769 11.21694503 11.22046406\n",
      " 11.22396486 11.2274475  11.23091207 11.23435865 11.2377873  11.24119811\n",
      " 11.24459116 11.24796653 11.25132428 11.25466451 11.25798728 11.26129266\n",
      " 11.26458075 11.2678516  11.27110531 11.27434193 11.27756155 11.28076424\n",
      " 11.28395007 11.28711913 11.29027147 11.29340718 11.29652632 11.29962898\n",
      " 11.30271522 11.30578511 11.30883873 11.31187615 11.31489743 11.31790265\n",
      " 11.32089189 11.3238652  11.32682267 11.32976436 11.33269033 11.33560067\n",
      " 11.33849543 11.3413747  11.34423852 11.34708699 11.34992015 11.35273808\n",
      " 11.35554085 11.35832853 11.36110117 11.36385885 11.36660164 11.3693296\n",
      " 11.3720428  11.37474129 11.37742516 11.38009445 11.38274925 11.38538961\n",
      " 11.38801559 11.39062726 11.39322469 11.39580794 11.39837707 11.40093214\n",
      " 11.40347323 11.40600038 11.40851367 11.41101315 11.41349889 11.41597095\n",
      " 11.41842939 11.42087427 11.42330566 11.42572361 11.42812818 11.43051944\n",
      " 11.43289744 11.43526225 11.43761393 11.43995252 11.44227811 11.44459073\n",
      " 11.44689045 11.44917734 11.45145144 11.45371282 11.45596153 11.45819763\n",
      " 11.46042118 11.46263224 11.46483086 11.4670171  11.46919102 11.47135267\n",
      " 11.47350211 11.47563939 11.47776457 11.47987771 11.48197886 11.48406807\n",
      " 11.48614541 11.48821092 11.49026466 11.49230669 11.49433705 11.4963558\n",
      " 11.498363   11.5003587  11.50234295 11.5043158  11.50627731 11.50822753\n",
      " 11.51016651 11.51209431 11.51401097 11.51591655 11.51781109 11.51969466\n",
      " 11.5215673  11.52342906 11.52527999 11.52712015 11.52894958 11.53076833\n",
      " 11.53257646 11.53437401 11.53616103 11.53793758 11.53970369 11.54145943\n",
      " 11.54320483 11.54493995 11.54666483 11.54837953 11.55008409 11.55177855\n",
      " 11.55346298 11.5551374  11.55680188 11.55845645 11.56010117 11.56173608\n",
      " 11.56336123 11.56497666 11.56658241 11.56817855 11.5697651  11.57134212\n",
      " 11.57290966 11.57446774 11.57601643 11.57755577 11.57908579 11.58060655\n",
      " 11.58211809 11.58362045 11.58511368 11.58659782 11.58807291 11.58953899\n",
      " 11.59099612 11.59244433 11.59388366 11.59531416 11.59673587 11.59814883\n",
      " 11.59955309 11.60094868 11.60233565 11.60371404 11.60508388 11.60644523\n",
      " 11.60779812 11.60914259 11.61047869 11.61180644 11.6131259  11.61443711\n",
      " 11.61574009 11.6170349  11.61832157 11.61960015 11.62087066 11.62213315\n",
      " 11.62338767 11.62463423 11.6258729  11.6271037  11.62832667 11.62954184\n",
      " 11.63074927 11.63194898 11.63314102 11.63432541 11.6355022  11.63667142\n",
      " 11.63783312 11.63898732 11.64013406 11.64127339 11.64240533 11.64352992\n",
      " 11.6446472  11.6457572  11.64685996 11.64795552 11.6490439  11.65012515\n",
      " 11.65119929 11.65226637 11.65332642 11.65437947 11.65542555 11.6564647\n",
      " 11.65749696 11.65852236 11.65954092 11.6605527  11.6615577  11.66255598\n",
      " 11.66354756 11.66453248 11.66551077 11.66648245 11.66744758 11.66840616\n",
      " 11.66935824 11.67030385 11.67124303 11.67217579 11.67310218 11.67402222\n",
      " 11.67493594 11.67584339 11.67674458 11.67763954 11.67852832 11.67941093\n",
      " 11.68028741 11.68115778 11.68202209 11.68288035 11.6837326  11.68457887\n",
      " 11.68541918 11.68625356 11.68708205 11.68790467 11.68872144 11.68953241\n",
      " 11.6903376  11.69113702 11.69193073 11.69271873 11.69350106 11.69427775\n",
      " 11.69504882 11.6958143  11.69657422 11.6973286  11.69807747 11.69882087\n",
      " 11.6995588  11.70029131 11.70101841 11.70174014 11.70245652 11.70316757\n",
      " 11.70387332 11.7045738  11.70526903 11.70595903 11.70664384 11.70732347\n",
      " 11.70799795 11.70866731 11.70933157 11.70999076 11.71064489 11.711294\n",
      " 11.7119381  11.71257723 11.7132114  11.71384063 11.71446496 11.71508441\n",
      " 11.71569899 11.71630873 11.71691365 11.71751378 11.71810914 11.71869976\n",
      " 11.71928564 11.71986682 11.72044332 11.72101516 11.72158236 11.72214494\n",
      " 11.72270292 11.72325634 11.7238052  11.72434952 11.72488934 11.72542467\n",
      " 11.72595552 11.72648193 11.72700391 11.72752148 11.72803466 11.72854348\n",
      " 11.72904794 11.72954808 11.73004391 11.73053545 11.73102272 11.73150574\n",
      " 11.73198453 11.73245911 11.73292949 11.7333957  11.73385775 11.73431566\n",
      " 11.73476945 11.73521915 11.73566476 11.7361063  11.73654379 11.73697726\n",
      " 11.73740672 11.73783218 11.73825366 11.73867118 11.73908476 11.73949441\n",
      " 11.73990016 11.74030201 11.74069998 11.7410941  11.74148437 11.74187082\n",
      " 11.74225345 11.74263229 11.74300735 11.74337865 11.7437462  11.74411002\n",
      " 11.74447012 11.74482652 11.74517923 11.74552827 11.74587365 11.74621539\n",
      " 11.74655351 11.74688801 11.74721892 11.74754624 11.74786999 11.74819018\n",
      " 11.74850683 11.74881996 11.74912956 11.74943567 11.74973829 11.75003744\n",
      " 11.75033313 11.75062537 11.75091417 11.75119955 11.75148152 11.7517601\n",
      " 11.75203529 11.75230711 11.75257557 11.75284068 11.75310246 11.75336092\n",
      " 11.75361606 11.7538679  11.75411646 11.75436174 11.75460375 11.75484252\n",
      " 11.75507803 11.75531032 11.75553939 11.75576524 11.7559879  11.75620736\n",
      " 11.75642365 11.75663678 11.75684674 11.75705356 11.75725724 11.75745779\n",
      " 11.75765522 11.75784955 11.75804078 11.75822892 11.75841398 11.75859597\n",
      " 11.7587749  11.75895078 11.75912361 11.75929341 11.75946019 11.75962394\n",
      " 11.75978469 11.75994244 11.7600972  11.76024898 11.76039778 11.76054361\n",
      " 11.76068649 11.76082641 11.76096339 11.76109743 11.76122855 11.76135674\n",
      " 11.76148202 11.76160439 11.76172386 11.76184044 11.76195413 11.76206494\n",
      " 11.76217288 11.76227795 11.76238017 11.76247953 11.76257604 11.76266971\n",
      " 11.76276055 11.76284855 11.76293374 11.7630161  11.76309565 11.7631724\n",
      " 11.76324635 11.7633175  11.76338586 11.76345143 11.76351422 11.76357424\n",
      " 11.76363149 11.76368597 11.76373769 11.76378665 11.76383286 11.76387632\n",
      " 11.76391704 11.76395502 11.76399026 11.76402277 11.76405255 11.76407961\n",
      " 11.76410395 11.76412557 11.76414448 11.76416067 11.76417416 11.76418495\n",
      " 11.76419303 11.76419842 11.76420111]\n"
     ]
    }
   ],
   "source": [
    "print(\"WJ's result is the above does not disperse while the following does.\\n\")\n",
    "!python3 pde_sim_returns_camp.py 0.2 10.0 12.0 21.0 2.0 0.005 10.0\n"
   ]
  },
  {
   "cell_type": "code",
   "execution_count": 11,
   "metadata": {
    "ExecuteTime": {
     "end_time": "2020-07-24T00:34:08.926101Z",
     "start_time": "2020-07-24T00:34:08.246474Z"
    }
   },
   "outputs": [
    {
     "data": {
      "text/plain": [
       "0"
      ]
     },
     "execution_count": 11,
     "metadata": {},
     "output_type": "execute_result"
    }
   ],
   "source": [
    "beep(3)"
   ]
  },
  {
   "cell_type": "code",
   "execution_count": 12,
   "metadata": {
    "ExecuteTime": {
     "end_time": "2020-07-24T00:34:09.153815Z",
     "start_time": "2020-07-24T00:34:09.117028Z"
    }
   },
   "outputs": [],
   "source": [
    "# - TODO: redo with a smaller time step below and check for numerical consistency"
   ]
  },
  {
   "cell_type": "code",
   "execution_count": null,
   "metadata": {
    "ExecuteTime": {
     "start_time": "2020-07-24T00:25:42.585Z"
    }
   },
   "outputs": [],
   "source": [
    "input(f\"What was the estimated run time?\")"
   ]
  },
  {
   "cell_type": "code",
   "execution_count": null,
   "metadata": {},
   "outputs": [],
   "source": []
  }
 ],
 "metadata": {
  "kernelspec": {
   "display_name": "Python 3",
   "language": "python",
   "name": "python3"
  },
  "toc": {
   "base_numbering": 1,
   "nav_menu": {},
   "number_sections": false,
   "sideBar": false,
   "skip_h1_title": false,
   "title_cell": "Table of Contents",
   "title_sidebar": "Contents",
   "toc_cell": false,
   "toc_position": {},
   "toc_section_display": false,
   "toc_window_display": false
  },
  "varInspector": {
   "cols": {
    "lenName": 16,
    "lenType": 16,
    "lenVar": 40
   },
   "kernels_config": {
    "python": {
     "delete_cmd_postfix": "",
     "delete_cmd_prefix": "del ",
     "library": "var_list.py",
     "varRefreshCmd": "print(var_dic_list())"
    },
    "r": {
     "delete_cmd_postfix": ") ",
     "delete_cmd_prefix": "rm(",
     "library": "var_list.r",
     "varRefreshCmd": "cat(var_dic_list()) "
    }
   },
   "types_to_exclude": [
    "module",
    "function",
    "builtin_function_or_method",
    "instance",
    "_Feature"
   ],
   "window_display": false
  }
 },
 "nbformat": 4,
 "nbformat_minor": 2
}
