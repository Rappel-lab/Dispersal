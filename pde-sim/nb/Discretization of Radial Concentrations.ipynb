{
 "cells": [
  {
   "cell_type": "markdown",
   "metadata": {},
   "source": [
    "# Discretization for Radial Concentrations is central difference forward time explicit Euler integration"
   ]
  },
  {
   "cell_type": "markdown",
   "metadata": {},
   "source": [
    "## radial discretization in a nutshell"
   ]
  },
  {
   "cell_type": "markdown",
   "metadata": {},
   "source": [
    "The continuous partial differential equation we consider is\n",
    "\n",
    "$$\n",
    "\\frac{dc}{dt} = \\frac{1}{r}\\frac{\\partial}{\\partial r}\\Big( rD\\frac{\\partial}{\\partial r}c(r,t)\\Big) - k_\\text{PDE}c(r,t)pde(r) + F_0(t)r_0\\delta(r-r_0).\n",
    "$$\n",
    "\n",
    "Denoting $c_i(t)=c(r_i,t)$ and $pde_i=pde(r_i)$, we used the following discretization\n",
    "\n",
    "$$\n",
    "\\frac{c_i(t+\\Delta t)-c_i(t)}{\\Delta t} = \\frac{D}{r_i\\Delta r}(c_{i+1/2}-c_{i-1/2}) + \\frac{D}{\\Delta r^2}(c_{i+1}-2c_{i}+c_{i-1}) - k_\\text{PDE}pde_ic_i + F_0\\delta_{0i}\n",
    "$$\n",
    "\n",
    "Where we have taken $c_{-1}=c_{-1/2}=c_0$, and $c_{N+1}=c_{N+1/2}=c_N$, and $c_{i+1/2} = \\frac{1}{2}(c_{i+1}+c_i)$, and $\\delta_{ij} = 1$ if $i = j$ and $\\delta_{ij} = 0$ otherwise. \n",
    "\n",
    "For each time step, we then explicitely computed $c(r_i,t+\\Delta t)$ with a time step of $\\Delta t=0.005$ seconds and radial step $\\Delta r = 1$ micron."
   ]
  },
  {
   "cell_type": "markdown",
   "metadata": {},
   "source": [
    "## a more nuanced description of radial discretization"
   ]
  },
  {
   "cell_type": "markdown",
   "metadata": {},
   "source": [
    "- Let $\\oplus$ denote the concatenation function. \n",
    "- Let $\\textbf{rmesh} = \\bigoplus_{r=r_0=50\\mu m}^{r_\\text{max}=1000\\mu m}r \\equiv \\bigoplus_{i=0}^{N-1}r_i $ denote the 1D array of radial distances from the aggregate.  Note that $\\text{rmesh}$ is an array of length N.\n",
    "- Let $c(r,t)$ denote the cAMP concentration at radial distance $r$ at time $t$ in nM.\n",
    "- Let $pde(r,t)$ denote the PDE concentration at radial distance $r$ at time $t$ in nM.\n",
    "- Let $F_0(t)\\in[0,200]$ nM/s be the rate of change in cAMP concentration at the aggregate at time $t$.\n",
    "- Let $dt = 0.005s$ be the size of one time step and $dr=1\\mu m$ be the spatial resolution of $\\textbf{rmesh}$.\n",
    "\n",
    "Then, we may compute $c(r,t+dt) = c(r,t) + dt \\cdot \\frac{dc}{dt}\\big|_t$, where $\\frac{dc}{dt}\\big|_t$ is returned by the function `time_step`.\n",
    "\n",
    "`time_step` is effectively defined from the following steps:\n",
    "\n",
    "__step 1:__ compute the face terms\n",
    "-  $\\textbf{dface}(t) = 0 \\oplus \\bigg(\\bigoplus_{i=0}^{N-2}c(r_{i+1},t)-c(r_i,t)\\bigg)\\oplus 0$. Note $\\textbf{dface}$ has length N+1\n",
    "-  $\\textbf{cp}(t) = c(r_0,t) \\oplus \\bigg(\\bigoplus_{i=0}^{N-1}c(r_i,t)\\bigg)\\oplus c(r_\\text{max},t)$. Note $\\textbf{cp}$ has length N+2\n",
    "- $\\textbf{face}(t) = \\frac{1}{2}\\bigoplus_{i=0}^{N}\\text{cp}(r_{i+1},t)+\\text{cp}(r_i,t)$. Note face has length N+1\n",
    "\n",
    "Let $\\text{cp}(r_i,t)$, $\\text{face}(r_i,t)$, and $\\text{dface}(r_i,t)$ denote the $i^\\text{th}$ entry of  $\\textbf{cp}(t)$, $\\textbf{face}(t)$, and $\\textbf{dface}(t)$, respectively.\n",
    "\n",
    "__step 2:__ compute the transient terms\n",
    "- $\\textbf{term1}(t) = \\frac{D}{dr}\\bigoplus_{i=0}^{N-1}\\frac{1}{r_i}\\Big(\\text{face}(r_{i+1},t)-\\text{face}(r_i,t)\\Big)$\n",
    "- $\\textbf{term2}(t) = \\frac{D}{dr^2}\\bigoplus_{i=0}^{N-1}\\text{dface}(r_{i+1},t)-\\text{dface}(r_i,t)$\n",
    "- $\\textbf{termDEG}(t) = -k_{PDE}\\bigoplus_{i=0}^{N-1}c(r_i,t)pde(r_i,t)$\n",
    "- $\\textbf{termBC}(t) = F_0\\oplus\\bigoplus_{i=1}^{N-1}0$\n",
    "\n",
    "__step 3:__ add the transient terms\n",
    "Then, \n",
    "$$\\frac{dc}{dt}\\Big|_t = \\textbf{term1}(t) + \\textbf{term2}(t) + \\textbf{termDEG}(t) + \\textbf{termBC}(t)$$\n",
    "Is the vector of rates of change of cAMP concentration at time $t$."
   ]
  },
  {
   "cell_type": "markdown",
   "metadata": {},
   "source": [
    "# the numpy implementation fo the time step"
   ]
  },
  {
   "cell_type": "code",
   "execution_count": 1,
   "metadata": {
    "ExecuteTime": {
     "end_time": "2020-07-15T19:14:31.762674Z",
     "start_time": "2020-07-15T19:14:31.490718Z"
    }
   },
   "outputs": [],
   "source": [
    "import numpy as np"
   ]
  },
  {
   "cell_type": "code",
   "execution_count": 2,
   "metadata": {
    "ExecuteTime": {
     "end_time": "2020-07-15T19:14:31.773198Z",
     "start_time": "2020-07-15T19:14:31.764992Z"
    }
   },
   "outputs": [],
   "source": [
    "def time_step(c, pde, rmesh, D, kPDE, dr, fluxLeft, fluxRight=0):\n",
    "    '''returns d[cAMP]/dt = the rate of change of the cAMP field c\n",
    "    rmesh is the 1D radial mesh,\n",
    "    c = 1D array of cAMP concentrations\n",
    "    pde = 1D array of PDE concentrations\n",
    "    D = diffusion coefficient of cAMP\n",
    "    kPDE = decay constant of cAMP due to PDE\n",
    "    dr = spatial resolution, for example 1 (microns)\n",
    "    fluxLeft is the rate cAMP is being added at the \"left\" boundary, closest to the center\n",
    "    fluxRight is he rate cAMP is being added at the \"right\" boundary, furthest from the center\n",
    "    explicitely using only current state.'''\n",
    "    #step one: compute the face terms\n",
    "    dface = np.hstack([ 0. , np.diff(c) , 0. ])\n",
    "    cp    = np.hstack([c[0], c, c[-1]])\n",
    "    face  = cp[1:]*0.5 + cp[:-1]*0.5\n",
    "\n",
    "    #step two: compute transient terms \n",
    "    term1 = D*np.diff(face)/rmesh/dr\n",
    "    term2 = D*np.diff(dface)/dr**2\n",
    "    termDEG = -1*kPDE*c*pde\n",
    "    #calculate boundary term\n",
    "    termBC = np.hstack([ fluxLeft , 0*c[1:-1] , fluxRight ])\n",
    "\n",
    "    #step three: add transient terms\n",
    "    dcdt  = term1 + term2 + termBC + termDEG\n",
    "    return dcdt"
   ]
  },
  {
   "cell_type": "code",
   "execution_count": null,
   "metadata": {},
   "outputs": [],
   "source": []
  }
 ],
 "metadata": {
  "gist": {
   "data": {
    "description": "radial_cell_motion/pde-sim/nb/Discretization of Radial Concentrations_gist .ipynb",
    "public": true
   },
   "id": ""
  },
  "kernelspec": {
   "display_name": "Python 3",
   "language": "python",
   "name": "python3"
  },
  "language_info": {
   "codemirror_mode": {
    "name": "ipython",
    "version": 3
   },
   "file_extension": ".py",
   "mimetype": "text/x-python",
   "name": "python",
   "nbconvert_exporter": "python",
   "pygments_lexer": "ipython3",
   "version": "3.7.3"
  },
  "toc": {
   "base_numbering": 1,
   "nav_menu": {},
   "number_sections": false,
   "sideBar": false,
   "skip_h1_title": false,
   "title_cell": "Table of Contents",
   "title_sidebar": "Contents",
   "toc_cell": false,
   "toc_position": {},
   "toc_section_display": false,
   "toc_window_display": false
  },
  "varInspector": {
   "cols": {
    "lenName": 16,
    "lenType": 16,
    "lenVar": 40
   },
   "kernels_config": {
    "python": {
     "delete_cmd_postfix": "",
     "delete_cmd_prefix": "del ",
     "library": "var_list.py",
     "varRefreshCmd": "print(var_dic_list())"
    },
    "r": {
     "delete_cmd_postfix": ") ",
     "delete_cmd_prefix": "rm(",
     "library": "var_list.r",
     "varRefreshCmd": "cat(var_dic_list()) "
    }
   },
   "types_to_exclude": [
    "module",
    "function",
    "builtin_function_or_method",
    "instance",
    "_Feature"
   ],
   "window_display": false
  }
 },
 "nbformat": 4,
 "nbformat_minor": 2
}
