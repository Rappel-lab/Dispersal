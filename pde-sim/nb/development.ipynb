{
 "cells": [
  {
   "cell_type": "markdown",
   "metadata": {},
   "source": [
    "# Development for pde-sim worker\n",
    "Timothy Tyree<br>\n",
    "4.1.2020"
   ]
  },
  {
   "cell_type": "code",
   "execution_count": 1,
   "metadata": {},
   "outputs": [],
   "source": [
    "import sys, os, time, numpy as np, pandas as pd\n",
    "import matplotlib.pyplot as plt\n",
    "from scipy.special import kn\n",
    "from scipy.interpolate import BSpline\n",
    "sys.path.append(os.path.abspath('../pde-sim-transfer/'))\n",
    "from pde_sim_worker import *\n",
    "from pde_sim_grid_scan import *\n",
    "import test_cases\n",
    "plt.rc('axes', linewidth=2)\n",
    "\n",
    "# load the autoreload extension\n",
    "%load_ext autoreload\n",
    "# Set extension to reload modules every time before executing code\n",
    "%autoreload 2\n"
   ]
  },
  {
   "cell_type": "code",
   "execution_count": 2,
   "metadata": {},
   "outputs": [
    {
     "name": "stdout",
     "output_type": "stream",
     "text": [
      "notebook is at: /Users/timothytyree/Desktop/Research/Rappel/Dicty. Dispersal/Python/pde-sim/nb\n"
     ]
    }
   ],
   "source": [
    "beep = lambda x: os.system(\"echo -n '\\a';sleep 0.2;\" * x)\n",
    "if not 'nb_dir' in globals():\n",
    "    nb_dir = os.getcwd()\n",
    "print('notebook is at: ' + nb_dir)"
   ]
  },
  {
   "cell_type": "markdown",
   "metadata": {},
   "source": [
    "## post process and collect data"
   ]
  },
  {
   "cell_type": "markdown",
   "metadata": {},
   "source": [
    "## combine two dataframes stored as .csv's"
   ]
  },
  {
   "cell_type": "code",
   "execution_count": 32,
   "metadata": {},
   "outputs": [],
   "source": [
    "def combine_df(fn1,fn2):\n",
    "    df1 = pd.read_csv(fn1)\n",
    "    df2 = pd.read_csv(fn2)\n",
    "    out = pd.concat([df1,df2])\n",
    "    print(df1.T.describe())\n",
    "    print(df2.T.describe())\n",
    "    print(out.T.describe())\n",
    "    return out"
   ]
  },
  {
   "cell_type": "code",
   "execution_count": 33,
   "metadata": {},
   "outputs": [
    {
     "name": "stdout",
     "output_type": "stream",
     "text": [
      "           0          1          2          3          4          5      \\\n",
      "count  17.000000  17.000000  17.000000  17.000000  17.000000  17.000000   \n",
      "mean    5.101254   5.367354   5.629797   5.888658   6.144874   6.400227   \n",
      "std    10.219834  10.149543  10.101834  10.076120  10.071057  10.084576   \n",
      "min    -0.555560  -0.555560  -0.552910  -0.547620  -0.541270  -0.534390   \n",
      "25%     0.000000   0.000000   0.000000   0.000000   0.000000   0.000000   \n",
      "50%     0.000500   1.000000   2.000000   3.000000   4.000000   5.000000   \n",
      "75%     6.558690   8.000000   8.000000   8.000000   8.000000   8.000000   \n",
      "max    37.940000  37.940000  37.940000  37.940000  37.940000  37.940000   \n",
      "\n",
      "           6          7          8          9      ...         63942  \\\n",
      "count  17.000000  17.000000  17.000000  17.000000  ...     17.000000   \n",
      "mean    6.652411   6.901432   4.762298   4.983780  ...   3765.331110   \n",
      "std    10.117391  10.168677   9.454240   9.455998  ...  15507.174048   \n",
      "min    -0.527210  -0.520830  -0.666670  -0.800000  ...     -0.840140   \n",
      "25%     0.000000   0.000000  -0.366670  -0.250000  ...     -0.419500   \n",
      "50%     5.000000   5.000000   0.000500   1.000000  ...      1.438000   \n",
      "75%     8.000000   8.000000   8.000000   8.000000  ...      8.000000   \n",
      "max    37.940000  37.940000  37.940000  37.940000  ...  63942.000000   \n",
      "\n",
      "              63943         63944         63945         63946         63947  \\\n",
      "count     17.000000     17.000000     17.000000     17.000000     17.000000   \n",
      "mean    3765.637206   3794.385563   3794.630084   3794.874041   3795.116053   \n",
      "std    15507.353007  15500.634925  15500.829267  15501.023763  15501.218770   \n",
      "min       -0.840280     -0.658730     -0.678570     -0.682540     -0.684520   \n",
      "25%       -0.416670     -0.460320     -0.464290     -0.465610     -0.464290   \n",
      "50%        1.438000      0.000264      1.000000      2.000000      3.000000   \n",
      "75%        8.000000     20.000000     20.000000     20.000000     20.000000   \n",
      "max    63943.000000  63944.000000  63945.000000  63946.000000  63947.000000   \n",
      "\n",
      "              63948         63949         63950         63951  \n",
      "count     17.000000     17.000000     17.000000     17.000000  \n",
      "mean    3795.355478   3795.592268   3795.826398   3796.057980  \n",
      "std    15501.414455  15501.610831  15501.807904  15502.005645  \n",
      "min       -0.684130     -0.682540     -0.681410     -0.679560  \n",
      "25%       -0.463490     -0.462960     -0.462590     -0.462300  \n",
      "50%        4.000000      5.000000      6.000000      7.000000  \n",
      "75%       20.000000     20.000000     20.000000     20.000000  \n",
      "max    63948.000000  63949.000000  63950.000000  63951.000000  \n",
      "\n",
      "[8 rows x 63952 columns]\n"
     ]
    },
    {
     "ename": "KeyboardInterrupt",
     "evalue": "",
     "output_type": "error",
     "traceback": [
      "\u001b[0;31m---------------------------------------------------------------------------\u001b[0m",
      "\u001b[0;31mKeyboardInterrupt\u001b[0m                         Traceback (most recent call last)",
      "\u001b[0;32m<ipython-input-33-69a59fb2110d>\u001b[0m in \u001b[0;36m<module>\u001b[0;34m\u001b[0m\n\u001b[1;32m      2\u001b[0m \u001b[0mfn1\u001b[0m \u001b[0;34m=\u001b[0m \u001b[0;34m'results_run_4.csv'\u001b[0m\u001b[0;34m\u001b[0m\u001b[0;34m\u001b[0m\u001b[0m\n\u001b[1;32m      3\u001b[0m \u001b[0mfn2\u001b[0m \u001b[0;34m=\u001b[0m \u001b[0;34m'results_run_5_and_6.csv'\u001b[0m\u001b[0;34m\u001b[0m\u001b[0;34m\u001b[0m\u001b[0m\n\u001b[0;32m----> 4\u001b[0;31m \u001b[0mout\u001b[0m \u001b[0;34m=\u001b[0m \u001b[0mcombine_df\u001b[0m\u001b[0;34m(\u001b[0m\u001b[0mfn1\u001b[0m\u001b[0;34m,\u001b[0m\u001b[0mfn2\u001b[0m\u001b[0;34m)\u001b[0m\u001b[0;34m\u001b[0m\u001b[0;34m\u001b[0m\u001b[0m\n\u001b[0m",
      "\u001b[0;32m<ipython-input-32-2fe0b497d34d>\u001b[0m in \u001b[0;36mcombine_df\u001b[0;34m(fn1, fn2)\u001b[0m\n\u001b[1;32m      4\u001b[0m     \u001b[0mout\u001b[0m \u001b[0;34m=\u001b[0m \u001b[0mpd\u001b[0m\u001b[0;34m.\u001b[0m\u001b[0mconcat\u001b[0m\u001b[0;34m(\u001b[0m\u001b[0;34m[\u001b[0m\u001b[0mdf1\u001b[0m\u001b[0;34m,\u001b[0m\u001b[0mdf2\u001b[0m\u001b[0;34m]\u001b[0m\u001b[0;34m)\u001b[0m\u001b[0;34m\u001b[0m\u001b[0;34m\u001b[0m\u001b[0m\n\u001b[1;32m      5\u001b[0m     \u001b[0mprint\u001b[0m\u001b[0;34m(\u001b[0m\u001b[0mdf1\u001b[0m\u001b[0;34m.\u001b[0m\u001b[0mT\u001b[0m\u001b[0;34m.\u001b[0m\u001b[0mdescribe\u001b[0m\u001b[0;34m(\u001b[0m\u001b[0;34m)\u001b[0m\u001b[0;34m)\u001b[0m\u001b[0;34m\u001b[0m\u001b[0;34m\u001b[0m\u001b[0m\n\u001b[0;32m----> 6\u001b[0;31m     \u001b[0mprint\u001b[0m\u001b[0;34m(\u001b[0m\u001b[0mdf2\u001b[0m\u001b[0;34m.\u001b[0m\u001b[0mT\u001b[0m\u001b[0;34m.\u001b[0m\u001b[0mdescribe\u001b[0m\u001b[0;34m(\u001b[0m\u001b[0;34m)\u001b[0m\u001b[0;34m)\u001b[0m\u001b[0;34m\u001b[0m\u001b[0;34m\u001b[0m\u001b[0m\n\u001b[0m\u001b[1;32m      7\u001b[0m     \u001b[0mprint\u001b[0m\u001b[0;34m(\u001b[0m\u001b[0mout\u001b[0m\u001b[0;34m.\u001b[0m\u001b[0mT\u001b[0m\u001b[0;34m.\u001b[0m\u001b[0mdescribe\u001b[0m\u001b[0;34m(\u001b[0m\u001b[0;34m)\u001b[0m\u001b[0;34m)\u001b[0m\u001b[0;34m\u001b[0m\u001b[0;34m\u001b[0m\u001b[0m\n\u001b[1;32m      8\u001b[0m     \u001b[0;32mreturn\u001b[0m \u001b[0mout\u001b[0m\u001b[0;34m\u001b[0m\u001b[0;34m\u001b[0m\u001b[0m\n",
      "\u001b[0;32m/usr/local/lib/python3.7/site-packages/pandas/core/generic.py\u001b[0m in \u001b[0;36mdescribe\u001b[0;34m(self, percentiles, include, exclude)\u001b[0m\n\u001b[1;32m   9791\u001b[0m         \u001b[0;32melif\u001b[0m \u001b[0;34m(\u001b[0m\u001b[0minclude\u001b[0m \u001b[0;32mis\u001b[0m \u001b[0;32mNone\u001b[0m\u001b[0;34m)\u001b[0m \u001b[0;32mand\u001b[0m \u001b[0;34m(\u001b[0m\u001b[0mexclude\u001b[0m \u001b[0;32mis\u001b[0m \u001b[0;32mNone\u001b[0m\u001b[0;34m)\u001b[0m\u001b[0;34m:\u001b[0m\u001b[0;34m\u001b[0m\u001b[0;34m\u001b[0m\u001b[0m\n\u001b[1;32m   9792\u001b[0m             \u001b[0;31m# when some numerics are found, keep only numerics\u001b[0m\u001b[0;34m\u001b[0m\u001b[0;34m\u001b[0m\u001b[0;34m\u001b[0m\u001b[0m\n\u001b[0;32m-> 9793\u001b[0;31m             \u001b[0mdata\u001b[0m \u001b[0;34m=\u001b[0m \u001b[0mself\u001b[0m\u001b[0;34m.\u001b[0m\u001b[0mselect_dtypes\u001b[0m\u001b[0;34m(\u001b[0m\u001b[0minclude\u001b[0m\u001b[0;34m=\u001b[0m\u001b[0;34m[\u001b[0m\u001b[0mnp\u001b[0m\u001b[0;34m.\u001b[0m\u001b[0mnumber\u001b[0m\u001b[0;34m]\u001b[0m\u001b[0;34m)\u001b[0m\u001b[0;34m\u001b[0m\u001b[0;34m\u001b[0m\u001b[0m\n\u001b[0m\u001b[1;32m   9794\u001b[0m             \u001b[0;32mif\u001b[0m \u001b[0mlen\u001b[0m\u001b[0;34m(\u001b[0m\u001b[0mdata\u001b[0m\u001b[0;34m.\u001b[0m\u001b[0mcolumns\u001b[0m\u001b[0;34m)\u001b[0m \u001b[0;34m==\u001b[0m \u001b[0;36m0\u001b[0m\u001b[0;34m:\u001b[0m\u001b[0;34m\u001b[0m\u001b[0;34m\u001b[0m\u001b[0m\n\u001b[1;32m   9795\u001b[0m                 \u001b[0mdata\u001b[0m \u001b[0;34m=\u001b[0m \u001b[0mself\u001b[0m\u001b[0;34m\u001b[0m\u001b[0;34m\u001b[0m\u001b[0m\n",
      "\u001b[0;32m/usr/local/lib/python3.7/site-packages/pandas/core/frame.py\u001b[0m in \u001b[0;36mselect_dtypes\u001b[0;34m(self, include, exclude)\u001b[0m\n\u001b[1;32m   3333\u001b[0m                                         enumerate(self.dtypes)):\n\u001b[1;32m   3334\u001b[0m             \u001b[0;32mif\u001b[0m \u001b[0minclude\u001b[0m\u001b[0;34m:\u001b[0m  \u001b[0;31m# checks for the case of empty include or exclude\u001b[0m\u001b[0;34m\u001b[0m\u001b[0;34m\u001b[0m\u001b[0m\n\u001b[0;32m-> 3335\u001b[0;31m                 \u001b[0minclude_these\u001b[0m\u001b[0;34m.\u001b[0m\u001b[0miloc\u001b[0m\u001b[0;34m[\u001b[0m\u001b[0midx\u001b[0m\u001b[0;34m]\u001b[0m \u001b[0;34m=\u001b[0m \u001b[0many\u001b[0m\u001b[0;34m(\u001b[0m\u001b[0mmap\u001b[0m\u001b[0;34m(\u001b[0m\u001b[0mf\u001b[0m\u001b[0;34m,\u001b[0m \u001b[0minclude\u001b[0m\u001b[0;34m)\u001b[0m\u001b[0;34m)\u001b[0m\u001b[0;34m\u001b[0m\u001b[0;34m\u001b[0m\u001b[0m\n\u001b[0m\u001b[1;32m   3336\u001b[0m             \u001b[0;32mif\u001b[0m \u001b[0mexclude\u001b[0m\u001b[0;34m:\u001b[0m\u001b[0;34m\u001b[0m\u001b[0;34m\u001b[0m\u001b[0m\n\u001b[1;32m   3337\u001b[0m                 \u001b[0mexclude_these\u001b[0m\u001b[0;34m.\u001b[0m\u001b[0miloc\u001b[0m\u001b[0;34m[\u001b[0m\u001b[0midx\u001b[0m\u001b[0;34m]\u001b[0m \u001b[0;34m=\u001b[0m \u001b[0;32mnot\u001b[0m \u001b[0many\u001b[0m\u001b[0;34m(\u001b[0m\u001b[0mmap\u001b[0m\u001b[0;34m(\u001b[0m\u001b[0mf\u001b[0m\u001b[0;34m,\u001b[0m \u001b[0mexclude\u001b[0m\u001b[0;34m)\u001b[0m\u001b[0;34m)\u001b[0m\u001b[0;34m\u001b[0m\u001b[0;34m\u001b[0m\u001b[0m\n",
      "\u001b[0;32m/usr/local/lib/python3.7/site-packages/pandas/core/indexing.py\u001b[0m in \u001b[0;36m__setitem__\u001b[0;34m(self, key, value)\u001b[0m\n\u001b[1;32m    188\u001b[0m             \u001b[0mkey\u001b[0m \u001b[0;34m=\u001b[0m \u001b[0mcom\u001b[0m\u001b[0;34m.\u001b[0m\u001b[0mapply_if_callable\u001b[0m\u001b[0;34m(\u001b[0m\u001b[0mkey\u001b[0m\u001b[0;34m,\u001b[0m \u001b[0mself\u001b[0m\u001b[0;34m.\u001b[0m\u001b[0mobj\u001b[0m\u001b[0;34m)\u001b[0m\u001b[0;34m\u001b[0m\u001b[0;34m\u001b[0m\u001b[0m\n\u001b[1;32m    189\u001b[0m         \u001b[0mindexer\u001b[0m \u001b[0;34m=\u001b[0m \u001b[0mself\u001b[0m\u001b[0;34m.\u001b[0m\u001b[0m_get_setitem_indexer\u001b[0m\u001b[0;34m(\u001b[0m\u001b[0mkey\u001b[0m\u001b[0;34m)\u001b[0m\u001b[0;34m\u001b[0m\u001b[0;34m\u001b[0m\u001b[0m\n\u001b[0;32m--> 190\u001b[0;31m         \u001b[0mself\u001b[0m\u001b[0;34m.\u001b[0m\u001b[0m_setitem_with_indexer\u001b[0m\u001b[0;34m(\u001b[0m\u001b[0mindexer\u001b[0m\u001b[0;34m,\u001b[0m \u001b[0mvalue\u001b[0m\u001b[0;34m)\u001b[0m\u001b[0;34m\u001b[0m\u001b[0;34m\u001b[0m\u001b[0m\n\u001b[0m\u001b[1;32m    191\u001b[0m \u001b[0;34m\u001b[0m\u001b[0m\n\u001b[1;32m    192\u001b[0m     \u001b[0;32mdef\u001b[0m \u001b[0m_validate_key\u001b[0m\u001b[0;34m(\u001b[0m\u001b[0mself\u001b[0m\u001b[0;34m,\u001b[0m \u001b[0mkey\u001b[0m\u001b[0;34m,\u001b[0m \u001b[0maxis\u001b[0m\u001b[0;34m)\u001b[0m\u001b[0;34m:\u001b[0m\u001b[0;34m\u001b[0m\u001b[0;34m\u001b[0m\u001b[0m\n",
      "\u001b[0;32m/usr/local/lib/python3.7/site-packages/pandas/core/indexing.py\u001b[0m in \u001b[0;36m_setitem_with_indexer\u001b[0;34m(self, indexer, value)\u001b[0m\n\u001b[1;32m    654\u001b[0m             \u001b[0mself\u001b[0m\u001b[0;34m.\u001b[0m\u001b[0mobj\u001b[0m\u001b[0;34m.\u001b[0m\u001b[0m_consolidate_inplace\u001b[0m\u001b[0;34m(\u001b[0m\u001b[0;34m)\u001b[0m\u001b[0;34m\u001b[0m\u001b[0;34m\u001b[0m\u001b[0m\n\u001b[1;32m    655\u001b[0m             self.obj._data = self.obj._data.setitem(indexer=indexer,\n\u001b[0;32m--> 656\u001b[0;31m                                                     value=value)\n\u001b[0m\u001b[1;32m    657\u001b[0m             \u001b[0mself\u001b[0m\u001b[0;34m.\u001b[0m\u001b[0mobj\u001b[0m\u001b[0;34m.\u001b[0m\u001b[0m_maybe_update_cacher\u001b[0m\u001b[0;34m(\u001b[0m\u001b[0mclear\u001b[0m\u001b[0;34m=\u001b[0m\u001b[0;32mTrue\u001b[0m\u001b[0;34m)\u001b[0m\u001b[0;34m\u001b[0m\u001b[0;34m\u001b[0m\u001b[0m\n\u001b[1;32m    658\u001b[0m \u001b[0;34m\u001b[0m\u001b[0m\n",
      "\u001b[0;32m/usr/local/lib/python3.7/site-packages/pandas/core/internals/managers.py\u001b[0m in \u001b[0;36msetitem\u001b[0;34m(self, **kwargs)\u001b[0m\n\u001b[1;32m    508\u001b[0m \u001b[0;34m\u001b[0m\u001b[0m\n\u001b[1;32m    509\u001b[0m     \u001b[0;32mdef\u001b[0m \u001b[0msetitem\u001b[0m\u001b[0;34m(\u001b[0m\u001b[0mself\u001b[0m\u001b[0;34m,\u001b[0m \u001b[0;34m**\u001b[0m\u001b[0mkwargs\u001b[0m\u001b[0;34m)\u001b[0m\u001b[0;34m:\u001b[0m\u001b[0;34m\u001b[0m\u001b[0;34m\u001b[0m\u001b[0m\n\u001b[0;32m--> 510\u001b[0;31m         \u001b[0;32mreturn\u001b[0m \u001b[0mself\u001b[0m\u001b[0;34m.\u001b[0m\u001b[0mapply\u001b[0m\u001b[0;34m(\u001b[0m\u001b[0;34m'setitem'\u001b[0m\u001b[0;34m,\u001b[0m \u001b[0;34m**\u001b[0m\u001b[0mkwargs\u001b[0m\u001b[0;34m)\u001b[0m\u001b[0;34m\u001b[0m\u001b[0;34m\u001b[0m\u001b[0m\n\u001b[0m\u001b[1;32m    511\u001b[0m \u001b[0;34m\u001b[0m\u001b[0m\n\u001b[1;32m    512\u001b[0m     \u001b[0;32mdef\u001b[0m \u001b[0mputmask\u001b[0m\u001b[0;34m(\u001b[0m\u001b[0mself\u001b[0m\u001b[0;34m,\u001b[0m \u001b[0;34m**\u001b[0m\u001b[0mkwargs\u001b[0m\u001b[0;34m)\u001b[0m\u001b[0;34m:\u001b[0m\u001b[0;34m\u001b[0m\u001b[0;34m\u001b[0m\u001b[0m\n",
      "\u001b[0;32m/usr/local/lib/python3.7/site-packages/pandas/core/internals/managers.py\u001b[0m in \u001b[0;36mapply\u001b[0;34m(self, f, axes, filter, do_integrity_check, consolidate, **kwargs)\u001b[0m\n\u001b[1;32m    393\u001b[0m                                             copy=align_copy)\n\u001b[1;32m    394\u001b[0m \u001b[0;34m\u001b[0m\u001b[0m\n\u001b[0;32m--> 395\u001b[0;31m             \u001b[0mapplied\u001b[0m \u001b[0;34m=\u001b[0m \u001b[0mgetattr\u001b[0m\u001b[0;34m(\u001b[0m\u001b[0mb\u001b[0m\u001b[0;34m,\u001b[0m \u001b[0mf\u001b[0m\u001b[0;34m)\u001b[0m\u001b[0;34m(\u001b[0m\u001b[0;34m**\u001b[0m\u001b[0mkwargs\u001b[0m\u001b[0;34m)\u001b[0m\u001b[0;34m\u001b[0m\u001b[0;34m\u001b[0m\u001b[0m\n\u001b[0m\u001b[1;32m    396\u001b[0m             \u001b[0mresult_blocks\u001b[0m \u001b[0;34m=\u001b[0m \u001b[0m_extend_blocks\u001b[0m\u001b[0;34m(\u001b[0m\u001b[0mapplied\u001b[0m\u001b[0;34m,\u001b[0m \u001b[0mresult_blocks\u001b[0m\u001b[0;34m)\u001b[0m\u001b[0;34m\u001b[0m\u001b[0;34m\u001b[0m\u001b[0m\n\u001b[1;32m    397\u001b[0m \u001b[0;34m\u001b[0m\u001b[0m\n",
      "\u001b[0;32m/usr/local/lib/python3.7/site-packages/pandas/core/internals/blocks.py\u001b[0m in \u001b[0;36msetitem\u001b[0;34m(self, indexer, value)\u001b[0m\n\u001b[1;32m    921\u001b[0m \u001b[0;34m\u001b[0m\u001b[0m\n\u001b[1;32m    922\u001b[0m         \u001b[0;31m# coerce and try to infer the dtypes of the result\u001b[0m\u001b[0;34m\u001b[0m\u001b[0;34m\u001b[0m\u001b[0;34m\u001b[0m\u001b[0m\n\u001b[0;32m--> 923\u001b[0;31m         \u001b[0mvalues\u001b[0m \u001b[0;34m=\u001b[0m \u001b[0mself\u001b[0m\u001b[0;34m.\u001b[0m\u001b[0m_try_coerce_and_cast_result\u001b[0m\u001b[0;34m(\u001b[0m\u001b[0mvalues\u001b[0m\u001b[0;34m,\u001b[0m \u001b[0mdtype\u001b[0m\u001b[0;34m)\u001b[0m\u001b[0;34m\u001b[0m\u001b[0;34m\u001b[0m\u001b[0m\n\u001b[0m\u001b[1;32m    924\u001b[0m         \u001b[0mblock\u001b[0m \u001b[0;34m=\u001b[0m \u001b[0mself\u001b[0m\u001b[0;34m.\u001b[0m\u001b[0mmake_block\u001b[0m\u001b[0;34m(\u001b[0m\u001b[0mtransf\u001b[0m\u001b[0;34m(\u001b[0m\u001b[0mvalues\u001b[0m\u001b[0;34m)\u001b[0m\u001b[0;34m)\u001b[0m\u001b[0;34m\u001b[0m\u001b[0;34m\u001b[0m\u001b[0m\n\u001b[1;32m    925\u001b[0m         \u001b[0;32mreturn\u001b[0m \u001b[0mblock\u001b[0m\u001b[0;34m\u001b[0m\u001b[0;34m\u001b[0m\u001b[0m\n",
      "\u001b[0;32m/usr/local/lib/python3.7/site-packages/pandas/core/internals/blocks.py\u001b[0m in \u001b[0;36m_try_coerce_and_cast_result\u001b[0;34m(self, result, dtype)\u001b[0m\n\u001b[1;32m    725\u001b[0m     \u001b[0;32mdef\u001b[0m \u001b[0m_try_coerce_and_cast_result\u001b[0m\u001b[0;34m(\u001b[0m\u001b[0mself\u001b[0m\u001b[0;34m,\u001b[0m \u001b[0mresult\u001b[0m\u001b[0;34m,\u001b[0m \u001b[0mdtype\u001b[0m\u001b[0;34m=\u001b[0m\u001b[0;32mNone\u001b[0m\u001b[0;34m)\u001b[0m\u001b[0;34m:\u001b[0m\u001b[0;34m\u001b[0m\u001b[0;34m\u001b[0m\u001b[0m\n\u001b[1;32m    726\u001b[0m         \u001b[0mresult\u001b[0m \u001b[0;34m=\u001b[0m \u001b[0mself\u001b[0m\u001b[0;34m.\u001b[0m\u001b[0m_try_coerce_result\u001b[0m\u001b[0;34m(\u001b[0m\u001b[0mresult\u001b[0m\u001b[0;34m)\u001b[0m\u001b[0;34m\u001b[0m\u001b[0;34m\u001b[0m\u001b[0m\n\u001b[0;32m--> 727\u001b[0;31m         \u001b[0mresult\u001b[0m \u001b[0;34m=\u001b[0m \u001b[0mself\u001b[0m\u001b[0;34m.\u001b[0m\u001b[0m_try_cast_result\u001b[0m\u001b[0;34m(\u001b[0m\u001b[0mresult\u001b[0m\u001b[0;34m,\u001b[0m \u001b[0mdtype\u001b[0m\u001b[0;34m=\u001b[0m\u001b[0mdtype\u001b[0m\u001b[0;34m)\u001b[0m\u001b[0;34m\u001b[0m\u001b[0;34m\u001b[0m\u001b[0m\n\u001b[0m\u001b[1;32m    728\u001b[0m         \u001b[0;32mreturn\u001b[0m \u001b[0mresult\u001b[0m\u001b[0;34m\u001b[0m\u001b[0;34m\u001b[0m\u001b[0m\n\u001b[1;32m    729\u001b[0m \u001b[0;34m\u001b[0m\u001b[0m\n",
      "\u001b[0;32m/usr/local/lib/python3.7/site-packages/pandas/core/internals/blocks.py\u001b[0m in \u001b[0;36m_try_cast_result\u001b[0;34m(self, result, dtype)\u001b[0m\n\u001b[1;32m    705\u001b[0m \u001b[0;34m\u001b[0m\u001b[0m\n\u001b[1;32m    706\u001b[0m         \u001b[0;31m# may need to change the dtype here\u001b[0m\u001b[0;34m\u001b[0m\u001b[0;34m\u001b[0m\u001b[0;34m\u001b[0m\u001b[0m\n\u001b[0;32m--> 707\u001b[0;31m         \u001b[0;32mreturn\u001b[0m \u001b[0mmaybe_downcast_to_dtype\u001b[0m\u001b[0;34m(\u001b[0m\u001b[0mresult\u001b[0m\u001b[0;34m,\u001b[0m \u001b[0mdtype\u001b[0m\u001b[0;34m)\u001b[0m\u001b[0;34m\u001b[0m\u001b[0;34m\u001b[0m\u001b[0m\n\u001b[0m\u001b[1;32m    708\u001b[0m \u001b[0;34m\u001b[0m\u001b[0m\n\u001b[1;32m    709\u001b[0m     \u001b[0;32mdef\u001b[0m \u001b[0m_try_coerce_args\u001b[0m\u001b[0;34m(\u001b[0m\u001b[0mself\u001b[0m\u001b[0;34m,\u001b[0m \u001b[0mvalues\u001b[0m\u001b[0;34m,\u001b[0m \u001b[0mother\u001b[0m\u001b[0;34m)\u001b[0m\u001b[0;34m:\u001b[0m\u001b[0;34m\u001b[0m\u001b[0;34m\u001b[0m\u001b[0m\n",
      "\u001b[0;32m/usr/local/lib/python3.7/site-packages/pandas/core/dtypes/cast.py\u001b[0m in \u001b[0;36mmaybe_downcast_to_dtype\u001b[0;34m(result, dtype)\u001b[0m\n\u001b[1;32m     77\u001b[0m         \u001b[0;32mif\u001b[0m \u001b[0mdtype\u001b[0m \u001b[0;34m==\u001b[0m \u001b[0;34m'infer'\u001b[0m\u001b[0;34m:\u001b[0m\u001b[0;34m\u001b[0m\u001b[0;34m\u001b[0m\u001b[0m\n\u001b[1;32m     78\u001b[0m             inferred_type = lib.infer_dtype(ensure_object(result.ravel()),\n\u001b[0;32m---> 79\u001b[0;31m                                             skipna=False)\n\u001b[0m\u001b[1;32m     80\u001b[0m             \u001b[0;32mif\u001b[0m \u001b[0minferred_type\u001b[0m \u001b[0;34m==\u001b[0m \u001b[0;34m'boolean'\u001b[0m\u001b[0;34m:\u001b[0m\u001b[0;34m\u001b[0m\u001b[0;34m\u001b[0m\u001b[0m\n\u001b[1;32m     81\u001b[0m                 \u001b[0mdtype\u001b[0m \u001b[0;34m=\u001b[0m \u001b[0;34m'bool'\u001b[0m\u001b[0;34m\u001b[0m\u001b[0;34m\u001b[0m\u001b[0m\n",
      "\u001b[0;31mKeyboardInterrupt\u001b[0m: "
     ]
    }
   ],
   "source": [
    "save_fn = 'results_all.csv'\n",
    "fn1 = 'results_run_4.csv'\n",
    "fn2 = 'results_run_5_and_6.csv'\n",
    "out = combine_df(fn1,fn2)\n",
    "out = out.drop(columns=['Unnamed: 0', 'index']).copy()\n",
    "out.astype('float32').reset_index().to_csv(save_fn, index_label='index')"
   ]
  },
  {
   "cell_type": "code",
   "execution_count": 41,
   "metadata": {},
   "outputs": [],
   "source": []
  },
  {
   "cell_type": "code",
   "execution_count": 47,
   "metadata": {},
   "outputs": [
    {
     "data": {
      "text/plain": [
       "206303"
      ]
     },
     "execution_count": 47,
     "metadata": {},
     "output_type": "execute_result"
    }
   ],
   "source": [
    "boo = (out.mean_c<1000)\n",
    "sum(boo)"
   ]
  },
  {
   "cell_type": "code",
   "execution_count": 64,
   "metadata": {},
   "outputs": [
    {
     "data": {
      "text/html": [
       "<div>\n",
       "<style scoped>\n",
       "    .dataframe tbody tr th:only-of-type {\n",
       "        vertical-align: middle;\n",
       "    }\n",
       "\n",
       "    .dataframe tbody tr th {\n",
       "        vertical-align: top;\n",
       "    }\n",
       "\n",
       "    .dataframe thead th {\n",
       "        text-align: right;\n",
       "    }\n",
       "</style>\n",
       "<table border=\"1\" class=\"dataframe\">\n",
       "  <thead>\n",
       "    <tr style=\"text-align: right;\">\n",
       "      <th></th>\n",
       "      <th>cycle_no</th>\n",
       "      <th>mean_c</th>\n",
       "      <th>mcd_at_100</th>\n",
       "      <th>mcd_at_200</th>\n",
       "      <th>mcd_at_300</th>\n",
       "      <th>mcd_at_400</th>\n",
       "      <th>mcd_at_500</th>\n",
       "      <th>mcd_at_800</th>\n",
       "      <th>kPDE</th>\n",
       "      <th>LPDE</th>\n",
       "      <th>c0</th>\n",
       "      <th>T</th>\n",
       "      <th>iter_no</th>\n",
       "      <th>dt</th>\n",
       "      <th>time_res</th>\n",
       "    </tr>\n",
       "  </thead>\n",
       "  <tbody>\n",
       "    <tr>\n",
       "      <th>count</th>\n",
       "      <td>300.000000</td>\n",
       "      <td>1.300000e+02</td>\n",
       "      <td>300.000000</td>\n",
       "      <td>300.000000</td>\n",
       "      <td>300.000000</td>\n",
       "      <td>300.000000</td>\n",
       "      <td>300.000000</td>\n",
       "      <td>300.000000</td>\n",
       "      <td>300.000000</td>\n",
       "      <td>300.000000</td>\n",
       "      <td>300.000000</td>\n",
       "      <td>300.000000</td>\n",
       "      <td>300.0</td>\n",
       "      <td>300.000</td>\n",
       "      <td>300.0</td>\n",
       "    </tr>\n",
       "    <tr>\n",
       "      <th>mean</th>\n",
       "      <td>1.576667</td>\n",
       "      <td>inf</td>\n",
       "      <td>-0.700874</td>\n",
       "      <td>-0.678701</td>\n",
       "      <td>-0.661881</td>\n",
       "      <td>-0.651111</td>\n",
       "      <td>-0.642538</td>\n",
       "      <td>-0.612217</td>\n",
       "      <td>0.704046</td>\n",
       "      <td>383.263550</td>\n",
       "      <td>12.381667</td>\n",
       "      <td>16.663334</td>\n",
       "      <td>4.0</td>\n",
       "      <td>0.005</td>\n",
       "      <td>10.0</td>\n",
       "    </tr>\n",
       "    <tr>\n",
       "      <th>std</th>\n",
       "      <td>1.077649</td>\n",
       "      <td>NaN</td>\n",
       "      <td>0.238075</td>\n",
       "      <td>0.231318</td>\n",
       "      <td>0.227494</td>\n",
       "      <td>0.225626</td>\n",
       "      <td>0.222441</td>\n",
       "      <td>0.215024</td>\n",
       "      <td>0.326306</td>\n",
       "      <td>330.392761</td>\n",
       "      <td>17.297228</td>\n",
       "      <td>4.083164</td>\n",
       "      <td>0.0</td>\n",
       "      <td>0.000</td>\n",
       "      <td>0.0</td>\n",
       "    </tr>\n",
       "    <tr>\n",
       "      <th>min</th>\n",
       "      <td>0.000000</td>\n",
       "      <td>7.275109e+03</td>\n",
       "      <td>-0.989580</td>\n",
       "      <td>-0.979170</td>\n",
       "      <td>-0.979170</td>\n",
       "      <td>-0.972220</td>\n",
       "      <td>-0.965280</td>\n",
       "      <td>-0.947920</td>\n",
       "      <td>0.054570</td>\n",
       "      <td>26.360001</td>\n",
       "      <td>0.000000</td>\n",
       "      <td>12.000000</td>\n",
       "      <td>4.0</td>\n",
       "      <td>0.005</td>\n",
       "      <td>10.0</td>\n",
       "    </tr>\n",
       "    <tr>\n",
       "      <th>25%</th>\n",
       "      <td>1.000000</td>\n",
       "      <td>5.063047e+19</td>\n",
       "      <td>-0.917538</td>\n",
       "      <td>-0.890048</td>\n",
       "      <td>-0.866027</td>\n",
       "      <td>-0.861110</td>\n",
       "      <td>-0.842110</td>\n",
       "      <td>-0.814810</td>\n",
       "      <td>0.379200</td>\n",
       "      <td>78.500000</td>\n",
       "      <td>3.375000</td>\n",
       "      <td>12.000000</td>\n",
       "      <td>4.0</td>\n",
       "      <td>0.005</td>\n",
       "      <td>10.0</td>\n",
       "    </tr>\n",
       "    <tr>\n",
       "      <th>50%</th>\n",
       "      <td>2.000000</td>\n",
       "      <td>inf</td>\n",
       "      <td>-0.763890</td>\n",
       "      <td>-0.741900</td>\n",
       "      <td>-0.710070</td>\n",
       "      <td>-0.694440</td>\n",
       "      <td>-0.694440</td>\n",
       "      <td>-0.631305</td>\n",
       "      <td>0.807850</td>\n",
       "      <td>284.800003</td>\n",
       "      <td>6.000000</td>\n",
       "      <td>16.000000</td>\n",
       "      <td>4.0</td>\n",
       "      <td>0.005</td>\n",
       "      <td>10.0</td>\n",
       "    </tr>\n",
       "    <tr>\n",
       "      <th>75%</th>\n",
       "      <td>2.000000</td>\n",
       "      <td>inf</td>\n",
       "      <td>-0.506363</td>\n",
       "      <td>-0.495610</td>\n",
       "      <td>-0.471063</td>\n",
       "      <td>-0.459980</td>\n",
       "      <td>-0.457783</td>\n",
       "      <td>-0.444440</td>\n",
       "      <td>1.000000</td>\n",
       "      <td>695.000000</td>\n",
       "      <td>10.500000</td>\n",
       "      <td>19.000000</td>\n",
       "      <td>4.0</td>\n",
       "      <td>0.005</td>\n",
       "      <td>10.0</td>\n",
       "    </tr>\n",
       "    <tr>\n",
       "      <th>max</th>\n",
       "      <td>3.000000</td>\n",
       "      <td>inf</td>\n",
       "      <td>-0.171880</td>\n",
       "      <td>-0.171880</td>\n",
       "      <td>-0.171880</td>\n",
       "      <td>-0.170140</td>\n",
       "      <td>-0.168400</td>\n",
       "      <td>-0.069440</td>\n",
       "      <td>1.000000</td>\n",
       "      <td>1000.000000</td>\n",
       "      <td>70.000000</td>\n",
       "      <td>24.000000</td>\n",
       "      <td>4.0</td>\n",
       "      <td>0.005</td>\n",
       "      <td>10.0</td>\n",
       "    </tr>\n",
       "  </tbody>\n",
       "</table>\n",
       "</div>"
      ],
      "text/plain": [
       "         cycle_no        mean_c  mcd_at_100  mcd_at_200  mcd_at_300  \\\n",
       "count  300.000000  1.300000e+02  300.000000  300.000000  300.000000   \n",
       "mean     1.576667           inf   -0.700874   -0.678701   -0.661881   \n",
       "std      1.077649           NaN    0.238075    0.231318    0.227494   \n",
       "min      0.000000  7.275109e+03   -0.989580   -0.979170   -0.979170   \n",
       "25%      1.000000  5.063047e+19   -0.917538   -0.890048   -0.866027   \n",
       "50%      2.000000           inf   -0.763890   -0.741900   -0.710070   \n",
       "75%      2.000000           inf   -0.506363   -0.495610   -0.471063   \n",
       "max      3.000000           inf   -0.171880   -0.171880   -0.171880   \n",
       "\n",
       "       mcd_at_400  mcd_at_500  mcd_at_800        kPDE         LPDE  \\\n",
       "count  300.000000  300.000000  300.000000  300.000000   300.000000   \n",
       "mean    -0.651111   -0.642538   -0.612217    0.704046   383.263550   \n",
       "std      0.225626    0.222441    0.215024    0.326306   330.392761   \n",
       "min     -0.972220   -0.965280   -0.947920    0.054570    26.360001   \n",
       "25%     -0.861110   -0.842110   -0.814810    0.379200    78.500000   \n",
       "50%     -0.694440   -0.694440   -0.631305    0.807850   284.800003   \n",
       "75%     -0.459980   -0.457783   -0.444440    1.000000   695.000000   \n",
       "max     -0.170140   -0.168400   -0.069440    1.000000  1000.000000   \n",
       "\n",
       "               c0           T  iter_no       dt  time_res  \n",
       "count  300.000000  300.000000    300.0  300.000     300.0  \n",
       "mean    12.381667   16.663334      4.0    0.005      10.0  \n",
       "std     17.297228    4.083164      0.0    0.000       0.0  \n",
       "min      0.000000   12.000000      4.0    0.005      10.0  \n",
       "25%      3.375000   12.000000      4.0    0.005      10.0  \n",
       "50%      6.000000   16.000000      4.0    0.005      10.0  \n",
       "75%     10.500000   19.000000      4.0    0.005      10.0  \n",
       "max     70.000000   24.000000      4.0    0.005      10.0  "
      ]
     },
     "execution_count": 64,
     "metadata": {},
     "output_type": "execute_result"
    }
   ],
   "source": [
    "out.loc[~boo].astype('float32').head(300).describe()"
   ]
  },
  {
   "cell_type": "code",
   "execution_count": 65,
   "metadata": {},
   "outputs": [
    {
     "data": {
      "text/html": [
       "<div>\n",
       "<style scoped>\n",
       "    .dataframe tbody tr th:only-of-type {\n",
       "        vertical-align: middle;\n",
       "    }\n",
       "\n",
       "    .dataframe tbody tr th {\n",
       "        vertical-align: top;\n",
       "    }\n",
       "\n",
       "    .dataframe thead th {\n",
       "        text-align: right;\n",
       "    }\n",
       "</style>\n",
       "<table border=\"1\" class=\"dataframe\">\n",
       "  <thead>\n",
       "    <tr style=\"text-align: right;\">\n",
       "      <th></th>\n",
       "      <th>cycle_no</th>\n",
       "      <th>mean_c</th>\n",
       "      <th>mcd_at_100</th>\n",
       "      <th>mcd_at_200</th>\n",
       "      <th>mcd_at_300</th>\n",
       "      <th>mcd_at_400</th>\n",
       "      <th>mcd_at_500</th>\n",
       "      <th>mcd_at_800</th>\n",
       "      <th>kPDE</th>\n",
       "      <th>LPDE</th>\n",
       "      <th>c0</th>\n",
       "      <th>T</th>\n",
       "      <th>iter_no</th>\n",
       "      <th>dt</th>\n",
       "      <th>time_res</th>\n",
       "    </tr>\n",
       "  </thead>\n",
       "  <tbody>\n",
       "    <tr>\n",
       "      <th>25</th>\n",
       "      <td>1.0</td>\n",
       "      <td>NaN</td>\n",
       "      <td>-0.61458</td>\n",
       "      <td>-0.61458</td>\n",
       "      <td>-0.61111</td>\n",
       "      <td>-0.60764</td>\n",
       "      <td>-0.60069</td>\n",
       "      <td>-0.58681</td>\n",
       "      <td>0.6157</td>\n",
       "      <td>695.000000</td>\n",
       "      <td>6.0</td>\n",
       "      <td>24.0</td>\n",
       "      <td>4.0</td>\n",
       "      <td>0.005</td>\n",
       "      <td>10.0</td>\n",
       "    </tr>\n",
       "    <tr>\n",
       "      <th>26</th>\n",
       "      <td>2.0</td>\n",
       "      <td>NaN</td>\n",
       "      <td>-0.40972</td>\n",
       "      <td>-0.40972</td>\n",
       "      <td>-0.40741</td>\n",
       "      <td>-0.40509</td>\n",
       "      <td>-0.40046</td>\n",
       "      <td>-0.39120</td>\n",
       "      <td>0.6157</td>\n",
       "      <td>695.000000</td>\n",
       "      <td>6.0</td>\n",
       "      <td>24.0</td>\n",
       "      <td>4.0</td>\n",
       "      <td>0.005</td>\n",
       "      <td>10.0</td>\n",
       "    </tr>\n",
       "    <tr>\n",
       "      <th>27</th>\n",
       "      <td>3.0</td>\n",
       "      <td>NaN</td>\n",
       "      <td>-0.30729</td>\n",
       "      <td>-0.30729</td>\n",
       "      <td>-0.30556</td>\n",
       "      <td>-0.30382</td>\n",
       "      <td>-0.30035</td>\n",
       "      <td>-0.29340</td>\n",
       "      <td>0.6157</td>\n",
       "      <td>695.000000</td>\n",
       "      <td>6.0</td>\n",
       "      <td>24.0</td>\n",
       "      <td>4.0</td>\n",
       "      <td>0.005</td>\n",
       "      <td>10.0</td>\n",
       "    </tr>\n",
       "    <tr>\n",
       "      <th>241</th>\n",
       "      <td>1.0</td>\n",
       "      <td>NaN</td>\n",
       "      <td>-0.52431</td>\n",
       "      <td>-0.51389</td>\n",
       "      <td>-0.50000</td>\n",
       "      <td>-0.49306</td>\n",
       "      <td>-0.48264</td>\n",
       "      <td>-0.46181</td>\n",
       "      <td>1.0000</td>\n",
       "      <td>112.900002</td>\n",
       "      <td>70.0</td>\n",
       "      <td>24.0</td>\n",
       "      <td>4.0</td>\n",
       "      <td>0.005</td>\n",
       "      <td>10.0</td>\n",
       "    </tr>\n",
       "  </tbody>\n",
       "</table>\n",
       "</div>"
      ],
      "text/plain": [
       "     cycle_no  mean_c  mcd_at_100  mcd_at_200  mcd_at_300  mcd_at_400  \\\n",
       "25        1.0     NaN    -0.61458    -0.61458    -0.61111    -0.60764   \n",
       "26        2.0     NaN    -0.40972    -0.40972    -0.40741    -0.40509   \n",
       "27        3.0     NaN    -0.30729    -0.30729    -0.30556    -0.30382   \n",
       "241       1.0     NaN    -0.52431    -0.51389    -0.50000    -0.49306   \n",
       "\n",
       "     mcd_at_500  mcd_at_800    kPDE        LPDE    c0     T  iter_no     dt  \\\n",
       "25     -0.60069    -0.58681  0.6157  695.000000   6.0  24.0      4.0  0.005   \n",
       "26     -0.40046    -0.39120  0.6157  695.000000   6.0  24.0      4.0  0.005   \n",
       "27     -0.30035    -0.29340  0.6157  695.000000   6.0  24.0      4.0  0.005   \n",
       "241    -0.48264    -0.46181  1.0000  112.900002  70.0  24.0      4.0  0.005   \n",
       "\n",
       "     time_res  \n",
       "25       10.0  \n",
       "26       10.0  \n",
       "27       10.0  \n",
       "241      10.0  "
      ]
     },
     "execution_count": 65,
     "metadata": {},
     "output_type": "execute_result"
    }
   ],
   "source": [
    "# out.index.describe()\n",
    "# out.head(10).dtypes=='float32'\n",
    "out.loc[~boo].astype('float32').head(4)"
   ]
  },
  {
   "cell_type": "code",
   "execution_count": 62,
   "metadata": {},
   "outputs": [],
   "source": []
  },
  {
   "cell_type": "markdown",
   "metadata": {
    "heading_collapsed": true
   },
   "source": [
    "### (just do this in bash) condense an output folder into a single results "
   ]
  },
  {
   "cell_type": "code",
   "execution_count": 27,
   "metadata": {
    "hidden": true
   },
   "outputs": [],
   "source": [
    "# os.chdir(f'{nb_dir}/../data/')\n",
    "# !(./condense_output.py -o Log/ -s results_run_5_and_6.csv)\n",
    "\n",
    "#use this\n",
    "# %run worker_pde_sim.py 1 2 3 4"
   ]
  },
  {
   "cell_type": "markdown",
   "metadata": {
    "heading_collapsed": true
   },
   "source": [
    "## scratchwerk and old todo list"
   ]
  },
  {
   "cell_type": "code",
   "execution_count": null,
   "metadata": {
    "hidden": true
   },
   "outputs": [],
   "source": [
    "#!/usr/bin/env python\n",
    "\n",
    "# a humble worker for the PDE Simulation.\n",
    "# Developer: Tim (the Tyrant) Tyree\n",
    "# 3.31.2020\n",
    "\n",
    "\n",
    "####TODO: (check )get worker wrapper that \n",
    "#TODO: iterates through a list of parameters listed in an input .txt file\n",
    "# use dax-generator.py to do ^this\n",
    "#TODO: makes a function that takes the output and brings it all into one nice file so data transfer doesn't take forever\n",
    "\n",
    "####TODO(now) make task###\n",
    "#TODO: copy example .py file from the osg's page, scalingup-python\n",
    "#TODO: copy pde sim generator\n",
    "#TODO: test cases\n",
    "\n",
    "####TODO(later) adapt task### \n",
    "#TODO: compile to cython\n",
    "#TODO: test cases\n",
    "#TODO: make boolean function that measures the amount of time at a given distance had an outward cAMP gradient over 0.1/15 nM/µm from the cluster\n",
    "#TODO: query ^that at 100-300 microns from the cluster. return true if long enough (whatever's consistent with old method)\n",
    "#TODO: run ^that biatch on the open science grid with some parameter grid\n"
   ]
  },
  {
   "cell_type": "markdown",
   "metadata": {},
   "source": [
    "## scratchwerk"
   ]
  },
  {
   "cell_type": "code",
   "execution_count": null,
   "metadata": {},
   "outputs": [],
   "source": [
    "# sys.argv[0]\n",
    "# !ls -1 */*\n",
    "# source_fn = !ls *.csv\n",
    "# source_fn = source_fn[0]"
   ]
  },
  {
   "cell_type": "code",
   "execution_count": null,
   "metadata": {},
   "outputs": [],
   "source": [
    "# sys.argv"
   ]
  },
  {
   "cell_type": "code",
   "execution_count": null,
   "metadata": {},
   "outputs": [],
   "source": [
    "# def foo(a):\n",
    "#     print(sys.argv)\n",
    "#     return True"
   ]
  },
  {
   "cell_type": "code",
   "execution_count": null,
   "metadata": {},
   "outputs": [],
   "source": [
    "# foo(1)"
   ]
  },
  {
   "cell_type": "code",
   "execution_count": null,
   "metadata": {},
   "outputs": [],
   "source": [
    "# from worker_pde_sim import *\n",
    "#DONE: get worker_pde_sim.py to compile\n",
    "#DONE: get it to parse the right arguments \n",
    "#DONE: get it up and running!"
   ]
  },
  {
   "cell_type": "code",
   "execution_count": null,
   "metadata": {},
   "outputs": [],
   "source": []
  },
  {
   "cell_type": "code",
   "execution_count": null,
   "metadata": {},
   "outputs": [],
   "source": [
    "# import overseer_pde_sim as ops\n",
    "# df = ops.grid_to_df(c0grid = [1,2,3,4], kgrid=[0.0002,2])\n",
    "# df.head()"
   ]
  },
  {
   "cell_type": "code",
   "execution_count": null,
   "metadata": {
    "scrolled": false
   },
   "outputs": [],
   "source": [
    "# #make argument DataFrame, store as csv.  load values and iterate through\n",
    "# column_names = ['itno','kPDE','T','LPDE','c0','tr']\n",
    "# default_values = [[3], [0.], [21], [100], [4], [10]]\n",
    "# pd.DataFrame(dict(zip(column_names,default_values)))"
   ]
  },
  {
   "cell_type": "markdown",
   "metadata": {
    "heading_collapsed": true
   },
   "source": [
    "### don't do this later: make the simulate function a little faster"
   ]
  },
  {
   "cell_type": "code",
   "execution_count": null,
   "metadata": {
    "hidden": true
   },
   "outputs": [],
   "source": [
    "#TODO: copy here and test the simulate function \n",
    "#TODO: time the test function\n",
    "#after compiling with cython\n",
    "#after replacing the time step with matrix multiplication\n",
    "#comment out the print statements"
   ]
  },
  {
   "cell_type": "code",
   "execution_count": null,
   "metadata": {
    "hidden": true
   },
   "outputs": [],
   "source": []
  },
  {
   "cell_type": "code",
   "execution_count": null,
   "metadata": {
    "hidden": true
   },
   "outputs": [],
   "source": [
    "# LPDE = 100\n",
    "# kPDE = 0.02\n",
    "# c0   = 4\n",
    "# T    = 12\n",
    "# itno = 1\n",
    "# time_res = 10\n",
    "# Ts      = T*60.#period of signal in seconds\n",
    "# spl     = import_mg_source()\n",
    "# # dsource = evaluate_mg_source(spl, t_list=None)\n",
    "# # phi     = lambda t: F0*dsource[np.around(t,4)]/rmesh[0]\n",
    "\n",
    "# #cylindrical FEM with localized PDE decay\n",
    "# # define b.c.'s in units of slope #concentration difference per time step\n",
    "# fluxLeft = lambda t:phi(t%Ts)\n",
    "# fluxRight= 0./rmesh[-1]\n",
    "\n",
    "# #save every time_res seconds\n",
    "# step_num = int(time_res/dt)\n",
    "# svetimes_init = np.arange(0,itno*Ts,dt)[::step_num] \n",
    "# svetimes = svetimes_init#savetimes in units of seconds\n",
    "# tmin = 0.\n",
    "# tmax = svetimes[-1] + dt\n",
    "\n",
    "# #create camp field and initialize values\n",
    "# c = c0+0.*rmesh\n",
    "# pde = kn(0,rmesh/LPDE)/kn(0,r0/LPDE)#constitutive pde production in 2D radial coords\n",
    "# c = c.astype('float64')\n",
    "# pde = pde.astype('float64')\n",
    "# #     pde = np.exp(-(rmesh-r0)/LPDE)#constitutive pde production in 1D coords\n",
    "# #     pde = 1+0.*rmesh#uniform degradation\n",
    "\n",
    "# # numerically integrate with forward euler integration\n",
    "# sved = []\n",
    "# Time = tmin\n",
    "\n",
    "# #initialize\n",
    "# #  make the mesh\n",
    "# r0   = 50. #um\n",
    "# Lr   = 1000.#um\n",
    "# dr   = 1.  #um\n",
    "# dt   = 0.0005#sec \n",
    "# rmesh    = np.arange(r0,Lr+dr,dr)\n",
    "# # c = 0.*rmesh\n",
    "# # pde = kn(0,rmesh/LPDE)/kn(0,r0/LPDE)\n",
    "# #  define parameters\n",
    "# D     = 100.#um^2/s\n",
    "# F0    = 10**4\n",
    "# inv_rmesh = 1./rmesh\n",
    "\n",
    "# # def time_step(c, pde, rmesh, D, kPDE, dr, dt):\n",
    "# #     #step one: update exterior faces and other state variables \n",
    "# # #     cp    = np.hstack([c[0]-dface[0], c, c[-1]+dface[-1]])\n",
    "# #     dface = np.hstack([ 0. , np.diff(c) , 0. ])\n",
    "# # #     face  = c[1:]*0.5 + c[:-1]*0.5\n",
    "# #     cp    = np.hstack([c[0], c, c[-1]])\n",
    "# #     face  = cp[1:]*0.5 + cp[:-1]*0.5\n",
    "\n",
    "# #     #step two: calculate transient term\n",
    "# #     term1 = D*np.multiply(np.diff(face),inv_rmesh)/dr\n",
    "# # #     term1 = D*np.diff(face)/rmesh/dr\n",
    "# #     term2 = D*np.diff(dface)/dr**2\n",
    "# #     termDEG = -1*kPDE*np.multiply(c,pde)\n",
    "\n",
    "# #     #add flux term\n",
    "# #     termBC = np.hstack([ fluxLeft(Time) , 0*c[1:-1] , fluxRight ])\n",
    "\n",
    "# #     #step three: integrate in time\n",
    "# #     dcdt  = term1 + term2 + termBC + termDEG\n",
    "# #     return c + dt*dcdt"
   ]
  },
  {
   "cell_type": "code",
   "execution_count": null,
   "metadata": {
    "hidden": true
   },
   "outputs": [],
   "source": [
    "# #Stop wasting time on unnecessary opotimization!\n",
    "# # import numpy as np\n",
    "# # cimport numpy as np\n",
    "# # def myfunc(np.ndarray[np.float64_t, ndim=2] A):\n",
    "# # <...>\n",
    "\n",
    "# start = time.time() \n",
    "# retval = time_step(c+1, pde, rmesh, D, kPDE, dr, dt)\n",
    "# end = time.time()\n",
    "# print('\\n%s seconds elapsed numerically integrating.' % np.around(end-start,6))"
   ]
  },
  {
   "cell_type": "code",
   "execution_count": null,
   "metadata": {
    "hidden": true
   },
   "outputs": [],
   "source": []
  },
  {
   "cell_type": "code",
   "execution_count": null,
   "metadata": {
    "hidden": true
   },
   "outputs": [],
   "source": []
  },
  {
   "cell_type": "markdown",
   "metadata": {
    "heading_collapsed": true
   },
   "source": [
    "### dev for recording cell direction "
   ]
  },
  {
   "cell_type": "code",
   "execution_count": null,
   "metadata": {
    "hidden": true
   },
   "outputs": [],
   "source": [
    "# #get whether or not the outward cAMP gradients are greater than some threshold value for greater than some threshold time for a wide range of parameter values.  \n",
    "# def measure_at(c,loc, dr=1, thresh = (0.1/15)):\n",
    "#     '''returns 1, 0, -1 if cells would be moving away, neither, or towards the cell cluster, respectively.'''\n",
    "#     dface = np.hstack([ 0. , np.diff(c) , 0. ])##\n",
    "#     return sign_w_thresh(dface[loc], thresh = thresh)\n",
    "# def sign_w_thresh(arg,thresh):\n",
    "#     '''returns 1 if arg is more than thresh, -1 if arg is less than -thresh, and zero else.\n",
    "#     assumes thresh>0. See test cases for example usage.'''\n",
    "#     if arg-thresh>0:\n",
    "#         return 1\n",
    "#     elif arg+thresh<0:\n",
    "#         return -1\n",
    "#     else:\n",
    "#         return 0"
   ]
  },
  {
   "cell_type": "code",
   "execution_count": null,
   "metadata": {
    "hidden": true
   },
   "outputs": [],
   "source": [
    "# #initialize loop invariants\n",
    "# cycle_no = 0\n",
    "# time = 0.\n",
    "# r_bins = [100./dr,200./dr,300./dr]\n",
    "# v_bucket = [[] for r in r_bins]\n",
    "# dr = 1\n",
    "# ds = 0.1/15\n",
    "\n",
    "# #TODO: put the following in my simulate() when it works!\n",
    "\n",
    "# #calculate direction of cell motion for each bin\n",
    "# v_bins = [measure_at(c,int(r),dr=dr, thresh=ds) for r in r_bins]\n",
    "# #record cell direction\n",
    "# for i,l in enumerate(v_bucket):\n",
    "#     l.append(v_bins[i])\n",
    "# #     l.append(l)\n",
    "# #     assert(v_bucket[0][1][1][1][1][1][1]==v_bucket[0])\n",
    "# #^dude, I made a recursively defined list.\n",
    "# # for l in v_bucket:\n",
    "# #     for i,r in enumerate(r_bins):\n",
    "# #         l.append(v_bins[i])"
   ]
  },
  {
   "cell_type": "code",
   "execution_count": null,
   "metadata": {
    "hidden": true
   },
   "outputs": [],
   "source": [
    "# dface = np.hstack([ 0. , np.diff(c) , 0. ])##\n",
    "# sign_w_thresh(dface[loc], thresh = ds)"
   ]
  },
  {
   "cell_type": "code",
   "execution_count": null,
   "metadata": {
    "hidden": true
   },
   "outputs": [],
   "source": [
    "# v_bucket"
   ]
  },
  {
   "cell_type": "code",
   "execution_count": null,
   "metadata": {
    "hidden": true
   },
   "outputs": [],
   "source": [
    "# v_bucket = [[0,12,3,4,5,6], [0,2,3,4], [0]]\n",
    "\n",
    "# #calculate average cell motion for each bin\n",
    "# v_mean = [sum(v)/len(v) for v in v_bucket]"
   ]
  },
  {
   "cell_type": "code",
   "execution_count": null,
   "metadata": {
    "hidden": true
   },
   "outputs": [],
   "source": []
  },
  {
   "cell_type": "markdown",
   "metadata": {
    "heading_collapsed": true
   },
   "source": [
    "# larger time step (dt=0.005 sec) is valid "
   ]
  },
  {
   "cell_type": "code",
   "execution_count": 6,
   "metadata": {
    "hidden": true
   },
   "outputs": [
    {
     "name": "stdout",
     "output_type": "stream",
     "text": [
      "Printing Inputs:\n",
      "kPDE:0.02 LPDE:100 c0:10 T:10 iter_no:4 dt:0.0005 time_res:10\n",
      "\n",
      "Printing Outputs including mean cell direction (mcd):\n",
      "cycle_no,mean_c,mcd_at_100,mcd_at_200,mcd_at_300,mcd_at_400\n",
      "0,9.55825,0.06667,0.11667,0.03333,0.11667\n",
      "1,9.26838,0.05000,0.13333,0.07500,0.20833\n",
      "2,9.01633,0.04444,0.12778,0.08889,0.22778\n",
      "3,8.78876,0.04167,0.12083,0.09167,0.22500\n",
      "CPU times: user 5min 56s, sys: 455 ms, total: 5min 57s\n",
      "Wall time: 5min 57s\n"
     ]
    }
   ],
   "source": [
    "# %%time\n",
    "# retval  = simulate(kPDE=0.02, \n",
    "#          LPDE=100, \n",
    "#          c0=10, T=10, \n",
    "#          iter_no=4, dt=0.0005, time_res=10)"
   ]
  },
  {
   "cell_type": "code",
   "execution_count": 7,
   "metadata": {
    "hidden": true,
    "scrolled": true
   },
   "outputs": [
    {
     "name": "stdout",
     "output_type": "stream",
     "text": [
      "Printing Inputs:\n",
      "kPDE:0.02 LPDE:100 c0:10 T:10 iter_no:4 dt:0.005 time_res:10\n",
      "\n",
      "Printing Outputs including mean cell direction (mcd):\n",
      "cycle_no,mean_c,mcd_at_100,mcd_at_200,mcd_at_300,mcd_at_400,mcd_at_500,mcd_at_800\n",
      "0,9.55823,0.06667,0.11667,0.03333,0.11667,0.00000,0.00000\n",
      "1,9.26836,0.05000,0.13333,0.07500,0.20833,0.00000,0.00000\n",
      "2,9.01630,0.04444,0.12778,0.08889,0.22778,0.00000,0.00000\n",
      "3,8.78873,0.04167,0.12083,0.09167,0.22500,0.00000,0.00000\n"
     ]
    }
   ],
   "source": [
    "# # %%time\n",
    "# retval  = simulate(kPDE=0.02, \n",
    "#          LPDE=100, \n",
    "#          c0=10, T=10, \n",
    "#          iter_no=4, dt=0.005, time_res=10)"
   ]
  },
  {
   "cell_type": "code",
   "execution_count": 11,
   "metadata": {
    "hidden": true
   },
   "outputs": [
    {
     "data": {
      "text/plain": [
       "True"
      ]
     },
     "execution_count": 11,
     "metadata": {},
     "output_type": "execute_result"
    }
   ],
   "source": [
    "retval\n",
    "#2:20 min for FEM original dt = 0.0005\n",
    "#4:20 for implicit euler at 1 iteration dt = 0.0005\n",
    "#0:28 for implicit euler at 1 iteration dt = 0.005"
   ]
  },
  {
   "cell_type": "code",
   "execution_count": null,
   "metadata": {
    "hidden": true
   },
   "outputs": [],
   "source": [
    "retval  = simulate(kPDE=0.02, \n",
    "         LPDE=100, \n",
    "         c0=10, T=10, \n",
    "         iter_no=4, dt=0.005, time_res=10)"
   ]
  },
  {
   "cell_type": "code",
   "execution_count": null,
   "metadata": {
    "hidden": true,
    "scrolled": true
   },
   "outputs": [],
   "source": [
    "c = retval-c_FEM\n",
    "rmesh = np.arange(50,1001,1)\n",
    "plt.scatter(x=rmesh,y=c)\n",
    "plt.xlabel('r (µm)')\n",
    "plt.ylabel('cAMP difference (nM)')\n",
    "plt.title('2 iterations implicit euler method')\n",
    "# plt.savefig('FEM.png')"
   ]
  },
  {
   "cell_type": "code",
   "execution_count": null,
   "metadata": {
    "hidden": true
   },
   "outputs": [],
   "source": [
    "\n",
    "# c_FEM = retval\n",
    "# rmesh = np.arange(50,1001,1)\n",
    "# plt.scatter(x=rmesh,y=c_FEM)\n",
    "# plt.xlabel('r (µm)')\n",
    "# plt.ylabel('cAMP (nM)')\n",
    "# plt.title('forward euler method')\n",
    "# # plt.savefig('FEM.png')"
   ]
  },
  {
   "cell_type": "markdown",
   "metadata": {
    "heading_collapsed": true
   },
   "source": [
    "# playing with cython to speed up the time_step\n",
    "4.7.2020 - I gave this an hour, got a cython time_step compiling, and it doesn't save any time.  I probably need to do a highly technical alteration to make it faster unless I parallelize."
   ]
  },
  {
   "cell_type": "code",
   "execution_count": null,
   "metadata": {
    "hidden": true
   },
   "outputs": [],
   "source": [
    "import pyximport; pyximport.install()\n",
    "from time_step import time_step as ts\n",
    "from worker_pde_sim import time_step as ts2"
   ]
  },
  {
   "cell_type": "code",
   "execution_count": null,
   "metadata": {
    "hidden": true
   },
   "outputs": [],
   "source": [
    "ca = c.astype('float32')\n",
    "cb = pde.astype('float32')\n",
    "cc = rmesh.astype('float32')"
   ]
  },
  {
   "cell_type": "code",
   "execution_count": null,
   "metadata": {
    "hidden": true,
    "scrolled": true
   },
   "outputs": [],
   "source": [
    "%%time\n",
    "retval = ts(ca,cb,cc, D, kPDE, dr, 0)"
   ]
  },
  {
   "cell_type": "code",
   "execution_count": null,
   "metadata": {
    "hidden": true
   },
   "outputs": [],
   "source": [
    "%%time\n",
    "retval = ts2(ca,cb,cc, D, kPDE, dr, 0)"
   ]
  },
  {
   "cell_type": "markdown",
   "metadata": {
    "heading_collapsed": true
   },
   "source": [
    "# time step of dt=0.005 is accurate using forward euler integration"
   ]
  },
  {
   "cell_type": "code",
   "execution_count": null,
   "metadata": {
    "hidden": true
   },
   "outputs": [],
   "source": [
    "%%time\n",
    "retval  = simulate(kPDE=0.0002,\n",
    "         LPDE=100,\n",
    "         c0=4, T=21,\n",
    "         iter_no=6, dt=0.005, time_res=10)"
   ]
  },
  {
   "cell_type": "code",
   "execution_count": null,
   "metadata": {
    "hidden": true
   },
   "outputs": [],
   "source": [
    "%%time\n",
    "retval  = simulate(kPDE=0.02,\n",
    "         LPDE=100,\n",
    "         c0=4, T=21,\n",
    "         iter_no=6, dt=0.005, time_res=10)"
   ]
  },
  {
   "cell_type": "code",
   "execution_count": null,
   "metadata": {
    "hidden": true
   },
   "outputs": [],
   "source": [
    "%%time\n",
    "retval  = simulate(kPDE=0.0002,\n",
    "         LPDE=100,\n",
    "         c0=4, T=21,\n",
    "         iter_no=3, dt=0.01, time_res=10)"
   ]
  },
  {
   "cell_type": "code",
   "execution_count": null,
   "metadata": {
    "hidden": true
   },
   "outputs": [],
   "source": [
    "%%time\n",
    "retval  = simulate(kPDE=0.0002,\n",
    "         LPDE=100,\n",
    "         c0=4, T=21,\n",
    "         iter_no=3, dt=0.05, time_res=10)"
   ]
  },
  {
   "cell_type": "code",
   "execution_count": null,
   "metadata": {
    "hidden": true
   },
   "outputs": [],
   "source": [
    "%%time\n",
    "retval  = simulate(kPDE=0.0002,\n",
    "         LPDE=100,\n",
    "         c0=4, T=21,\n",
    "         iter_no=3, dt=.1, time_res=10)"
   ]
  },
  {
   "cell_type": "markdown",
   "metadata": {
    "hidden": true
   },
   "source": [
    "Printing Inputs:<br>\n",
    "{kPDE:0.02,LPDE:100,c0:10,T:15,iter_no:1,dt:0.0005,time_res:10}<br>\n",
    "<br>\n",
    "Printing Outputs:<br>\n",
    "cycle_no, 100.0, 200.0, 300.0<br>\n",
    "0,-0.9888888888888889,0.0,0.0<br>\n",
    "CPU times: user 2min 37s, sys: 710 ms, total: 2min 38s<br>\n",
    "Wall time: 2min 39s<br>\n"
   ]
  },
  {
   "cell_type": "markdown",
   "metadata": {
    "heading_collapsed": true,
    "hidden": true
   },
   "source": [
    "### scratcwerk"
   ]
  },
  {
   "cell_type": "code",
   "execution_count": 34,
   "metadata": {
    "hidden": true
   },
   "outputs": [
    {
     "ename": "SyntaxError",
     "evalue": "invalid syntax (<ipython-input-34-d490c5ee4da8>, line 3)",
     "output_type": "error",
     "traceback": [
      "\u001b[0;36m  File \u001b[0;32m\"<ipython-input-34-d490c5ee4da8>\"\u001b[0;36m, line \u001b[0;32m3\u001b[0m\n\u001b[0;31m    executable = ../scalingup-python-wrapper.sh\u001b[0m\n\u001b[0m                 ^\u001b[0m\n\u001b[0;31mSyntaxError\u001b[0m\u001b[0;31m:\u001b[0m invalid syntax\n"
     ]
    }
   ],
   "source": [
    "#TEMPLATE:ScalingUp-PythonCals.submit\n",
    "\n",
    "executable = ../scalingup-python-wrapper.sh\n",
    "arguments = $(kPDE) $(LPDE) $(c0) $(T) $(iter_no), $(dt) $(time_res)\n",
    "\n",
    "transfer_input_files = ../rosen_brock_brute_opt.py\n",
    " \n",
    "output = Log/job.out.$(Cluster).$(Process)\n",
    "error = Log/job.error.$(Cluster).$(Process)\n",
    "log = Log/job.log.$(Cluster).$(Process)\n",
    "   \n",
    "request_cpus = 1\n",
    "request_memory = 1 GB\n",
    "request_disk = 1 GB\n",
    "Requirements = OSGVO_OS_STRING == \"RHEL 6\" && TARGET.Arch == \"X86_64\" && HAS_MODULES == True \n",
    "\n",
    "on_exit_hold = (ExitBySignal == True) || (ExitCode != 0)\n",
    "PeriodicRelease = ( (CurrentTime - EnteredCurrentStatus) > 120 ) && (NumJobStarts < 5)\n",
    "\n",
    "\n",
    "queue kPDE LPDE c0 T iter_no dt time_res from (\n",
    "-9 9 -9 9 \n",
    "-8 8 -8 8 \n",
    "-7 7 -7 7 \n",
    "-6 6 -6 6 \n",
    "-5 5 -5 5 \n",
    "-4 4 -4 4 \n",
    "-3 3 -3 3 \n",
    "-2 2 -2 2 \n",
    "-1 1 -1 1 \n",
    ")"
   ]
  },
  {
   "cell_type": "markdown",
   "metadata": {
    "heading_collapsed": true
   },
   "source": [
    "# visually test the mg_source\n",
    "ERROR THROUGH OUT OSG OUTPUT DATA PRIOR TO 1PM 4.9.2020<br>\n",
    "It appears that I was using inconsistant time units?\n",
    "I'll need to rerun everything ASAP"
   ]
  },
  {
   "cell_type": "code",
   "execution_count": 5,
   "metadata": {
    "hidden": true
   },
   "outputs": [
    {
     "data": {
      "image/png": "[encoded data removed]",
      "text/plain": [
       "<Figure size 288x216 with 1 Axes>"
      ]
     },
     "metadata": {
      "needs_background": "light"
     },
     "output_type": "display_data"
    }
   ],
   "source": [
    "#plot the source\n",
    "period=21\n",
    "spl = import_mg_source(period=period)\n",
    "tv = np.arange(0,2*period,0.005)#min\n",
    "yv = spl(tv*60)\n",
    "\n",
    "fig, ax = plt.subplots(figsize = (4,3))\n",
    "fontsize= 14\n",
    "plt.scatter(x=tv, y=yv, s=10, c='k')#seconds as argument\n",
    "#format plot\n",
    "ax.set_xlabel('t (min)', fontsize=fontsize, fontweight='bold')\n",
    "ax.set_ylabel('f(t)', fontsize=fontsize, fontweight='bold')   \n",
    "# ax.set_xscale('log')\n",
    "# ax.set_yscale('log')\n",
    "\n",
    "# ax.axis([0.0001, .7, 10, 1000])\n",
    "#   make ticks bold\n",
    "ax.tick_params(width=2, length=5, which='both')\n",
    "for tick in ax.xaxis.get_major_ticks():\n",
    "    tick.label1.set_fontsize(fontsize)\n",
    "    tick.label1.set_fontweight('bold')\n",
    "for tick in ax.yaxis.get_major_ticks():\n",
    "    tick.label1.set_fontsize(fontsize)\n",
    "    tick.label1.set_fontweight('bold')\n",
    "ax.tick_params(axis='both', which='major', labelsize=fontsize)\n",
    "fig.savefig('../fig/mg_source_1987_T_21_sf.png')"
   ]
  },
  {
   "cell_type": "code",
   "execution_count": null,
   "metadata": {
    "hidden": true
   },
   "outputs": [],
   "source": [
    "# t_list  = np.around(np.arange(0,Ts+dt,dt),4)\n",
    "# spl     = import_mg_source()\n",
    "# dsource = evaluate_mg_source(spl, t_list)\n",
    "# phi     = lambda t: F0*dsource[np.around(t,4)]/rmesh[0]\n",
    "\n"
   ]
  },
  {
   "cell_type": "code",
   "execution_count": 23,
   "metadata": {
    "hidden": true
   },
   "outputs": [
    {
     "name": "stdout",
     "output_type": "stream",
     "text": [
      "total integrated f(t) for 1 pulse is 1.9979758062770858 minutes.\n"
     ]
    }
   ],
   "source": [
    "print(f\"total integrated f(t) for 1 pulse is {sum(yv)/2*0.005} minutes.\")"
   ]
  },
  {
   "cell_type": "code",
   "execution_count": 117,
   "metadata": {
    "hidden": true
   },
   "outputs": [],
   "source": [
    "# mg_scaled_fn = source_fn\n",
    "# nn   = 3 #order of B spline interpolation\n",
    "# period = 21#minutes\n",
    "# #updated\n",
    "# def import_mg_source(mg_scaled_fn='mg_source_1987.csv', nn = 3, period=21, ):\n",
    "#     df = pd.read_csv(mg_scaled_fn)\n",
    "#     t_values = df.times.values\n",
    "#     a_values = df.synth_rate.values\n",
    "#     spl = BSpline(t_values, a_values, nn, extrapolate='True')\n",
    "#     Dt= 0.0005#minutes\n",
    "#     t_list = np.arange(0,11,Dt)#minutes\n",
    "#     c_list = spl(t_list)\n",
    "#     t_list_2 = np.arange(11,period+Dt,Dt)\n",
    "#     c_list_2 = 0*t_list_2#append zeros so vector is of period duration\n",
    "#     #assumption that spl(11)~1e-5 is sufficiently close to zero\n",
    "#     t_list = np.concatenate([t_list,t_list_2])*60#seconds as argument\n",
    "#     c_list = np.concatenate([c_list,c_list_2])\n",
    "#     spl2   = BSpline(t_list, c_list, nn, extrapolate='periodic')\n",
    "#     return spl2\n",
    "\n",
    "# # c_list = evaluate_mg_source(foo, t_list)\n"
   ]
  },
  {
   "cell_type": "code",
   "execution_count": 80,
   "metadata": {
    "hidden": true
   },
   "outputs": [],
   "source": [
    "#DONE: make spline function take time in units of seconds\n",
    "#TODO: put source in pde_sim_worker.py, synch, and rerun the faster trial"
   ]
  },
  {
   "cell_type": "code",
   "execution_count": null,
   "metadata": {
    "hidden": true
   },
   "outputs": [],
   "source": []
  },
  {
   "cell_type": "code",
   "execution_count": null,
   "metadata": {
    "hidden": true
   },
   "outputs": [],
   "source": []
  }
 ],
 "metadata": {
  "kernelspec": {
   "display_name": "Python 3",
   "language": "python",
   "name": "python3"
  },
  "language_info": {
   "codemirror_mode": {
    "name": "ipython",
    "version": 3
   },
   "file_extension": ".py",
   "mimetype": "text/x-python",
   "name": "python",
   "nbconvert_exporter": "python",
   "pygments_lexer": "ipython3",
   "version": "3.7.3"
  },
  "toc": {
   "base_numbering": 1,
   "nav_menu": {},
   "number_sections": false,
   "sideBar": false,
   "skip_h1_title": false,
   "title_cell": "Table of Contents",
   "title_sidebar": "Contents",
   "toc_cell": false,
   "toc_position": {},
   "toc_section_display": false,
   "toc_window_display": false
  },
  "varInspector": {
   "cols": {
    "lenName": 16,
    "lenType": 16,
    "lenVar": 40
   },
   "kernels_config": {
    "python": {
     "delete_cmd_postfix": "",
     "delete_cmd_prefix": "del ",
     "library": "var_list.py",
     "varRefreshCmd": "print(var_dic_list())"
    },
    "r": {
     "delete_cmd_postfix": ") ",
     "delete_cmd_prefix": "rm(",
     "library": "var_list.r",
     "varRefreshCmd": "cat(var_dic_list()) "
    }
   },
   "types_to_exclude": [
    "module",
    "function",
    "builtin_function_or_method",
    "instance",
    "_Feature"
   ],
   "window_display": false
  }
 },
 "nbformat": 4,
 "nbformat_minor": 2
}
